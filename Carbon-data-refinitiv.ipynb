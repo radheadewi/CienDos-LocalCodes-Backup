{
 "cells": [
  {
   "cell_type": "code",
   "execution_count": null,
   "id": "39e1516d",
   "metadata": {},
   "outputs": [],
   "source": [
    "import refinitiv.dataplatform.eikon as ek\n",
    "\n",
    "ek.set_app_key('DEFAULT_CODE_BOOK_APP_KEY')"
   ]
  },
  {
   "cell_type": "code",
   "execution_count": null,
   "id": "15eb5382",
   "metadata": {},
   "outputs": [],
   "source": [
    "# Example for controversy scores\n",
    "df, errors = ek.get_data(\"BARC.L\", [\"TR.TRESGCControversiesScoreGrade\", \"TR.TRESGCControversiesScore\", \"TR.TRESGCControversiesScore.date\"],\n",
    "                         parameters = {\"SDate\": \"0\", \"EDate\":\"-10\"})\n",
    "display(df)"
   ]
  },
  {
   "cell_type": "code",
   "execution_count": null,
   "id": "9cff2831",
   "metadata": {},
   "outputs": [],
   "source": [
    "df, errors = ek.get_data(\"CPI.L\", [\"TR.CO2DirectScope1\", \"TR.CO2DirectScope1.date\", \"TR.CO2IndirectScope2\", \"TR.CO2IndirectScope2.date\"],\n",
    "                         parameters = {\"SDate\": \"0\", \"EDate\":\"-10\"})\n",
    "df"
   ]
  },
  {
   "cell_type": "code",
   "execution_count": 1,
   "id": "ebe35cfe",
   "metadata": {},
   "outputs": [],
   "source": [
    "import refinitiv.data as rd\n",
    "\n",
    "session = rd.session.platform.Definition(\n",
    "    app_key = \"653fffc218444c2c9f52f5855dfa2f5aa340ac78\", \n",
    "    grant = rd.session.platform.GrantPassword(\n",
    "        username = \"s2276837@ed.ac.uk\", \n",
    "        password = \"Misty@2023\"\n",
    "    )\n",
    ").get_session()\n",
    " \n",
    "session.open()\n",
    " \n",
    "rd.session.set_default(session)"
   ]
  },
  {
   "cell_type": "code",
   "execution_count": 8,
   "id": "fb766102",
   "metadata": {},
   "outputs": [
    {
     "name": "stdout",
     "output_type": "stream",
     "text": [
      "         RIC\n",
      "0       <NA>\n",
      "1      MKS.L\n",
      "2       <NA>\n",
      "3   0#MKSF-:\n",
      "4   0#MKSF2:\n",
      "5  0#MKSF2-:\n",
      "6   0#MKSF3:\n",
      "7    0#MKSF:\n",
      "8   0#MKSaf:\n",
      "9    0#MKSD:\n"
     ]
    }
   ],
   "source": [
    "from refinitiv.data.content import search\n",
    "\n",
    "response = search.Definition(\n",
    "    query=\"MARKS AND SPENCER\",\n",
    "    select=\"RIC\",\n",
    ").get_data()\n",
    "\n",
    "print(response.data.df.to_string())"
   ]
  },
  {
   "cell_type": "code",
   "execution_count": null,
   "id": "d4c561e0",
   "metadata": {},
   "outputs": [],
   "source": []
  }
 ],
 "metadata": {
  "kernelspec": {
   "display_name": "Python 3 (ipykernel)",
   "language": "python",
   "name": "python3"
  },
  "language_info": {
   "codemirror_mode": {
    "name": "ipython",
    "version": 3
   },
   "file_extension": ".py",
   "mimetype": "text/x-python",
   "name": "python",
   "nbconvert_exporter": "python",
   "pygments_lexer": "ipython3",
   "version": "3.10.9"
  }
 },
 "nbformat": 4,
 "nbformat_minor": 5
}
