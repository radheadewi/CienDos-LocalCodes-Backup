{
 "cells": [
  {
   "cell_type": "markdown",
   "id": "bf3f43fa",
   "metadata": {},
   "source": [
    "Key findings within this notebook experiment:\n",
    "\n",
    "Features used: 15 features without categorical vars\n",
    "1. Linear models do not produce good prediction\n",
    "2. Ensemble models produce better prediction (random forests reached 40%) with bare minimum features\n",
    "\n",
    "Next steps:\n",
    "1. Feature engineering (polynomial features, add more features, etc)\n",
    "2. Cross-validation test => for validation set\n",
    "3. Do feature importance and coefficients per industry"
   ]
  },
  {
   "cell_type": "code",
   "execution_count": 1,
   "id": "e491f8f9",
   "metadata": {},
   "outputs": [],
   "source": [
    "import pandas as pd\n",
    "pd.options.display.max_columns = None\n",
    "pd.set_option('display.max_rows', 20)"
   ]
  },
  {
   "cell_type": "code",
   "execution_count": 87,
   "id": "524d84d2",
   "metadata": {},
   "outputs": [],
   "source": [
    "scores_table_in_company = pd.read_csv(\"feature-eng-data/scores_table_in_company.csv\", low_memory=False)"
   ]
  },
  {
   "cell_type": "code",
   "execution_count": 88,
   "id": "13693474",
   "metadata": {},
   "outputs": [
    {
     "data": {
      "text/plain": [
       "(879, 27)"
      ]
     },
     "execution_count": 88,
     "metadata": {},
     "output_type": "execute_result"
    }
   ],
   "source": [
    "scores_table_in_company.shape"
   ]
  },
  {
   "cell_type": "code",
   "execution_count": 89,
   "id": "944fef2a",
   "metadata": {},
   "outputs": [
    {
     "data": {
      "text/html": [
       "<div>\n",
       "<style scoped>\n",
       "    .dataframe tbody tr th:only-of-type {\n",
       "        vertical-align: middle;\n",
       "    }\n",
       "\n",
       "    .dataframe tbody tr th {\n",
       "        vertical-align: top;\n",
       "    }\n",
       "\n",
       "    .dataframe thead th {\n",
       "        text-align: right;\n",
       "    }\n",
       "</style>\n",
       "<table border=\"1\" class=\"dataframe\">\n",
       "  <thead>\n",
       "    <tr style=\"text-align: right;\">\n",
       "      <th></th>\n",
       "      <th>CompanyNumber</th>\n",
       "      <th>RegAddress_PostCode</th>\n",
       "      <th>CompanyCategory</th>\n",
       "      <th>CompanyStatus</th>\n",
       "      <th>CountryOfOrigin</th>\n",
       "      <th>SIC</th>\n",
       "      <th>AssetsM</th>\n",
       "      <th>EstAssetsM</th>\n",
       "      <th>TurnoverM</th>\n",
       "      <th>EstTurnoverM</th>\n",
       "      <th>FTE</th>\n",
       "      <th>EstFTE</th>\n",
       "      <th>CalculationType</th>\n",
       "      <th>IR_CO2ePerAssetsM</th>\n",
       "      <th>IR_CO2ePerTurnoverM</th>\n",
       "      <th>IR_CO2ePerFTE</th>\n",
       "      <th>DefraRatio</th>\n",
       "      <th>NormalisedIrCO2ePerAssetsM</th>\n",
       "      <th>NormalisedIrCO2ePerTurnoverM</th>\n",
       "      <th>NormalisedIrCO2ePerFTE</th>\n",
       "      <th>ScoreC1a</th>\n",
       "      <th>ScoreC1t</th>\n",
       "      <th>ScoreC1f</th>\n",
       "      <th>ScoreC2</th>\n",
       "      <th>ScoreC1</th>\n",
       "      <th>S1S2TesCO2eEst</th>\n",
       "      <th>S1S2CO2e</th>\n",
       "    </tr>\n",
       "  </thead>\n",
       "  <tbody>\n",
       "    <tr>\n",
       "      <th>0</th>\n",
       "      <td>00019457</td>\n",
       "      <td>M22 5TG</td>\n",
       "      <td>Public Limited Company</td>\n",
       "      <td>Active</td>\n",
       "      <td>United Kingdom</td>\n",
       "      <td>329</td>\n",
       "      <td>3152.0</td>\n",
       "      <td>0.038998</td>\n",
       "      <td>603.3</td>\n",
       "      <td>1.571170</td>\n",
       "      <td>3152.0</td>\n",
       "      <td>4.0</td>\n",
       "      <td>Actuals</td>\n",
       "      <td>0.060444</td>\n",
       "      <td>0.078988</td>\n",
       "      <td>0.015111</td>\n",
       "      <td>1.3750</td>\n",
       "      <td>88.414665</td>\n",
       "      <td>39.608</td>\n",
       "      <td>7.726939</td>\n",
       "      <td>10.0</td>\n",
       "      <td>10.0</td>\n",
       "      <td>9.0</td>\n",
       "      <td>9.0</td>\n",
       "      <td>9.0</td>\n",
       "      <td>4.752723</td>\n",
       "      <td>47.63</td>\n",
       "    </tr>\n",
       "    <tr>\n",
       "      <th>1</th>\n",
       "      <td>00024869</td>\n",
       "      <td>GL3 4AW</td>\n",
       "      <td>Public Limited Company</td>\n",
       "      <td>Active</td>\n",
       "      <td>United Kingdom</td>\n",
       "      <td>6512</td>\n",
       "      <td>1048.0</td>\n",
       "      <td>0.073508</td>\n",
       "      <td>486.0</td>\n",
       "      <td>1.357635</td>\n",
       "      <td>1048.0</td>\n",
       "      <td>4.0</td>\n",
       "      <td>Actuals</td>\n",
       "      <td>0.253968</td>\n",
       "      <td>0.954733</td>\n",
       "      <td>0.442748</td>\n",
       "      <td>0.0375</td>\n",
       "      <td>88.414665</td>\n",
       "      <td>39.608</td>\n",
       "      <td>7.726939</td>\n",
       "      <td>10.0</td>\n",
       "      <td>9.0</td>\n",
       "      <td>8.0</td>\n",
       "      <td>6.0</td>\n",
       "      <td>9.0</td>\n",
       "      <td>1.300129</td>\n",
       "      <td>269.00</td>\n",
       "    </tr>\n",
       "    <tr>\n",
       "      <th>2</th>\n",
       "      <td>00029559</td>\n",
       "      <td>TN15 7AE</td>\n",
       "      <td>Public Limited Company</td>\n",
       "      <td>Active</td>\n",
       "      <td>United Kingdom</td>\n",
       "      <td>701</td>\n",
       "      <td>76060.0</td>\n",
       "      <td>0.149742</td>\n",
       "      <td>291.2</td>\n",
       "      <td>8.971006</td>\n",
       "      <td>76060.0</td>\n",
       "      <td>2.0</td>\n",
       "      <td>Actuals</td>\n",
       "      <td>516.260563</td>\n",
       "      <td>755.762887</td>\n",
       "      <td>2.891494</td>\n",
       "      <td>0.3750</td>\n",
       "      <td>88.414665</td>\n",
       "      <td>39.608</td>\n",
       "      <td>7.726939</td>\n",
       "      <td>2.0</td>\n",
       "      <td>1.0</td>\n",
       "      <td>5.0</td>\n",
       "      <td>2.0</td>\n",
       "      <td>2.0</td>\n",
       "      <td>4.977054</td>\n",
       "      <td>219927.00</td>\n",
       "    </tr>\n",
       "  </tbody>\n",
       "</table>\n",
       "</div>"
      ],
      "text/plain": [
       "  CompanyNumber RegAddress_PostCode         CompanyCategory CompanyStatus  \\\n",
       "0      00019457             M22 5TG  Public Limited Company        Active   \n",
       "1      00024869             GL3 4AW  Public Limited Company        Active   \n",
       "2      00029559            TN15 7AE  Public Limited Company        Active   \n",
       "\n",
       "  CountryOfOrigin   SIC  AssetsM  EstAssetsM  TurnoverM  EstTurnoverM  \\\n",
       "0  United Kingdom   329   3152.0    0.038998      603.3      1.571170   \n",
       "1  United Kingdom  6512   1048.0    0.073508      486.0      1.357635   \n",
       "2  United Kingdom   701  76060.0    0.149742      291.2      8.971006   \n",
       "\n",
       "       FTE  EstFTE CalculationType  IR_CO2ePerAssetsM  IR_CO2ePerTurnoverM  \\\n",
       "0   3152.0     4.0         Actuals           0.060444             0.078988   \n",
       "1   1048.0     4.0         Actuals           0.253968             0.954733   \n",
       "2  76060.0     2.0         Actuals         516.260563           755.762887   \n",
       "\n",
       "   IR_CO2ePerFTE  DefraRatio  NormalisedIrCO2ePerAssetsM  \\\n",
       "0       0.015111      1.3750                   88.414665   \n",
       "1       0.442748      0.0375                   88.414665   \n",
       "2       2.891494      0.3750                   88.414665   \n",
       "\n",
       "   NormalisedIrCO2ePerTurnoverM  NormalisedIrCO2ePerFTE  ScoreC1a  ScoreC1t  \\\n",
       "0                        39.608                7.726939      10.0      10.0   \n",
       "1                        39.608                7.726939      10.0       9.0   \n",
       "2                        39.608                7.726939       2.0       1.0   \n",
       "\n",
       "   ScoreC1f  ScoreC2  ScoreC1  S1S2TesCO2eEst   S1S2CO2e  \n",
       "0       9.0      9.0      9.0        4.752723      47.63  \n",
       "1       8.0      6.0      9.0        1.300129     269.00  \n",
       "2       5.0      2.0      2.0        4.977054  219927.00  "
      ]
     },
     "execution_count": 89,
     "metadata": {},
     "output_type": "execute_result"
    }
   ],
   "source": [
    "scores_table_in_company.head(3)"
   ]
  },
  {
   "cell_type": "code",
   "execution_count": 4,
   "id": "7f59e185",
   "metadata": {},
   "outputs": [
    {
     "data": {
      "text/plain": [
       "count    8.790000e+02\n",
       "mean     2.892892e+08\n",
       "std      8.503005e+09\n",
       "min      0.000000e+00\n",
       "25%      2.509600e+02\n",
       "50%      1.492600e+03\n",
       "75%      1.276200e+04\n",
       "max      2.520920e+11\n",
       "Name: S1S2CO2e, dtype: float64"
      ]
     },
     "execution_count": 4,
     "metadata": {},
     "output_type": "execute_result"
    }
   ],
   "source": [
    "scores_table_in_company[\"S1S2CO2e\"].describe()"
   ]
  },
  {
   "cell_type": "code",
   "execution_count": 5,
   "id": "526f82f1",
   "metadata": {},
   "outputs": [
    {
     "data": {
      "text/plain": [
       "<Axes: xlabel='S1S2CO2e'>"
      ]
     },
     "execution_count": 5,
     "metadata": {},
     "output_type": "execute_result"
    },
    {
     "data": {
      "image/png": "[encoded data removed]",
      "text/plain": [
       "<Figure size 640x480 with 1 Axes>"
      ]
     },
     "metadata": {},
     "output_type": "display_data"
    }
   ],
   "source": [
    "import seaborn as sns\n",
    "\n",
    "# assuming scores_table_in_company is your DataFrame\n",
    "sns.boxplot(x=scores_table_in_company[\"S1S2CO2e\"])"
   ]
  },
  {
   "cell_type": "code",
   "execution_count": 6,
   "id": "03aab791",
   "metadata": {},
   "outputs": [
    {
     "data": {
      "image/png": "[encoded data removed]",
      "text/plain": [
       "<Figure size 640x480 with 1 Axes>"
      ]
     },
     "metadata": {},
     "output_type": "display_data"
    }
   ],
   "source": [
    "import matplotlib.pyplot as plt\n",
    "\n",
    "# assuming scores_table_in_company is your DataFrame\n",
    "plt.boxplot(scores_table_in_company[\"S1S2CO2e\"].dropna())\n",
    "plt.show()"
   ]
  },
  {
   "cell_type": "code",
   "execution_count": 90,
   "id": "ff3048bf",
   "metadata": {},
   "outputs": [],
   "source": [
    "scores_table_in_company = scores_table_in_company[scores_table_in_company[\"S1S2CO2e\"]<500000]\n",
    "\n",
    "scores_table_in_company = scores_table_in_company[scores_table_in_company[\"AssetsM\"]<175216.5]"
   ]
  },
  {
   "cell_type": "code",
   "execution_count": 91,
   "id": "c7302740",
   "metadata": {},
   "outputs": [
    {
     "data": {
      "text/plain": [
       "(766, 27)"
      ]
     },
     "execution_count": 91,
     "metadata": {},
     "output_type": "execute_result"
    }
   ],
   "source": [
    "scores_table_in_company.shape"
   ]
  },
  {
   "cell_type": "code",
   "execution_count": 86,
   "id": "211df8d0",
   "metadata": {},
   "outputs": [
    {
     "data": {
      "image/png": "[encoded data removed]",
      "text/plain": [
       "<Figure size 640x480 with 1 Axes>"
      ]
     },
     "metadata": {},
     "output_type": "display_data"
    }
   ],
   "source": [
    "import matplotlib.pyplot as plt\n",
    "\n",
    "# assuming scores_table_in_company is your DataFrame\n",
    "plt.boxplot(scores_table_in_company[\"S1S2CO2e\"].dropna())\n",
    "plt.show()"
   ]
  },
  {
   "cell_type": "code",
   "execution_count": 92,
   "id": "a2f772e3",
   "metadata": {},
   "outputs": [],
   "source": [
    "scores_table_in_company_matrix = scores_table_in_company.drop(columns=[\"RegAddress_PostCode\", \"CompanyCategory\", \"CompanyStatus\", \"CountryOfOrigin\"])\n",
    "\n",
    "# set 'CompanyNumber' as the index\n",
    "scores_table_in_company_matrix.set_index('CompanyNumber', inplace=True)"
   ]
  },
  {
   "cell_type": "code",
   "execution_count": 93,
   "id": "e78df10b",
   "metadata": {},
   "outputs": [
    {
     "data": {
      "text/html": [
       "<div>\n",
       "<style scoped>\n",
       "    .dataframe tbody tr th:only-of-type {\n",
       "        vertical-align: middle;\n",
       "    }\n",
       "\n",
       "    .dataframe tbody tr th {\n",
       "        vertical-align: top;\n",
       "    }\n",
       "\n",
       "    .dataframe thead th {\n",
       "        text-align: right;\n",
       "    }\n",
       "</style>\n",
       "<table border=\"1\" class=\"dataframe\">\n",
       "  <thead>\n",
       "    <tr style=\"text-align: right;\">\n",
       "      <th></th>\n",
       "      <th>SIC</th>\n",
       "      <th>AssetsM</th>\n",
       "      <th>EstAssetsM</th>\n",
       "      <th>TurnoverM</th>\n",
       "      <th>EstTurnoverM</th>\n",
       "      <th>FTE</th>\n",
       "      <th>EstFTE</th>\n",
       "      <th>CalculationType</th>\n",
       "      <th>IR_CO2ePerAssetsM</th>\n",
       "      <th>IR_CO2ePerTurnoverM</th>\n",
       "      <th>IR_CO2ePerFTE</th>\n",
       "      <th>DefraRatio</th>\n",
       "      <th>NormalisedIrCO2ePerAssetsM</th>\n",
       "      <th>NormalisedIrCO2ePerTurnoverM</th>\n",
       "      <th>NormalisedIrCO2ePerFTE</th>\n",
       "      <th>ScoreC1a</th>\n",
       "      <th>ScoreC1t</th>\n",
       "      <th>ScoreC1f</th>\n",
       "      <th>ScoreC2</th>\n",
       "      <th>ScoreC1</th>\n",
       "      <th>S1S2TesCO2eEst</th>\n",
       "      <th>S1S2CO2e</th>\n",
       "    </tr>\n",
       "    <tr>\n",
       "      <th>CompanyNumber</th>\n",
       "      <th></th>\n",
       "      <th></th>\n",
       "      <th></th>\n",
       "      <th></th>\n",
       "      <th></th>\n",
       "      <th></th>\n",
       "      <th></th>\n",
       "      <th></th>\n",
       "      <th></th>\n",
       "      <th></th>\n",
       "      <th></th>\n",
       "      <th></th>\n",
       "      <th></th>\n",
       "      <th></th>\n",
       "      <th></th>\n",
       "      <th></th>\n",
       "      <th></th>\n",
       "      <th></th>\n",
       "      <th></th>\n",
       "      <th></th>\n",
       "      <th></th>\n",
       "      <th></th>\n",
       "    </tr>\n",
       "  </thead>\n",
       "  <tbody>\n",
       "    <tr>\n",
       "      <th>00019457</th>\n",
       "      <td>329</td>\n",
       "      <td>3152.0</td>\n",
       "      <td>0.038998</td>\n",
       "      <td>603.300000</td>\n",
       "      <td>1.571170</td>\n",
       "      <td>3152.0</td>\n",
       "      <td>4.0</td>\n",
       "      <td>Actuals</td>\n",
       "      <td>0.060444</td>\n",
       "      <td>0.078988</td>\n",
       "      <td>0.015111</td>\n",
       "      <td>1.3750</td>\n",
       "      <td>88.414665</td>\n",
       "      <td>39.608</td>\n",
       "      <td>7.726939</td>\n",
       "      <td>10.0</td>\n",
       "      <td>10.0</td>\n",
       "      <td>9.0</td>\n",
       "      <td>9.0</td>\n",
       "      <td>9.0</td>\n",
       "      <td>4.752723</td>\n",
       "      <td>47.63</td>\n",
       "    </tr>\n",
       "    <tr>\n",
       "      <th>00024869</th>\n",
       "      <td>6512</td>\n",
       "      <td>1048.0</td>\n",
       "      <td>0.073508</td>\n",
       "      <td>486.000000</td>\n",
       "      <td>1.357635</td>\n",
       "      <td>1048.0</td>\n",
       "      <td>4.0</td>\n",
       "      <td>Actuals</td>\n",
       "      <td>0.253968</td>\n",
       "      <td>0.954733</td>\n",
       "      <td>0.442748</td>\n",
       "      <td>0.0375</td>\n",
       "      <td>88.414665</td>\n",
       "      <td>39.608</td>\n",
       "      <td>7.726939</td>\n",
       "      <td>10.0</td>\n",
       "      <td>9.0</td>\n",
       "      <td>8.0</td>\n",
       "      <td>6.0</td>\n",
       "      <td>9.0</td>\n",
       "      <td>1.300129</td>\n",
       "      <td>269.00</td>\n",
       "    </tr>\n",
       "    <tr>\n",
       "      <th>00029559</th>\n",
       "      <td>701</td>\n",
       "      <td>76060.0</td>\n",
       "      <td>0.149742</td>\n",
       "      <td>291.200000</td>\n",
       "      <td>8.971006</td>\n",
       "      <td>76060.0</td>\n",
       "      <td>2.0</td>\n",
       "      <td>Actuals</td>\n",
       "      <td>516.260563</td>\n",
       "      <td>755.762887</td>\n",
       "      <td>2.891494</td>\n",
       "      <td>0.3750</td>\n",
       "      <td>88.414665</td>\n",
       "      <td>39.608</td>\n",
       "      <td>7.726939</td>\n",
       "      <td>2.0</td>\n",
       "      <td>1.0</td>\n",
       "      <td>5.0</td>\n",
       "      <td>2.0</td>\n",
       "      <td>2.0</td>\n",
       "      <td>4.977054</td>\n",
       "      <td>219927.00</td>\n",
       "    </tr>\n",
       "    <tr>\n",
       "      <th>00030226</th>\n",
       "      <td>1712</td>\n",
       "      <td>584.0</td>\n",
       "      <td>0.320794</td>\n",
       "      <td>104.600000</td>\n",
       "      <td>16.076656</td>\n",
       "      <td>584.0</td>\n",
       "      <td>10.0</td>\n",
       "      <td>Actuals</td>\n",
       "      <td>473.260870</td>\n",
       "      <td>373.200000</td>\n",
       "      <td>67.099315</td>\n",
       "      <td>6.6250</td>\n",
       "      <td>88.414665</td>\n",
       "      <td>39.608</td>\n",
       "      <td>7.726939</td>\n",
       "      <td>2.0</td>\n",
       "      <td>2.0</td>\n",
       "      <td>2.0</td>\n",
       "      <td>5.0</td>\n",
       "      <td>2.0</td>\n",
       "      <td>574.223656</td>\n",
       "      <td>39186.00</td>\n",
       "    </tr>\n",
       "    <tr>\n",
       "      <th>00033774</th>\n",
       "      <td>2059</td>\n",
       "      <td>4017.0</td>\n",
       "      <td>0.170615</td>\n",
       "      <td>15700.000000</td>\n",
       "      <td>13.853500</td>\n",
       "      <td>4017.0</td>\n",
       "      <td>4.0</td>\n",
       "      <td>Actuals</td>\n",
       "      <td>1866.017132</td>\n",
       "      <td>319.124586</td>\n",
       "      <td>1247.263132</td>\n",
       "      <td>3.8750</td>\n",
       "      <td>88.414665</td>\n",
       "      <td>39.608</td>\n",
       "      <td>7.726939</td>\n",
       "      <td>1.0</td>\n",
       "      <td>2.0</td>\n",
       "      <td>1.0</td>\n",
       "      <td>2.0</td>\n",
       "      <td>1.0</td>\n",
       "      <td>2426.440525</td>\n",
       "      <td>431311.00</td>\n",
       "    </tr>\n",
       "    <tr>\n",
       "      <th>...</th>\n",
       "      <td>...</td>\n",
       "      <td>...</td>\n",
       "      <td>...</td>\n",
       "      <td>...</td>\n",
       "      <td>...</td>\n",
       "      <td>...</td>\n",
       "      <td>...</td>\n",
       "      <td>...</td>\n",
       "      <td>...</td>\n",
       "      <td>...</td>\n",
       "      <td>...</td>\n",
       "      <td>...</td>\n",
       "      <td>...</td>\n",
       "      <td>...</td>\n",
       "      <td>...</td>\n",
       "      <td>...</td>\n",
       "      <td>...</td>\n",
       "      <td>...</td>\n",
       "      <td>...</td>\n",
       "      <td>...</td>\n",
       "      <td>...</td>\n",
       "      <td>...</td>\n",
       "    </tr>\n",
       "    <tr>\n",
       "      <th>SC334329</th>\n",
       "      <td>64202</td>\n",
       "      <td>381.0</td>\n",
       "      <td>20.194410</td>\n",
       "      <td>37.473996</td>\n",
       "      <td>NaN</td>\n",
       "      <td>381.0</td>\n",
       "      <td>NaN</td>\n",
       "      <td>Actuals</td>\n",
       "      <td>61.967019</td>\n",
       "      <td>33.135135</td>\n",
       "      <td>3.217848</td>\n",
       "      <td>0.0375</td>\n",
       "      <td>88.414665</td>\n",
       "      <td>39.608</td>\n",
       "      <td>7.726939</td>\n",
       "      <td>5.0</td>\n",
       "      <td>5.0</td>\n",
       "      <td>5.0</td>\n",
       "      <td>2.0</td>\n",
       "      <td>5.0</td>\n",
       "      <td>123.837290</td>\n",
       "      <td>0.00</td>\n",
       "    </tr>\n",
       "    <tr>\n",
       "      <th>SC367563</th>\n",
       "      <td>8299</td>\n",
       "      <td>1125.0</td>\n",
       "      <td>0.016182</td>\n",
       "      <td>108.500000</td>\n",
       "      <td>0.067786</td>\n",
       "      <td>1125.0</td>\n",
       "      <td>2.0</td>\n",
       "      <td>Actuals</td>\n",
       "      <td>5.116468</td>\n",
       "      <td>25.995413</td>\n",
       "      <td>2.518667</td>\n",
       "      <td>0.3750</td>\n",
       "      <td>88.414665</td>\n",
       "      <td>39.608</td>\n",
       "      <td>7.726939</td>\n",
       "      <td>8.0</td>\n",
       "      <td>5.0</td>\n",
       "      <td>5.0</td>\n",
       "      <td>6.0</td>\n",
       "      <td>6.0</td>\n",
       "      <td>1.148973</td>\n",
       "      <td>2272.20</td>\n",
       "    </tr>\n",
       "    <tr>\n",
       "      <th>SC419949</th>\n",
       "      <td>64921</td>\n",
       "      <td>0.0</td>\n",
       "      <td>0.000000</td>\n",
       "      <td>29.375452</td>\n",
       "      <td>68.728740</td>\n",
       "      <td>0.0</td>\n",
       "      <td>NaN</td>\n",
       "      <td>Actuals</td>\n",
       "      <td>20.503251</td>\n",
       "      <td>28.137931</td>\n",
       "      <td>0.000000</td>\n",
       "      <td>0.0375</td>\n",
       "      <td>88.414665</td>\n",
       "      <td>39.608</td>\n",
       "      <td>7.726939</td>\n",
       "      <td>7.0</td>\n",
       "      <td>5.0</td>\n",
       "      <td>NaN</td>\n",
       "      <td>2.0</td>\n",
       "      <td>6.0</td>\n",
       "      <td>132.280591</td>\n",
       "      <td>771.00</td>\n",
       "    </tr>\n",
       "    <tr>\n",
       "      <th>SC440783</th>\n",
       "      <td>1011</td>\n",
       "      <td>1330.0</td>\n",
       "      <td>17.117768</td>\n",
       "      <td>498.237572</td>\n",
       "      <td>17.698115</td>\n",
       "      <td>1330.0</td>\n",
       "      <td>NaN</td>\n",
       "      <td>Actuals</td>\n",
       "      <td>9889.035686</td>\n",
       "      <td>25.656627</td>\n",
       "      <td>9.606767</td>\n",
       "      <td>2.6250</td>\n",
       "      <td>88.414665</td>\n",
       "      <td>39.608</td>\n",
       "      <td>7.726939</td>\n",
       "      <td>1.0</td>\n",
       "      <td>5.0</td>\n",
       "      <td>3.0</td>\n",
       "      <td>5.0</td>\n",
       "      <td>3.0</td>\n",
       "      <td>760.275821</td>\n",
       "      <td>12715.00</td>\n",
       "    </tr>\n",
       "    <tr>\n",
       "      <th>SC578050</th>\n",
       "      <td>46431</td>\n",
       "      <td>0.0</td>\n",
       "      <td>0.000000</td>\n",
       "      <td>99.051884</td>\n",
       "      <td>NaN</td>\n",
       "      <td>0.0</td>\n",
       "      <td>NaN</td>\n",
       "      <td>Actuals</td>\n",
       "      <td>16.295030</td>\n",
       "      <td>1.242424</td>\n",
       "      <td>0.000000</td>\n",
       "      <td>1.2500</td>\n",
       "      <td>88.414665</td>\n",
       "      <td>39.608</td>\n",
       "      <td>7.726939</td>\n",
       "      <td>7.0</td>\n",
       "      <td>9.0</td>\n",
       "      <td>NaN</td>\n",
       "      <td>9.0</td>\n",
       "      <td>8.0</td>\n",
       "      <td>6554.077348</td>\n",
       "      <td>123.00</td>\n",
       "    </tr>\n",
       "  </tbody>\n",
       "</table>\n",
       "<p>766 rows × 22 columns</p>\n",
       "</div>"
      ],
      "text/plain": [
       "                 SIC  AssetsM  EstAssetsM     TurnoverM  EstTurnoverM  \\\n",
       "CompanyNumber                                                           \n",
       "00019457         329   3152.0    0.038998    603.300000      1.571170   \n",
       "00024869        6512   1048.0    0.073508    486.000000      1.357635   \n",
       "00029559         701  76060.0    0.149742    291.200000      8.971006   \n",
       "00030226        1712    584.0    0.320794    104.600000     16.076656   \n",
       "00033774        2059   4017.0    0.170615  15700.000000     13.853500   \n",
       "...              ...      ...         ...           ...           ...   \n",
       "SC334329       64202    381.0   20.194410     37.473996           NaN   \n",
       "SC367563        8299   1125.0    0.016182    108.500000      0.067786   \n",
       "SC419949       64921      0.0    0.000000     29.375452     68.728740   \n",
       "SC440783        1011   1330.0   17.117768    498.237572     17.698115   \n",
       "SC578050       46431      0.0    0.000000     99.051884           NaN   \n",
       "\n",
       "                   FTE  EstFTE CalculationType  IR_CO2ePerAssetsM  \\\n",
       "CompanyNumber                                                       \n",
       "00019457        3152.0     4.0         Actuals           0.060444   \n",
       "00024869        1048.0     4.0         Actuals           0.253968   \n",
       "00029559       76060.0     2.0         Actuals         516.260563   \n",
       "00030226         584.0    10.0         Actuals         473.260870   \n",
       "00033774        4017.0     4.0         Actuals        1866.017132   \n",
       "...                ...     ...             ...                ...   \n",
       "SC334329         381.0     NaN         Actuals          61.967019   \n",
       "SC367563        1125.0     2.0         Actuals           5.116468   \n",
       "SC419949           0.0     NaN         Actuals          20.503251   \n",
       "SC440783        1330.0     NaN         Actuals        9889.035686   \n",
       "SC578050           0.0     NaN         Actuals          16.295030   \n",
       "\n",
       "               IR_CO2ePerTurnoverM  IR_CO2ePerFTE  DefraRatio  \\\n",
       "CompanyNumber                                                   \n",
       "00019457                  0.078988       0.015111      1.3750   \n",
       "00024869                  0.954733       0.442748      0.0375   \n",
       "00029559                755.762887       2.891494      0.3750   \n",
       "00030226                373.200000      67.099315      6.6250   \n",
       "00033774                319.124586    1247.263132      3.8750   \n",
       "...                            ...            ...         ...   \n",
       "SC334329                 33.135135       3.217848      0.0375   \n",
       "SC367563                 25.995413       2.518667      0.3750   \n",
       "SC419949                 28.137931       0.000000      0.0375   \n",
       "SC440783                 25.656627       9.606767      2.6250   \n",
       "SC578050                  1.242424       0.000000      1.2500   \n",
       "\n",
       "               NormalisedIrCO2ePerAssetsM  NormalisedIrCO2ePerTurnoverM  \\\n",
       "CompanyNumber                                                             \n",
       "00019457                        88.414665                        39.608   \n",
       "00024869                        88.414665                        39.608   \n",
       "00029559                        88.414665                        39.608   \n",
       "00030226                        88.414665                        39.608   \n",
       "00033774                        88.414665                        39.608   \n",
       "...                                   ...                           ...   \n",
       "SC334329                        88.414665                        39.608   \n",
       "SC367563                        88.414665                        39.608   \n",
       "SC419949                        88.414665                        39.608   \n",
       "SC440783                        88.414665                        39.608   \n",
       "SC578050                        88.414665                        39.608   \n",
       "\n",
       "               NormalisedIrCO2ePerFTE  ScoreC1a  ScoreC1t  ScoreC1f  ScoreC2  \\\n",
       "CompanyNumber                                                                  \n",
       "00019457                     7.726939      10.0      10.0       9.0      9.0   \n",
       "00024869                     7.726939      10.0       9.0       8.0      6.0   \n",
       "00029559                     7.726939       2.0       1.0       5.0      2.0   \n",
       "00030226                     7.726939       2.0       2.0       2.0      5.0   \n",
       "00033774                     7.726939       1.0       2.0       1.0      2.0   \n",
       "...                               ...       ...       ...       ...      ...   \n",
       "SC334329                     7.726939       5.0       5.0       5.0      2.0   \n",
       "SC367563                     7.726939       8.0       5.0       5.0      6.0   \n",
       "SC419949                     7.726939       7.0       5.0       NaN      2.0   \n",
       "SC440783                     7.726939       1.0       5.0       3.0      5.0   \n",
       "SC578050                     7.726939       7.0       9.0       NaN      9.0   \n",
       "\n",
       "               ScoreC1  S1S2TesCO2eEst   S1S2CO2e  \n",
       "CompanyNumber                                      \n",
       "00019457           9.0        4.752723      47.63  \n",
       "00024869           9.0        1.300129     269.00  \n",
       "00029559           2.0        4.977054  219927.00  \n",
       "00030226           2.0      574.223656   39186.00  \n",
       "00033774           1.0     2426.440525  431311.00  \n",
       "...                ...             ...        ...  \n",
       "SC334329           5.0      123.837290       0.00  \n",
       "SC367563           6.0        1.148973    2272.20  \n",
       "SC419949           6.0      132.280591     771.00  \n",
       "SC440783           3.0      760.275821   12715.00  \n",
       "SC578050           8.0     6554.077348     123.00  \n",
       "\n",
       "[766 rows x 22 columns]"
      ]
     },
     "execution_count": 93,
     "metadata": {},
     "output_type": "execute_result"
    }
   ],
   "source": [
    "scores_table_in_company_matrix"
   ]
  },
  {
   "cell_type": "code",
   "execution_count": 94,
   "id": "2fa52b2d",
   "metadata": {},
   "outputs": [
    {
     "data": {
      "text/plain": [
       "CompanyNumber\n",
       "00019457      329\n",
       "00024869     6512\n",
       "00029559      701\n",
       "00030226     1712\n",
       "00033774     2059\n",
       "            ...  \n",
       "SC334329    64202\n",
       "SC367563     8299\n",
       "SC419949    64921\n",
       "SC440783     1011\n",
       "SC578050    46431\n",
       "Name: SIC, Length: 766, dtype: object"
      ]
     },
     "execution_count": 94,
     "metadata": {},
     "output_type": "execute_result"
    }
   ],
   "source": [
    "scores_table_in_company_matrix_sic = scores_table_in_company_matrix[\"SIC\"]\n",
    "scores_table_in_company_matrix_sic"
   ]
  },
  {
   "cell_type": "code",
   "execution_count": 95,
   "id": "084fbafb",
   "metadata": {},
   "outputs": [
    {
     "data": {
      "text/plain": [
       "CompanyNumber\n",
       "00019457       4.752723\n",
       "00024869       1.300129\n",
       "00029559       4.977054\n",
       "00030226     574.223656\n",
       "00033774    2426.440525\n",
       "               ...     \n",
       "SC334329     123.837290\n",
       "SC367563       1.148973\n",
       "SC419949     132.280591\n",
       "SC440783     760.275821\n",
       "SC578050    6554.077348\n",
       "Name: S1S2TesCO2eEst, Length: 766, dtype: float64"
      ]
     },
     "execution_count": 95,
     "metadata": {},
     "output_type": "execute_result"
    }
   ],
   "source": [
    "scores_table_in_company_matrix_S1S2TesCO2eEst = scores_table_in_company_matrix[\"S1S2TesCO2eEst\"]\n",
    "scores_table_in_company_matrix_S1S2TesCO2eEst"
   ]
  },
  {
   "cell_type": "code",
   "execution_count": 99,
   "id": "865e22ea",
   "metadata": {},
   "outputs": [
    {
     "data": {
      "text/html": [
       "<div>\n",
       "<style scoped>\n",
       "    .dataframe tbody tr th:only-of-type {\n",
       "        vertical-align: middle;\n",
       "    }\n",
       "\n",
       "    .dataframe tbody tr th {\n",
       "        vertical-align: top;\n",
       "    }\n",
       "\n",
       "    .dataframe thead th {\n",
       "        text-align: right;\n",
       "    }\n",
       "</style>\n",
       "<table border=\"1\" class=\"dataframe\">\n",
       "  <thead>\n",
       "    <tr style=\"text-align: right;\">\n",
       "      <th></th>\n",
       "      <th>AssetsM</th>\n",
       "      <th>TurnoverM</th>\n",
       "      <th>FTE</th>\n",
       "      <th>CalculationType</th>\n",
       "      <th>IR_CO2ePerAssetsM</th>\n",
       "      <th>IR_CO2ePerTurnoverM</th>\n",
       "      <th>IR_CO2ePerFTE</th>\n",
       "      <th>DefraRatio</th>\n",
       "      <th>NormalisedIrCO2ePerAssetsM</th>\n",
       "      <th>NormalisedIrCO2ePerTurnoverM</th>\n",
       "      <th>NormalisedIrCO2ePerFTE</th>\n",
       "      <th>ScoreC1a</th>\n",
       "      <th>ScoreC1t</th>\n",
       "      <th>ScoreC1f</th>\n",
       "      <th>ScoreC2</th>\n",
       "      <th>ScoreC1</th>\n",
       "      <th>S1S2CO2e</th>\n",
       "    </tr>\n",
       "    <tr>\n",
       "      <th>CompanyNumber</th>\n",
       "      <th></th>\n",
       "      <th></th>\n",
       "      <th></th>\n",
       "      <th></th>\n",
       "      <th></th>\n",
       "      <th></th>\n",
       "      <th></th>\n",
       "      <th></th>\n",
       "      <th></th>\n",
       "      <th></th>\n",
       "      <th></th>\n",
       "      <th></th>\n",
       "      <th></th>\n",
       "      <th></th>\n",
       "      <th></th>\n",
       "      <th></th>\n",
       "      <th></th>\n",
       "    </tr>\n",
       "  </thead>\n",
       "  <tbody>\n",
       "    <tr>\n",
       "      <th>00019457</th>\n",
       "      <td>3152.0</td>\n",
       "      <td>603.3</td>\n",
       "      <td>3152.0</td>\n",
       "      <td>Actuals</td>\n",
       "      <td>0.060444</td>\n",
       "      <td>0.078988</td>\n",
       "      <td>0.015111</td>\n",
       "      <td>1.3750</td>\n",
       "      <td>88.414665</td>\n",
       "      <td>39.608</td>\n",
       "      <td>7.726939</td>\n",
       "      <td>10.0</td>\n",
       "      <td>10.0</td>\n",
       "      <td>9.0</td>\n",
       "      <td>9.0</td>\n",
       "      <td>9.0</td>\n",
       "      <td>47.63</td>\n",
       "    </tr>\n",
       "    <tr>\n",
       "      <th>00024869</th>\n",
       "      <td>1048.0</td>\n",
       "      <td>486.0</td>\n",
       "      <td>1048.0</td>\n",
       "      <td>Actuals</td>\n",
       "      <td>0.253968</td>\n",
       "      <td>0.954733</td>\n",
       "      <td>0.442748</td>\n",
       "      <td>0.0375</td>\n",
       "      <td>88.414665</td>\n",
       "      <td>39.608</td>\n",
       "      <td>7.726939</td>\n",
       "      <td>10.0</td>\n",
       "      <td>9.0</td>\n",
       "      <td>8.0</td>\n",
       "      <td>6.0</td>\n",
       "      <td>9.0</td>\n",
       "      <td>269.00</td>\n",
       "    </tr>\n",
       "    <tr>\n",
       "      <th>00029559</th>\n",
       "      <td>76060.0</td>\n",
       "      <td>291.2</td>\n",
       "      <td>76060.0</td>\n",
       "      <td>Actuals</td>\n",
       "      <td>516.260563</td>\n",
       "      <td>755.762887</td>\n",
       "      <td>2.891494</td>\n",
       "      <td>0.3750</td>\n",
       "      <td>88.414665</td>\n",
       "      <td>39.608</td>\n",
       "      <td>7.726939</td>\n",
       "      <td>2.0</td>\n",
       "      <td>1.0</td>\n",
       "      <td>5.0</td>\n",
       "      <td>2.0</td>\n",
       "      <td>2.0</td>\n",
       "      <td>219927.00</td>\n",
       "    </tr>\n",
       "    <tr>\n",
       "      <th>00030226</th>\n",
       "      <td>584.0</td>\n",
       "      <td>104.6</td>\n",
       "      <td>584.0</td>\n",
       "      <td>Actuals</td>\n",
       "      <td>473.260870</td>\n",
       "      <td>373.200000</td>\n",
       "      <td>67.099315</td>\n",
       "      <td>6.6250</td>\n",
       "      <td>88.414665</td>\n",
       "      <td>39.608</td>\n",
       "      <td>7.726939</td>\n",
       "      <td>2.0</td>\n",
       "      <td>2.0</td>\n",
       "      <td>2.0</td>\n",
       "      <td>5.0</td>\n",
       "      <td>2.0</td>\n",
       "      <td>39186.00</td>\n",
       "    </tr>\n",
       "    <tr>\n",
       "      <th>00033774</th>\n",
       "      <td>4017.0</td>\n",
       "      <td>15700.0</td>\n",
       "      <td>4017.0</td>\n",
       "      <td>Actuals</td>\n",
       "      <td>1866.017132</td>\n",
       "      <td>319.124586</td>\n",
       "      <td>1247.263132</td>\n",
       "      <td>3.8750</td>\n",
       "      <td>88.414665</td>\n",
       "      <td>39.608</td>\n",
       "      <td>7.726939</td>\n",
       "      <td>1.0</td>\n",
       "      <td>2.0</td>\n",
       "      <td>1.0</td>\n",
       "      <td>2.0</td>\n",
       "      <td>1.0</td>\n",
       "      <td>431311.00</td>\n",
       "    </tr>\n",
       "  </tbody>\n",
       "</table>\n",
       "</div>"
      ],
      "text/plain": [
       "               AssetsM  TurnoverM      FTE CalculationType  IR_CO2ePerAssetsM  \\\n",
       "CompanyNumber                                                                   \n",
       "00019457        3152.0      603.3   3152.0         Actuals           0.060444   \n",
       "00024869        1048.0      486.0   1048.0         Actuals           0.253968   \n",
       "00029559       76060.0      291.2  76060.0         Actuals         516.260563   \n",
       "00030226         584.0      104.6    584.0         Actuals         473.260870   \n",
       "00033774        4017.0    15700.0   4017.0         Actuals        1866.017132   \n",
       "\n",
       "               IR_CO2ePerTurnoverM  IR_CO2ePerFTE  DefraRatio  \\\n",
       "CompanyNumber                                                   \n",
       "00019457                  0.078988       0.015111      1.3750   \n",
       "00024869                  0.954733       0.442748      0.0375   \n",
       "00029559                755.762887       2.891494      0.3750   \n",
       "00030226                373.200000      67.099315      6.6250   \n",
       "00033774                319.124586    1247.263132      3.8750   \n",
       "\n",
       "               NormalisedIrCO2ePerAssetsM  NormalisedIrCO2ePerTurnoverM  \\\n",
       "CompanyNumber                                                             \n",
       "00019457                        88.414665                        39.608   \n",
       "00024869                        88.414665                        39.608   \n",
       "00029559                        88.414665                        39.608   \n",
       "00030226                        88.414665                        39.608   \n",
       "00033774                        88.414665                        39.608   \n",
       "\n",
       "               NormalisedIrCO2ePerFTE  ScoreC1a  ScoreC1t  ScoreC1f  ScoreC2  \\\n",
       "CompanyNumber                                                                  \n",
       "00019457                     7.726939      10.0      10.0       9.0      9.0   \n",
       "00024869                     7.726939      10.0       9.0       8.0      6.0   \n",
       "00029559                     7.726939       2.0       1.0       5.0      2.0   \n",
       "00030226                     7.726939       2.0       2.0       2.0      5.0   \n",
       "00033774                     7.726939       1.0       2.0       1.0      2.0   \n",
       "\n",
       "               ScoreC1   S1S2CO2e  \n",
       "CompanyNumber                      \n",
       "00019457           9.0      47.63  \n",
       "00024869           9.0     269.00  \n",
       "00029559           2.0  219927.00  \n",
       "00030226           2.0   39186.00  \n",
       "00033774           1.0  431311.00  "
      ]
     },
     "execution_count": 99,
     "metadata": {},
     "output_type": "execute_result"
    }
   ],
   "source": [
    "scores_table = scores_table_in_company_matrix.drop(columns=[\"SIC\", \"S1S2TesCO2eEst\", \"EstAssetsM\", \"EstTurnoverM\", \"EstFTE\"])\n",
    "scores_table.head()"
   ]
  },
  {
   "cell_type": "code",
   "execution_count": 100,
   "id": "cc6dbaa2",
   "metadata": {},
   "outputs": [
    {
     "name": "stdout",
     "output_type": "stream",
     "text": [
      "AssetsM                          0\n",
      "TurnoverM                        0\n",
      "FTE                              0\n",
      "CalculationType                  0\n",
      "IR_CO2ePerAssetsM                0\n",
      "IR_CO2ePerTurnoverM              0\n",
      "IR_CO2ePerFTE                    0\n",
      "DefraRatio                      10\n",
      "NormalisedIrCO2ePerAssetsM      10\n",
      "NormalisedIrCO2ePerTurnoverM    10\n",
      "NormalisedIrCO2ePerFTE          10\n",
      "ScoreC1a                         0\n",
      "ScoreC1t                         6\n",
      "ScoreC1f                        43\n",
      "ScoreC2                          7\n",
      "ScoreC1                          6\n",
      "S1S2CO2e                         0\n",
      "dtype: int64\n"
     ]
    }
   ],
   "source": [
    "missing_values = scores_table.isna().sum()\n",
    "print(missing_values)"
   ]
  },
  {
   "cell_type": "code",
   "execution_count": 101,
   "id": "d7a3688d",
   "metadata": {},
   "outputs": [
    {
     "data": {
      "text/html": [
       "<div>\n",
       "<style scoped>\n",
       "    .dataframe tbody tr th:only-of-type {\n",
       "        vertical-align: middle;\n",
       "    }\n",
       "\n",
       "    .dataframe tbody tr th {\n",
       "        vertical-align: top;\n",
       "    }\n",
       "\n",
       "    .dataframe thead th {\n",
       "        text-align: right;\n",
       "    }\n",
       "</style>\n",
       "<table border=\"1\" class=\"dataframe\">\n",
       "  <thead>\n",
       "    <tr style=\"text-align: right;\">\n",
       "      <th></th>\n",
       "      <th>AssetsM</th>\n",
       "      <th>TurnoverM</th>\n",
       "      <th>FTE</th>\n",
       "      <th>IR_CO2ePerAssetsM</th>\n",
       "      <th>IR_CO2ePerTurnoverM</th>\n",
       "      <th>IR_CO2ePerFTE</th>\n",
       "      <th>DefraRatio</th>\n",
       "      <th>NormalisedIrCO2ePerAssetsM</th>\n",
       "      <th>NormalisedIrCO2ePerTurnoverM</th>\n",
       "      <th>NormalisedIrCO2ePerFTE</th>\n",
       "      <th>ScoreC1a</th>\n",
       "      <th>ScoreC1t</th>\n",
       "      <th>ScoreC1f</th>\n",
       "      <th>ScoreC2</th>\n",
       "      <th>ScoreC1</th>\n",
       "      <th>S1S2CO2e</th>\n",
       "    </tr>\n",
       "  </thead>\n",
       "  <tbody>\n",
       "    <tr>\n",
       "      <th>count</th>\n",
       "      <td>766.000000</td>\n",
       "      <td>766.000000</td>\n",
       "      <td>766.000000</td>\n",
       "      <td>766.000000</td>\n",
       "      <td>766.000000</td>\n",
       "      <td>766.000000</td>\n",
       "      <td>756.000000</td>\n",
       "      <td>756.000000</td>\n",
       "      <td>7.560000e+02</td>\n",
       "      <td>7.560000e+02</td>\n",
       "      <td>766.000000</td>\n",
       "      <td>760.000000</td>\n",
       "      <td>723.000000</td>\n",
       "      <td>759.000000</td>\n",
       "      <td>760.000000</td>\n",
       "      <td>766.000000</td>\n",
       "    </tr>\n",
       "    <tr>\n",
       "      <th>mean</th>\n",
       "      <td>4289.134634</td>\n",
       "      <td>890.410810</td>\n",
       "      <td>4289.134634</td>\n",
       "      <td>723.249969</td>\n",
       "      <td>427.695733</td>\n",
       "      <td>99.173524</td>\n",
       "      <td>1.569726</td>\n",
       "      <td>88.414665</td>\n",
       "      <td>3.960800e+01</td>\n",
       "      <td>7.726939e+00</td>\n",
       "      <td>5.701044</td>\n",
       "      <td>5.800000</td>\n",
       "      <td>5.195021</td>\n",
       "      <td>5.069829</td>\n",
       "      <td>5.309211</td>\n",
       "      <td>21977.424722</td>\n",
       "    </tr>\n",
       "    <tr>\n",
       "      <th>std</th>\n",
       "      <td>14051.864906</td>\n",
       "      <td>3560.364803</td>\n",
       "      <td>14051.864906</td>\n",
       "      <td>8767.514069</td>\n",
       "      <td>8250.402957</td>\n",
       "      <td>876.718596</td>\n",
       "      <td>7.400178</td>\n",
       "      <td>0.000000</td>\n",
       "      <td>7.110131e-15</td>\n",
       "      <td>1.777533e-15</td>\n",
       "      <td>2.763095</td>\n",
       "      <td>2.726825</td>\n",
       "      <td>2.528919</td>\n",
       "      <td>2.174237</td>\n",
       "      <td>2.437718</td>\n",
       "      <td>64710.107373</td>\n",
       "    </tr>\n",
       "    <tr>\n",
       "      <th>min</th>\n",
       "      <td>0.000000</td>\n",
       "      <td>0.043317</td>\n",
       "      <td>0.000000</td>\n",
       "      <td>0.004295</td>\n",
       "      <td>0.000000</td>\n",
       "      <td>0.000000</td>\n",
       "      <td>0.037500</td>\n",
       "      <td>88.414665</td>\n",
       "      <td>3.960800e+01</td>\n",
       "      <td>7.726939e+00</td>\n",
       "      <td>1.000000</td>\n",
       "      <td>1.000000</td>\n",
       "      <td>1.000000</td>\n",
       "      <td>1.000000</td>\n",
       "      <td>1.000000</td>\n",
       "      <td>0.000000</td>\n",
       "    </tr>\n",
       "    <tr>\n",
       "      <th>25%</th>\n",
       "      <td>139.250000</td>\n",
       "      <td>45.613176</td>\n",
       "      <td>139.250000</td>\n",
       "      <td>10.202926</td>\n",
       "      <td>4.402509</td>\n",
       "      <td>0.705485</td>\n",
       "      <td>0.125000</td>\n",
       "      <td>88.414665</td>\n",
       "      <td>3.960800e+01</td>\n",
       "      <td>7.726939e+00</td>\n",
       "      <td>3.000000</td>\n",
       "      <td>3.000000</td>\n",
       "      <td>3.000000</td>\n",
       "      <td>4.000000</td>\n",
       "      <td>3.000000</td>\n",
       "      <td>223.000000</td>\n",
       "    </tr>\n",
       "    <tr>\n",
       "      <th>50%</th>\n",
       "      <td>460.500000</td>\n",
       "      <td>91.066500</td>\n",
       "      <td>460.500000</td>\n",
       "      <td>34.789544</td>\n",
       "      <td>16.950000</td>\n",
       "      <td>3.222714</td>\n",
       "      <td>0.375000</td>\n",
       "      <td>88.414665</td>\n",
       "      <td>3.960800e+01</td>\n",
       "      <td>7.726939e+00</td>\n",
       "      <td>6.000000</td>\n",
       "      <td>6.000000</td>\n",
       "      <td>5.000000</td>\n",
       "      <td>5.000000</td>\n",
       "      <td>5.000000</td>\n",
       "      <td>1216.850000</td>\n",
       "    </tr>\n",
       "    <tr>\n",
       "      <th>75%</th>\n",
       "      <td>1812.500000</td>\n",
       "      <td>350.050000</td>\n",
       "      <td>1812.500000</td>\n",
       "      <td>134.668474</td>\n",
       "      <td>52.877446</td>\n",
       "      <td>9.891508</td>\n",
       "      <td>0.875000</td>\n",
       "      <td>88.414665</td>\n",
       "      <td>3.960800e+01</td>\n",
       "      <td>7.726939e+00</td>\n",
       "      <td>8.000000</td>\n",
       "      <td>8.000000</td>\n",
       "      <td>7.000000</td>\n",
       "      <td>6.000000</td>\n",
       "      <td>7.000000</td>\n",
       "      <td>7210.260000</td>\n",
       "    </tr>\n",
       "    <tr>\n",
       "      <th>max</th>\n",
       "      <td>155000.000000</td>\n",
       "      <td>47150.000000</td>\n",
       "      <td>155000.000000</td>\n",
       "      <td>217037.037037</td>\n",
       "      <td>226923.741935</td>\n",
       "      <td>16847.666667</td>\n",
       "      <td>99.750000</td>\n",
       "      <td>88.414665</td>\n",
       "      <td>3.960800e+01</td>\n",
       "      <td>7.726939e+00</td>\n",
       "      <td>10.000000</td>\n",
       "      <td>10.000000</td>\n",
       "      <td>9.000000</td>\n",
       "      <td>10.000000</td>\n",
       "      <td>10.000000</td>\n",
       "      <td>454154.000000</td>\n",
       "    </tr>\n",
       "  </tbody>\n",
       "</table>\n",
       "</div>"
      ],
      "text/plain": [
       "             AssetsM     TurnoverM            FTE  IR_CO2ePerAssetsM  \\\n",
       "count     766.000000    766.000000     766.000000         766.000000   \n",
       "mean     4289.134634    890.410810    4289.134634         723.249969   \n",
       "std     14051.864906   3560.364803   14051.864906        8767.514069   \n",
       "min         0.000000      0.043317       0.000000           0.004295   \n",
       "25%       139.250000     45.613176     139.250000          10.202926   \n",
       "50%       460.500000     91.066500     460.500000          34.789544   \n",
       "75%      1812.500000    350.050000    1812.500000         134.668474   \n",
       "max    155000.000000  47150.000000  155000.000000      217037.037037   \n",
       "\n",
       "       IR_CO2ePerTurnoverM  IR_CO2ePerFTE  DefraRatio  \\\n",
       "count           766.000000     766.000000  756.000000   \n",
       "mean            427.695733      99.173524    1.569726   \n",
       "std            8250.402957     876.718596    7.400178   \n",
       "min               0.000000       0.000000    0.037500   \n",
       "25%               4.402509       0.705485    0.125000   \n",
       "50%              16.950000       3.222714    0.375000   \n",
       "75%              52.877446       9.891508    0.875000   \n",
       "max          226923.741935   16847.666667   99.750000   \n",
       "\n",
       "       NormalisedIrCO2ePerAssetsM  NormalisedIrCO2ePerTurnoverM  \\\n",
       "count                  756.000000                  7.560000e+02   \n",
       "mean                    88.414665                  3.960800e+01   \n",
       "std                      0.000000                  7.110131e-15   \n",
       "min                     88.414665                  3.960800e+01   \n",
       "25%                     88.414665                  3.960800e+01   \n",
       "50%                     88.414665                  3.960800e+01   \n",
       "75%                     88.414665                  3.960800e+01   \n",
       "max                     88.414665                  3.960800e+01   \n",
       "\n",
       "       NormalisedIrCO2ePerFTE    ScoreC1a    ScoreC1t    ScoreC1f     ScoreC2  \\\n",
       "count            7.560000e+02  766.000000  760.000000  723.000000  759.000000   \n",
       "mean             7.726939e+00    5.701044    5.800000    5.195021    5.069829   \n",
       "std              1.777533e-15    2.763095    2.726825    2.528919    2.174237   \n",
       "min              7.726939e+00    1.000000    1.000000    1.000000    1.000000   \n",
       "25%              7.726939e+00    3.000000    3.000000    3.000000    4.000000   \n",
       "50%              7.726939e+00    6.000000    6.000000    5.000000    5.000000   \n",
       "75%              7.726939e+00    8.000000    8.000000    7.000000    6.000000   \n",
       "max              7.726939e+00   10.000000   10.000000    9.000000   10.000000   \n",
       "\n",
       "          ScoreC1       S1S2CO2e  \n",
       "count  760.000000     766.000000  \n",
       "mean     5.309211   21977.424722  \n",
       "std      2.437718   64710.107373  \n",
       "min      1.000000       0.000000  \n",
       "25%      3.000000     223.000000  \n",
       "50%      5.000000    1216.850000  \n",
       "75%      7.000000    7210.260000  \n",
       "max     10.000000  454154.000000  "
      ]
     },
     "execution_count": 101,
     "metadata": {},
     "output_type": "execute_result"
    }
   ],
   "source": [
    "scores_table.describe()"
   ]
  },
  {
   "cell_type": "code",
   "execution_count": 102,
   "id": "2e941ac5",
   "metadata": {},
   "outputs": [
    {
     "name": "stdout",
     "output_type": "stream",
     "text": [
      "AssetsM                         0\n",
      "TurnoverM                       0\n",
      "FTE                             0\n",
      "CalculationType                 0\n",
      "IR_CO2ePerAssetsM               0\n",
      "IR_CO2ePerTurnoverM             0\n",
      "IR_CO2ePerFTE                   0\n",
      "DefraRatio                      0\n",
      "NormalisedIrCO2ePerAssetsM      0\n",
      "NormalisedIrCO2ePerTurnoverM    0\n",
      "NormalisedIrCO2ePerFTE          0\n",
      "ScoreC1a                        0\n",
      "ScoreC1t                        0\n",
      "ScoreC1f                        0\n",
      "ScoreC2                         0\n",
      "ScoreC1                         0\n",
      "S1S2CO2e                        0\n",
      "dtype: int64\n"
     ]
    },
    {
     "name": "stderr",
     "output_type": "stream",
     "text": [
      "/var/folders/p6/yvn5sdc10690vb5dljmbnblm0000gn/T/ipykernel_25879/559798791.py:2: FutureWarning: The default value of numeric_only in DataFrame.mean is deprecated. In a future version, it will default to False. In addition, specifying 'numeric_only=None' is deprecated. Select only valid columns or specify the value of numeric_only to silence this warning.\n",
      "  scores_table.fillna(scores_table.mean(), inplace=True)\n"
     ]
    }
   ],
   "source": [
    "# fill missing values with the mean of each column\n",
    "scores_table.fillna(scores_table.mean(), inplace=True)\n",
    "missing_values = scores_table.isna().sum()\n",
    "print(missing_values)"
   ]
  },
  {
   "cell_type": "code",
   "execution_count": 103,
   "id": "741f37de",
   "metadata": {},
   "outputs": [
    {
     "data": {
      "text/html": [
       "<div>\n",
       "<style scoped>\n",
       "    .dataframe tbody tr th:only-of-type {\n",
       "        vertical-align: middle;\n",
       "    }\n",
       "\n",
       "    .dataframe tbody tr th {\n",
       "        vertical-align: top;\n",
       "    }\n",
       "\n",
       "    .dataframe thead th {\n",
       "        text-align: right;\n",
       "    }\n",
       "</style>\n",
       "<table border=\"1\" class=\"dataframe\">\n",
       "  <thead>\n",
       "    <tr style=\"text-align: right;\">\n",
       "      <th></th>\n",
       "      <th>AssetsM</th>\n",
       "      <th>TurnoverM</th>\n",
       "      <th>FTE</th>\n",
       "      <th>CalculationType</th>\n",
       "      <th>IR_CO2ePerAssetsM</th>\n",
       "      <th>IR_CO2ePerTurnoverM</th>\n",
       "      <th>IR_CO2ePerFTE</th>\n",
       "      <th>DefraRatio</th>\n",
       "      <th>NormalisedIrCO2ePerAssetsM</th>\n",
       "      <th>NormalisedIrCO2ePerTurnoverM</th>\n",
       "      <th>NormalisedIrCO2ePerFTE</th>\n",
       "      <th>ScoreC1a</th>\n",
       "      <th>ScoreC1t</th>\n",
       "      <th>ScoreC1f</th>\n",
       "      <th>ScoreC2</th>\n",
       "      <th>ScoreC1</th>\n",
       "      <th>S1S2CO2e</th>\n",
       "    </tr>\n",
       "    <tr>\n",
       "      <th>CompanyNumber</th>\n",
       "      <th></th>\n",
       "      <th></th>\n",
       "      <th></th>\n",
       "      <th></th>\n",
       "      <th></th>\n",
       "      <th></th>\n",
       "      <th></th>\n",
       "      <th></th>\n",
       "      <th></th>\n",
       "      <th></th>\n",
       "      <th></th>\n",
       "      <th></th>\n",
       "      <th></th>\n",
       "      <th></th>\n",
       "      <th></th>\n",
       "      <th></th>\n",
       "      <th></th>\n",
       "    </tr>\n",
       "  </thead>\n",
       "  <tbody>\n",
       "    <tr>\n",
       "      <th>00019457</th>\n",
       "      <td>3152.0</td>\n",
       "      <td>603.3</td>\n",
       "      <td>3152.0</td>\n",
       "      <td>Actuals</td>\n",
       "      <td>0.060444</td>\n",
       "      <td>0.078988</td>\n",
       "      <td>0.015111</td>\n",
       "      <td>1.3750</td>\n",
       "      <td>88.414665</td>\n",
       "      <td>39.608</td>\n",
       "      <td>7.726939</td>\n",
       "      <td>10.0</td>\n",
       "      <td>10.0</td>\n",
       "      <td>9.0</td>\n",
       "      <td>9.0</td>\n",
       "      <td>9.0</td>\n",
       "      <td>47.63</td>\n",
       "    </tr>\n",
       "    <tr>\n",
       "      <th>00024869</th>\n",
       "      <td>1048.0</td>\n",
       "      <td>486.0</td>\n",
       "      <td>1048.0</td>\n",
       "      <td>Actuals</td>\n",
       "      <td>0.253968</td>\n",
       "      <td>0.954733</td>\n",
       "      <td>0.442748</td>\n",
       "      <td>0.0375</td>\n",
       "      <td>88.414665</td>\n",
       "      <td>39.608</td>\n",
       "      <td>7.726939</td>\n",
       "      <td>10.0</td>\n",
       "      <td>9.0</td>\n",
       "      <td>8.0</td>\n",
       "      <td>6.0</td>\n",
       "      <td>9.0</td>\n",
       "      <td>269.00</td>\n",
       "    </tr>\n",
       "    <tr>\n",
       "      <th>00029559</th>\n",
       "      <td>76060.0</td>\n",
       "      <td>291.2</td>\n",
       "      <td>76060.0</td>\n",
       "      <td>Actuals</td>\n",
       "      <td>516.260563</td>\n",
       "      <td>755.762887</td>\n",
       "      <td>2.891494</td>\n",
       "      <td>0.3750</td>\n",
       "      <td>88.414665</td>\n",
       "      <td>39.608</td>\n",
       "      <td>7.726939</td>\n",
       "      <td>2.0</td>\n",
       "      <td>1.0</td>\n",
       "      <td>5.0</td>\n",
       "      <td>2.0</td>\n",
       "      <td>2.0</td>\n",
       "      <td>219927.00</td>\n",
       "    </tr>\n",
       "    <tr>\n",
       "      <th>00030226</th>\n",
       "      <td>584.0</td>\n",
       "      <td>104.6</td>\n",
       "      <td>584.0</td>\n",
       "      <td>Actuals</td>\n",
       "      <td>473.260870</td>\n",
       "      <td>373.200000</td>\n",
       "      <td>67.099315</td>\n",
       "      <td>6.6250</td>\n",
       "      <td>88.414665</td>\n",
       "      <td>39.608</td>\n",
       "      <td>7.726939</td>\n",
       "      <td>2.0</td>\n",
       "      <td>2.0</td>\n",
       "      <td>2.0</td>\n",
       "      <td>5.0</td>\n",
       "      <td>2.0</td>\n",
       "      <td>39186.00</td>\n",
       "    </tr>\n",
       "    <tr>\n",
       "      <th>00033774</th>\n",
       "      <td>4017.0</td>\n",
       "      <td>15700.0</td>\n",
       "      <td>4017.0</td>\n",
       "      <td>Actuals</td>\n",
       "      <td>1866.017132</td>\n",
       "      <td>319.124586</td>\n",
       "      <td>1247.263132</td>\n",
       "      <td>3.8750</td>\n",
       "      <td>88.414665</td>\n",
       "      <td>39.608</td>\n",
       "      <td>7.726939</td>\n",
       "      <td>1.0</td>\n",
       "      <td>2.0</td>\n",
       "      <td>1.0</td>\n",
       "      <td>2.0</td>\n",
       "      <td>1.0</td>\n",
       "      <td>431311.00</td>\n",
       "    </tr>\n",
       "  </tbody>\n",
       "</table>\n",
       "</div>"
      ],
      "text/plain": [
       "               AssetsM  TurnoverM      FTE CalculationType  IR_CO2ePerAssetsM  \\\n",
       "CompanyNumber                                                                   \n",
       "00019457        3152.0      603.3   3152.0         Actuals           0.060444   \n",
       "00024869        1048.0      486.0   1048.0         Actuals           0.253968   \n",
       "00029559       76060.0      291.2  76060.0         Actuals         516.260563   \n",
       "00030226         584.0      104.6    584.0         Actuals         473.260870   \n",
       "00033774        4017.0    15700.0   4017.0         Actuals        1866.017132   \n",
       "\n",
       "               IR_CO2ePerTurnoverM  IR_CO2ePerFTE  DefraRatio  \\\n",
       "CompanyNumber                                                   \n",
       "00019457                  0.078988       0.015111      1.3750   \n",
       "00024869                  0.954733       0.442748      0.0375   \n",
       "00029559                755.762887       2.891494      0.3750   \n",
       "00030226                373.200000      67.099315      6.6250   \n",
       "00033774                319.124586    1247.263132      3.8750   \n",
       "\n",
       "               NormalisedIrCO2ePerAssetsM  NormalisedIrCO2ePerTurnoverM  \\\n",
       "CompanyNumber                                                             \n",
       "00019457                        88.414665                        39.608   \n",
       "00024869                        88.414665                        39.608   \n",
       "00029559                        88.414665                        39.608   \n",
       "00030226                        88.414665                        39.608   \n",
       "00033774                        88.414665                        39.608   \n",
       "\n",
       "               NormalisedIrCO2ePerFTE  ScoreC1a  ScoreC1t  ScoreC1f  ScoreC2  \\\n",
       "CompanyNumber                                                                  \n",
       "00019457                     7.726939      10.0      10.0       9.0      9.0   \n",
       "00024869                     7.726939      10.0       9.0       8.0      6.0   \n",
       "00029559                     7.726939       2.0       1.0       5.0      2.0   \n",
       "00030226                     7.726939       2.0       2.0       2.0      5.0   \n",
       "00033774                     7.726939       1.0       2.0       1.0      2.0   \n",
       "\n",
       "               ScoreC1   S1S2CO2e  \n",
       "CompanyNumber                      \n",
       "00019457           9.0      47.63  \n",
       "00024869           9.0     269.00  \n",
       "00029559           2.0  219927.00  \n",
       "00030226           2.0   39186.00  \n",
       "00033774           1.0  431311.00  "
      ]
     },
     "execution_count": 103,
     "metadata": {},
     "output_type": "execute_result"
    }
   ],
   "source": [
    "scores_table.head()"
   ]
  },
  {
   "cell_type": "code",
   "execution_count": 40,
   "id": "df9b3dce",
   "metadata": {},
   "outputs": [],
   "source": [
    "from sklearn.preprocessing import MinMaxScaler\n",
    "import numpy as np\n",
    "\n",
    "to_standardise = [\"AssetsM\", \"TurnoverM\", \"FTE\", \"IR_CO2ePerAssetsM\", \"IR_CO2ePerTurnoverM\", \"IR_CO2ePerFTE\", \"DefraRatio\", \"NormalisedIrCO2ePerAssetsM\", \"NormalisedIrCO2ePerTurnoverM\", \"NormalisedIrCO2ePerFTE\", \"ScoreC1a\", \"ScoreC1t\", \"ScoreC1f\", \"ScoreC2\", \"ScoreC1\", \"S1S2CO2e\"]\n",
    "columns_standardise = scores_table_in_company_matrix[to_standardise]\n",
    "columns_dummy = scores_table_in_company_matrix.drop(columns=scores_table_in_company_matrix[to_standardise]).values\n",
    "\n",
    "scaler = MinMaxScaler()\n",
    "normalised_columns_standardise = scaler.fit_transform(columns_standardise)\n",
    "\n",
    "S1S2CO2e = normalised_columns_standardise[:, -1]\n",
    "S1S2CO2e = S1S2CO2e.reshape(-1, 1)\n",
    "\n",
    "# drop the last column\n",
    "normalised_columns_standardise = np.delete(normalised_columns_standardise, -1, axis=1)\n",
    "\n",
    "# concatenate the arrays\n",
    "final_array = np.concatenate((normalised_columns_standardise, columns_dummy, S1S2CO2e), axis=1)"
   ]
  },
  {
   "cell_type": "code",
   "execution_count": 67,
   "id": "9c7a2cca",
   "metadata": {
    "scrolled": true
   },
   "outputs": [],
   "source": [
    "columns_standardise.to_excel(\"feature-eng-data/16_features.xlsx\")"
   ]
  },
  {
   "cell_type": "code",
   "execution_count": 41,
   "id": "17c6a7cb",
   "metadata": {},
   "outputs": [
    {
     "data": {
      "text/plain": [
       "(839, 1093)"
      ]
     },
     "execution_count": 41,
     "metadata": {},
     "output_type": "execute_result"
    }
   ],
   "source": [
    "final_array.shape"
   ]
  },
  {
   "cell_type": "code",
   "execution_count": 31,
   "id": "4da33597",
   "metadata": {},
   "outputs": [
    {
     "data": {
      "text/plain": [
       "(839, 15)"
      ]
     },
     "execution_count": 31,
     "metadata": {},
     "output_type": "execute_result"
    }
   ],
   "source": [
    "normalised_columns_standardise.shape"
   ]
  },
  {
   "cell_type": "code",
   "execution_count": 43,
   "id": "738434a4",
   "metadata": {},
   "outputs": [
    {
     "name": "stdout",
     "output_type": "stream",
     "text": [
      "Number of instances in X: 839\n",
      "Number of instances in X_train: 587\n",
      "Number of instances in X_test: 252\n",
      "Number of instances in X_train and X_test together: 839\n"
     ]
    }
   ],
   "source": [
    "import numpy as np\n",
    "from sklearn.model_selection import train_test_split\n",
    "\n",
    "# X = final_array[:, :-1]\n",
    "X = normalised_columns_standardise # Without the dummy vars\n",
    "Y = final_array[:, -1]\n",
    "\n",
    "X_train, X_test, y_train, y_test = train_test_split(X, Y, train_size=0.70, test_size=0.30, random_state=0)\n",
    "\n",
    "print('Number of instances in X: {}'.format(np.shape(X)[0]))\n",
    "print('Number of instances in X_train: {}'.format(X_train.shape[0]))\n",
    "print('Number of instances in X_test: {}'.format(X_test.shape[0]))\n",
    "print('Number of instances in X_train and X_test together: {}'.format(X_train.shape[0] + X_test.shape[0]))"
   ]
  },
  {
   "cell_type": "markdown",
   "id": "8a86e7a0",
   "metadata": {},
   "source": [
    "Linear Regression"
   ]
  },
  {
   "cell_type": "code",
   "execution_count": 17,
   "id": "214b062e",
   "metadata": {
    "scrolled": true
   },
   "outputs": [
    {
     "name": "stdout",
     "output_type": "stream",
     "text": [
      "Training accuracy: 0.330\n",
      "Testing accuracy by using score function: -227832598.730\n",
      "Testing accuracy by using r2_score meric: -227832598.730\n"
     ]
    }
   ],
   "source": [
    "from sklearn.linear_model import LinearRegression\n",
    "from sklearn.metrics import r2_score\n",
    "\n",
    "linear_regressor = LinearRegression(fit_intercept=True, copy_X=True)\n",
    "linear_regressor.fit(X_train, y_train)\n",
    "print('Training accuracy: {:.3f}'.format(linear_regressor.score(X_train, y_train)))\n",
    "\n",
    "print('Testing accuracy by using score function: {:.3f}'.format(linear_regressor.score(X_test, y_test)))\n",
    "print('Testing accuracy by using r2_score meric: {:.3f}'.format(r2_score(y_test, linear_regressor.predict(X_test))))"
   ]
  },
  {
   "cell_type": "code",
   "execution_count": 18,
   "id": "c27b567c",
   "metadata": {},
   "outputs": [
    {
     "name": "stdout",
     "output_type": "stream",
     "text": [
      "Cross-validation scores:  [-1.47231530e+00  3.47943604e-01  2.69991495e-01  1.65935347e-02\n",
      "  1.96960633e-01  6.76180173e-02  2.48765727e-02  4.38277137e-01\n",
      "  5.30619046e-01 -2.29581458e+01]\n",
      "Mean cross-validation score: -2.254\n"
     ]
    }
   ],
   "source": [
    "from sklearn.model_selection import cross_val_score\n",
    "\n",
    "# perform 10-fold cross-validation\n",
    "cv_scores = cross_val_score(linear_regressor, X_train, y_train, cv=10)\n",
    "\n",
    "# print the cross-validation scores\n",
    "print('Cross-validation scores: ', cv_scores)\n",
    "\n",
    "# print the mean of the cross-validation scores\n",
    "print('Mean cross-validation score: {:.3f}'.format(np.mean(cv_scores)))"
   ]
  },
  {
   "cell_type": "code",
   "execution_count": 51,
   "id": "b19458f6",
   "metadata": {},
   "outputs": [
    {
     "name": "stdout",
     "output_type": "stream",
     "text": [
      "Root Mean Squared Error: 2444.924\n"
     ]
    }
   ],
   "source": [
    "from sklearn.metrics import mean_squared_error\n",
    "\n",
    "# make predictions on the test set\n",
    "y_pred = linear_regressor.predict(X_test)\n",
    "\n",
    "# calculate the RMSE\n",
    "rmse = mean_squared_error(y_test, y_pred, squared=False)\n",
    "\n",
    "print('Root Mean Squared Error: {:.3f}'.format(rmse))"
   ]
  },
  {
   "cell_type": "code",
   "execution_count": 56,
   "id": "935b914a",
   "metadata": {},
   "outputs": [
    {
     "name": "stdout",
     "output_type": "stream",
     "text": [
      "Feature: 0, Score: -246863.27322\n",
      "Feature: 1, Score: 210898.11677\n",
      "Feature: 2, Score: 1.40450\n",
      "Feature: 3, Score: -0.01361\n",
      "Feature: 4, Score: 0.77089\n",
      "Feature: 5, Score: 0.00379\n",
      "Feature: 6, Score: -0.06953\n",
      "Feature: 7, Score: -0.10249\n",
      "Feature: 8, Score: 0.00000\n",
      "Feature: 9, Score: -0.10249\n",
      "Feature: 10, Score: -0.02904\n",
      "Feature: 11, Score: -0.12669\n",
      "Feature: 12, Score: -0.04219\n",
      "Feature: 13, Score: -0.02095\n",
      "Feature: 14, Score: 0.07605\n"
     ]
    },
    {
     "data": {
      "image/png": "[encoded data removed]",
      "text/plain": [
       "<Figure size 640x480 with 1 Axes>"
      ]
     },
     "metadata": {},
     "output_type": "display_data"
    }
   ],
   "source": [
    "# summarize feature importance\n",
    "for i,v in enumerate(linear_regressor.coef_):\n",
    "    print('Feature: %0d, Score: %.5f' % (i,v))\n",
    "\n",
    "# plot feature importance\n",
    "plt.bar([x for x in range(len(linear_regressor.coef_))], linear_regressor.coef_)\n",
    "plt.show()"
   ]
  },
  {
   "cell_type": "code",
   "execution_count": 74,
   "id": "b82c611d",
   "metadata": {},
   "outputs": [
    {
     "name": "stdout",
     "output_type": "stream",
     "text": [
      "\n",
      "The R2 score is 0.8137\n",
      "\n",
      "RMSE train is 0.0538\n",
      "\n",
      "RMSE test is 472194263685.8042\n"
     ]
    }
   ],
   "source": [
    "from sklearn.preprocessing import PolynomialFeatures\n",
    "# Polynomial feature\n",
    "\n",
    "def polynomial_regression(X, y):\n",
    "\n",
    "    poly = PolynomialFeatures(2)\n",
    "    X_poly = poly.fit_transform(X)\n",
    "    X_train, X_test, y_train, y_test = train_test_split(X_poly, y, train_size=0.7, test_size=0.3, random_state=0)\n",
    "    \n",
    "    # Fitting the model\n",
    "    linreg = LinearRegression(fit_intercept=True, copy_X=True)\n",
    "    linreg.fit(X_train, y_train)\n",
    "    y_pred_train = linreg.predict(X_train)\n",
    "    y_pred_test = linreg.predict(X_test)\n",
    "\n",
    "    rmse_train = mean_squared_error(y_train, y_pred_train, squared=False)\n",
    "    rmse_test = mean_squared_error(y_test, y_pred_test, squared=False)\n",
    "\n",
    "#     print(\"The model parameter (slopes) are\\n\", linear_regressor.coef_)\n",
    "#     print(f\"\\nThe model parameter (intercept) is {linear_regressor.intercept_:.4f}\")\n",
    "    \n",
    "    print(f\"\\nThe R2 score is {linreg.score(X_train, y_train):.4f}\")\n",
    "\n",
    "    print(f\"\\nRMSE train is {rmse_train:.4f}\")\n",
    "    print(f\"\\nRMSE test is {rmse_test:.4f}\")\n",
    "    \n",
    "polynomial_regression(X, Y)"
   ]
  },
  {
   "cell_type": "markdown",
   "id": "8acc853d",
   "metadata": {},
   "source": [
    "Ridge Regression"
   ]
  },
  {
   "cell_type": "code",
   "execution_count": 19,
   "id": "6000a020",
   "metadata": {},
   "outputs": [
    {
     "name": "stdout",
     "output_type": "stream",
     "text": [
      "Training accuracy: 0.211\n",
      "Testing accuracy by using score function: 0.073\n",
      "Testing accuracy by using r2_score meric: 0.073\n"
     ]
    }
   ],
   "source": [
    "from sklearn.linear_model import Ridge\n",
    "from sklearn.metrics import r2_score\n",
    "\n",
    "ridge_regressor = Ridge(fit_intercept=True, copy_X=True)\n",
    "ridge_regressor.fit(X_train, y_train)\n",
    "print('Training accuracy: {:.3f}'.format(ridge_regressor.score(X_train, y_train)))\n",
    "\n",
    "print('Testing accuracy by using score function: {:.3f}'.format(ridge_regressor.score(X_test, y_test)))\n",
    "print('Testing accuracy by using r2_score meric: {:.3f}'.format(r2_score(y_test, ridge_regressor.predict(X_test))))"
   ]
  },
  {
   "cell_type": "code",
   "execution_count": 24,
   "id": "41426b14",
   "metadata": {},
   "outputs": [
    {
     "name": "stdout",
     "output_type": "stream",
     "text": [
      "Cross-validation scores:  [ 0.1216008   0.29372663  0.23635031 -0.05235841  0.09359117  0.02563372\n",
      " -0.226941    0.16744168  0.16859285 -0.02897259]\n",
      "Mean cross-validation score: 0.080\n"
     ]
    }
   ],
   "source": [
    "from sklearn.model_selection import cross_val_score\n",
    "\n",
    "# perform 10-fold cross-validation\n",
    "cv_scores = cross_val_score(ridge_regressor, X_train, y_train, cv=10)\n",
    "\n",
    "# print the cross-validation scores\n",
    "print('Cross-validation scores: ', cv_scores)\n",
    "\n",
    "# print the mean of the cross-validation scores\n",
    "print('Mean cross-validation score: {:.3f}'.format(np.mean(cv_scores)))"
   ]
  },
  {
   "cell_type": "code",
   "execution_count": 50,
   "id": "bc30ad71",
   "metadata": {},
   "outputs": [
    {
     "name": "stdout",
     "output_type": "stream",
     "text": [
      "Root Mean Squared Error: 0.156\n"
     ]
    }
   ],
   "source": [
    "from sklearn.metrics import mean_squared_error\n",
    "\n",
    "# make predictions on the test set\n",
    "y_pred = ridge_regressor.predict(X_test)\n",
    "\n",
    "# calculate the RMSE\n",
    "rmse = mean_squared_error(y_test, y_pred, squared=False)\n",
    "\n",
    "print('Root Mean Squared Error: {:.3f}'.format(rmse))"
   ]
  },
  {
   "cell_type": "code",
   "execution_count": 58,
   "id": "7e5833c0",
   "metadata": {},
   "outputs": [
    {
     "name": "stdout",
     "output_type": "stream",
     "text": [
      "Feature: 0, Score: 0.00000\n",
      "Feature: 1, Score: 0.00000\n",
      "Feature: 2, Score: 0.26146\n",
      "Feature: 3, Score: -0.01239\n",
      "Feature: 4, Score: 0.40508\n",
      "Feature: 5, Score: -0.00447\n",
      "Feature: 6, Score: -0.01459\n",
      "Feature: 7, Score: -0.09445\n",
      "Feature: 8, Score: 0.00000\n",
      "Feature: 9, Score: -0.09445\n",
      "Feature: 10, Score: -0.00360\n",
      "Feature: 11, Score: -0.08716\n",
      "Feature: 12, Score: -0.03123\n",
      "Feature: 13, Score: -0.04254\n",
      "Feature: 14, Score: 0.00952\n"
     ]
    },
    {
     "data": {
      "image/png": "[encoded data removed]",
      "text/plain": [
       "<Figure size 640x480 with 1 Axes>"
      ]
     },
     "metadata": {},
     "output_type": "display_data"
    }
   ],
   "source": [
    "# summarize feature importance\n",
    "for i,v in enumerate(ridge_regressor.coef_):\n",
    "    print('Feature: %0d, Score: %.5f' % (i,v))\n",
    "\n",
    "# plot feature importance\n",
    "plt.bar([x for x in range(len(ridge_regressor.coef_))], ridge_regressor.coef_)\n",
    "plt.show()"
   ]
  },
  {
   "cell_type": "markdown",
   "id": "a859bed7",
   "metadata": {},
   "source": [
    "SGD Regressor"
   ]
  },
  {
   "cell_type": "code",
   "execution_count": 47,
   "id": "69bf8b86",
   "metadata": {},
   "outputs": [
    {
     "name": "stdout",
     "output_type": "stream",
     "text": [
      "Training accuracy: 0.081\n",
      "Testing accuracy by using score function: 0.013\n",
      "Testing accuracy by using r2_score meric: 0.013\n"
     ]
    }
   ],
   "source": [
    "from sklearn.linear_model import SGDRegressor\n",
    "from sklearn.metrics import r2_score\n",
    "\n",
    "sgd_regressor = SGDRegressor()\n",
    "sgd_regressor.fit(X_train, y_train)\n",
    "print('Training accuracy: {:.3f}'.format(sgd_regressor.score(X_train, y_train)))\n",
    "\n",
    "print('Testing accuracy by using score function: {:.3f}'.format(sgd_regressor.score(X_test, y_test)))\n",
    "print('Testing accuracy by using r2_score meric: {:.3f}'.format(r2_score(y_test, sgd_regressor.predict(X_test))))"
   ]
  },
  {
   "cell_type": "code",
   "execution_count": 25,
   "id": "f5ed674c",
   "metadata": {},
   "outputs": [
    {
     "name": "stdout",
     "output_type": "stream",
     "text": [
      "Cross-validation scores:  [ 0.06889242  0.08663082  0.03771717  0.04496237  0.09556577  0.06706388\n",
      " -0.03923117  0.08947179  0.09377546 -0.0331899 ]\n",
      "Mean cross-validation score: 0.051\n"
     ]
    }
   ],
   "source": [
    "from sklearn.model_selection import cross_val_score\n",
    "\n",
    "# perform 10-fold cross-validation\n",
    "cv_scores = cross_val_score(sgd_regressor, X_train, y_train, cv=10)\n",
    "\n",
    "# print the cross-validation scores\n",
    "print('Cross-validation scores: ', cv_scores)\n",
    "\n",
    "# print the mean of the cross-validation scores\n",
    "print('Mean cross-validation score: {:.3f}'.format(np.mean(cv_scores)))"
   ]
  },
  {
   "cell_type": "code",
   "execution_count": 52,
   "id": "7fdb12e2",
   "metadata": {},
   "outputs": [
    {
     "name": "stdout",
     "output_type": "stream",
     "text": [
      "Root Mean Squared Error: 0.161\n"
     ]
    }
   ],
   "source": [
    "from sklearn.metrics import mean_squared_error\n",
    "\n",
    "# make predictions on the test set\n",
    "y_pred = sgd_regressor.predict(X_test)\n",
    "\n",
    "# calculate the RMSE\n",
    "rmse = mean_squared_error(y_test, y_pred, squared=False)\n",
    "\n",
    "print('Root Mean Squared Error: {:.3f}'.format(rmse))"
   ]
  },
  {
   "cell_type": "code",
   "execution_count": 59,
   "id": "5cc91392",
   "metadata": {},
   "outputs": [
    {
     "name": "stdout",
     "output_type": "stream",
     "text": [
      "Feature: 0, Score: 0.00000\n",
      "Feature: 1, Score: 0.00000\n",
      "Feature: 2, Score: 0.00346\n",
      "Feature: 3, Score: 0.00038\n",
      "Feature: 4, Score: 0.00927\n",
      "Feature: 5, Score: 0.00120\n",
      "Feature: 6, Score: 0.00082\n",
      "Feature: 7, Score: 0.02564\n",
      "Feature: 8, Score: 0.00000\n",
      "Feature: 9, Score: 0.02564\n",
      "Feature: 10, Score: -0.01588\n",
      "Feature: 11, Score: -0.03100\n",
      "Feature: 12, Score: -0.01896\n",
      "Feature: 13, Score: -0.00940\n",
      "Feature: 14, Score: -0.02365\n"
     ]
    },
    {
     "data": {
      "image/png": "[encoded data removed]",
      "text/plain": [
       "<Figure size 640x480 with 1 Axes>"
      ]
     },
     "metadata": {},
     "output_type": "display_data"
    }
   ],
   "source": [
    "# summarize feature importance\n",
    "for i,v in enumerate(sgd_regressor.coef_):\n",
    "    print('Feature: %0d, Score: %.5f' % (i,v))\n",
    "\n",
    "# plot feature importance\n",
    "plt.bar([x for x in range(len(sgd_regressor.coef_))], sgd_regressor.coef_)\n",
    "plt.show()"
   ]
  },
  {
   "cell_type": "markdown",
   "id": "a6ba3423",
   "metadata": {},
   "source": [
    "Random Forest Regressor"
   ]
  },
  {
   "cell_type": "code",
   "execution_count": 21,
   "id": "2a4a1f9a",
   "metadata": {},
   "outputs": [
    {
     "name": "stdout",
     "output_type": "stream",
     "text": [
      "Training accuracy: 0.912\n",
      "Testing accuracy by using score function: 0.351\n",
      "Testing accuracy by using r2_score meric: 0.351\n"
     ]
    }
   ],
   "source": [
    "from sklearn.ensemble import RandomForestRegressor\n",
    "from sklearn.metrics import r2_score\n",
    "\n",
    "rf_regressor = RandomForestRegressor()\n",
    "rf_regressor.fit(X_train, y_train)\n",
    "print('Training accuracy: {:.3f}'.format(rf_regressor.score(X_train, y_train)))\n",
    "\n",
    "print('Testing accuracy by using score function: {:.3f}'.format(rf_regressor.score(X_test, y_test)))\n",
    "print('Testing accuracy by using r2_score meric: {:.3f}'.format(r2_score(y_test, rf_regressor.predict(X_test))))"
   ]
  },
  {
   "cell_type": "code",
   "execution_count": 27,
   "id": "3f92a2ca",
   "metadata": {},
   "outputs": [
    {
     "name": "stdout",
     "output_type": "stream",
     "text": [
      "Cross-validation scores:  [ 0.4833384   0.29995479  0.18481155 -0.38365124  0.46612834  0.01867994\n",
      "  0.16496203  0.63348708  0.50423115  0.48110444]\n",
      "Mean cross-validation score: 0.285\n"
     ]
    }
   ],
   "source": [
    "from sklearn.model_selection import cross_val_score\n",
    "\n",
    "# perform 10-fold cross-validation\n",
    "cv_scores = cross_val_score(rf_regressor, X_train, y_train, cv=10)\n",
    "\n",
    "# print the cross-validation scores\n",
    "print('Cross-validation scores: ', cv_scores)\n",
    "\n",
    "# print the mean of the cross-validation scores\n",
    "print('Mean cross-validation score: {:.3f}'.format(np.mean(cv_scores)))"
   ]
  },
  {
   "cell_type": "code",
   "execution_count": 53,
   "id": "14cf1fd2",
   "metadata": {},
   "outputs": [
    {
     "name": "stdout",
     "output_type": "stream",
     "text": [
      "Root Mean Squared Error: 0.130\n"
     ]
    }
   ],
   "source": [
    "from sklearn.metrics import mean_squared_error\n",
    "\n",
    "# make predictions on the test set\n",
    "y_pred = rf_regressor.predict(X_test)\n",
    "\n",
    "# calculate the RMSE\n",
    "rmse = mean_squared_error(y_test, y_pred, squared=False)\n",
    "\n",
    "print('Root Mean Squared Error: {:.3f}'.format(rmse))"
   ]
  },
  {
   "cell_type": "code",
   "execution_count": 64,
   "id": "d84d042e",
   "metadata": {},
   "outputs": [
    {
     "name": "stdout",
     "output_type": "stream",
     "text": [
      "Feature: 0, Score: 0.00161\n",
      "Feature: 1, Score: 0.05519\n",
      "Feature: 2, Score: 0.36335\n",
      "Feature: 3, Score: 0.04830\n",
      "Feature: 4, Score: 0.21605\n",
      "Feature: 5, Score: 0.09725\n",
      "Feature: 6, Score: 0.05798\n",
      "Feature: 7, Score: 0.00647\n",
      "Feature: 8, Score: 0.00000\n",
      "Feature: 9, Score: 0.00341\n",
      "Feature: 10, Score: 0.01272\n",
      "Feature: 11, Score: 0.00986\n",
      "Feature: 12, Score: 0.03722\n",
      "Feature: 13, Score: 0.03247\n",
      "Feature: 14, Score: 0.05811\n"
     ]
    },
    {
     "data": {
      "image/png": "[encoded data removed]",
      "text/plain": [
       "<Figure size 640x480 with 1 Axes>"
      ]
     },
     "metadata": {},
     "output_type": "display_data"
    }
   ],
   "source": [
    "# summarize feature importance\n",
    "for i,v in enumerate(rf_regressor.feature_importances_):\n",
    "    print('Feature: %0d, Score: %.5f' % (i,v))\n",
    "\n",
    "# plot feature importance\n",
    "plt.bar([x for x in range(len(rf_regressor.feature_importances_))], rf_regressor.feature_importances_)\n",
    "plt.show()"
   ]
  },
  {
   "cell_type": "code",
   "execution_count": 81,
   "id": "f6b329c0",
   "metadata": {},
   "outputs": [
    {
     "name": "stdout",
     "output_type": "stream",
     "text": [
      "\n",
      "The R2 score is 0.9272\n",
      "\n",
      "RMSE train is 0.0337\n",
      "\n",
      "RMSE test is 0.1233\n",
      "(839, 136)\n"
     ]
    }
   ],
   "source": [
    "from sklearn.preprocessing import PolynomialFeatures\n",
    "# Polynomial feature\n",
    "\n",
    "def polynomial_regression(X, y):\n",
    "\n",
    "    poly = PolynomialFeatures(2)\n",
    "    X_poly = poly.fit_transform(X)\n",
    "    X_train, X_test, y_train, y_test = train_test_split(X_poly, y, train_size=0.7, test_size=0.3, random_state=0)\n",
    "    \n",
    "    # Fitting the model\n",
    "    rf = RandomForestRegressor()\n",
    "    rf.fit(X_train, y_train)\n",
    "    y_pred_train = rf.predict(X_train)\n",
    "    y_pred_test = rf.predict(X_test)\n",
    "\n",
    "    rmse_train = mean_squared_error(y_train, y_pred_train, squared=False)\n",
    "    rmse_test = mean_squared_error(y_test, y_pred_test, squared=False)\n",
    "\n",
    "#     print(\"The model parameter (slopes) are\\n\", linear_regressor.coef_)\n",
    "#     print(f\"\\nThe model parameter (intercept) is {linear_regressor.intercept_:.4f}\")\n",
    "    \n",
    "    print(f\"\\nThe R2 score is {rf.score(X_train, y_train):.4f}\")\n",
    "\n",
    "    print(f\"\\nRMSE train is {rmse_train:.4f}\")\n",
    "    print(f\"\\nRMSE test is {rmse_test:.4f}\")\n",
    "    \n",
    "    print(X_poly.shape)\n",
    "    \n",
    "polynomial_regression(X, Y)"
   ]
  },
  {
   "cell_type": "code",
   "execution_count": null,
   "id": "55da6e91",
   "metadata": {},
   "outputs": [],
   "source": []
  },
  {
   "cell_type": "markdown",
   "id": "542fc3d8",
   "metadata": {},
   "source": [
    "Ada Boost Regressor"
   ]
  },
  {
   "cell_type": "code",
   "execution_count": 22,
   "id": "ab5b35f0",
   "metadata": {},
   "outputs": [
    {
     "name": "stdout",
     "output_type": "stream",
     "text": [
      "Training accuracy: 0.286\n",
      "Testing accuracy by using score function: 0.096\n",
      "Testing accuracy by using r2_score meric: 0.096\n"
     ]
    }
   ],
   "source": [
    "from sklearn.ensemble import AdaBoostRegressor\n",
    "from sklearn.metrics import r2_score\n",
    "\n",
    "ab_regressor = AdaBoostRegressor()\n",
    "ab_regressor.fit(X_train, y_train)\n",
    "print('Training accuracy: {:.3f}'.format(ab_regressor.score(X_train, y_train)))\n",
    "\n",
    "print('Testing accuracy by using score function: {:.3f}'.format(ab_regressor.score(X_test, y_test)))\n",
    "print('Testing accuracy by using r2_score meric: {:.3f}'.format(r2_score(y_test, ab_regressor.predict(X_test))))"
   ]
  },
  {
   "cell_type": "code",
   "execution_count": 28,
   "id": "22b0b0f4",
   "metadata": {},
   "outputs": [
    {
     "name": "stdout",
     "output_type": "stream",
     "text": [
      "Cross-validation scores:  [ 0.13036521 -0.05950407  0.15012277 -0.95937226  0.16024489  0.05783111\n",
      " -1.80719245  0.06709554  0.20207808 -0.11547601]\n",
      "Mean cross-validation score: -0.217\n"
     ]
    }
   ],
   "source": [
    "from sklearn.model_selection import cross_val_score\n",
    "\n",
    "# perform 10-fold cross-validation\n",
    "cv_scores = cross_val_score(ab_regressor, X_train, y_train, cv=10)\n",
    "\n",
    "# print the cross-validation scores\n",
    "print('Cross-validation scores: ', cv_scores)\n",
    "\n",
    "# print the mean of the cross-validation scores\n",
    "print('Mean cross-validation score: {:.3f}'.format(np.mean(cv_scores)))"
   ]
  },
  {
   "cell_type": "code",
   "execution_count": 54,
   "id": "cfa9d0be",
   "metadata": {},
   "outputs": [
    {
     "name": "stdout",
     "output_type": "stream",
     "text": [
      "Root Mean Squared Error: 0.154\n"
     ]
    }
   ],
   "source": [
    "from sklearn.metrics import mean_squared_error\n",
    "\n",
    "# make predictions on the test set\n",
    "y_pred = ab_regressor.predict(X_test)\n",
    "\n",
    "# calculate the RMSE\n",
    "rmse = mean_squared_error(y_test, y_pred, squared=False)\n",
    "\n",
    "print('Root Mean Squared Error: {:.3f}'.format(rmse))"
   ]
  },
  {
   "cell_type": "code",
   "execution_count": 63,
   "id": "92f79cf9",
   "metadata": {},
   "outputs": [
    {
     "name": "stdout",
     "output_type": "stream",
     "text": [
      "Feature: 0, Score: 0.00211\n",
      "Feature: 1, Score: 0.03534\n",
      "Feature: 2, Score: 0.28544\n",
      "Feature: 3, Score: 0.06085\n",
      "Feature: 4, Score: 0.17418\n",
      "Feature: 5, Score: 0.12707\n",
      "Feature: 6, Score: 0.17106\n",
      "Feature: 7, Score: 0.00805\n",
      "Feature: 8, Score: 0.00000\n",
      "Feature: 9, Score: 0.01417\n",
      "Feature: 10, Score: 0.02042\n",
      "Feature: 11, Score: 0.00379\n",
      "Feature: 12, Score: 0.00702\n",
      "Feature: 13, Score: 0.07973\n",
      "Feature: 14, Score: 0.01077\n"
     ]
    },
    {
     "data": {
      "image/png": "[encoded data removed]",
      "text/plain": [
       "<Figure size 640x480 with 1 Axes>"
      ]
     },
     "metadata": {},
     "output_type": "display_data"
    }
   ],
   "source": [
    "# summarize feature importance\n",
    "for i,v in enumerate(ab_regressor.feature_importances_):\n",
    "    print('Feature: %0d, Score: %.5f' % (i,v))\n",
    "\n",
    "# plot feature importance\n",
    "plt.bar([x for x in range(len(ab_regressor.feature_importances_))], ab_regressor.feature_importances_)\n",
    "plt.show()"
   ]
  },
  {
   "cell_type": "code",
   "execution_count": 23,
   "id": "2721a691",
   "metadata": {},
   "outputs": [
    {
     "name": "stdout",
     "output_type": "stream",
     "text": [
      "Training accuracy: 0.942\n",
      "Testing accuracy by using score function: 0.356\n",
      "Testing accuracy by using r2_score meric: 0.356\n"
     ]
    }
   ],
   "source": [
    "from sklearn.ensemble import GradientBoostingRegressor\n",
    "from sklearn.metrics import r2_score\n",
    "\n",
    "gb_regressor = GradientBoostingRegressor()\n",
    "gb_regressor.fit(X_train, y_train)\n",
    "print('Training accuracy: {:.3f}'.format(gb_regressor.score(X_train, y_train)))\n",
    "\n",
    "print('Testing accuracy by using score function: {:.3f}'.format(gb_regressor.score(X_test, y_test)))\n",
    "print('Testing accuracy by using r2_score meric: {:.3f}'.format(r2_score(y_test, gb_regressor.predict(X_test))))"
   ]
  },
  {
   "cell_type": "code",
   "execution_count": 29,
   "id": "a26c847a",
   "metadata": {},
   "outputs": [
    {
     "name": "stdout",
     "output_type": "stream",
     "text": [
      "Cross-validation scores:  [ 0.49571346  0.28724248  0.24507075 -2.03940932  0.4923764   0.08233341\n",
      "  0.03744347  0.36124449  0.33158323  0.42203351]\n",
      "Mean cross-validation score: 0.072\n"
     ]
    }
   ],
   "source": [
    "from sklearn.model_selection import cross_val_score\n",
    "\n",
    "# perform 10-fold cross-validation\n",
    "cv_scores = cross_val_score(gb_regressor, X_train, y_train, cv=10)\n",
    "\n",
    "# print the cross-validation scores\n",
    "print('Cross-validation scores: ', cv_scores)\n",
    "\n",
    "# print the mean of the cross-validation scores\n",
    "print('Mean cross-validation score: {:.3f}'.format(np.mean(cv_scores)))"
   ]
  },
  {
   "cell_type": "code",
   "execution_count": 55,
   "id": "2101719e",
   "metadata": {},
   "outputs": [
    {
     "name": "stdout",
     "output_type": "stream",
     "text": [
      "Root Mean Squared Error: 0.130\n"
     ]
    }
   ],
   "source": [
    "from sklearn.metrics import mean_squared_error\n",
    "\n",
    "# make predictions on the test set\n",
    "y_pred = gb_regressor.predict(X_test)\n",
    "\n",
    "# calculate the RMSE\n",
    "rmse = mean_squared_error(y_test, y_pred, squared=False)\n",
    "\n",
    "print('Root Mean Squared Error: {:.3f}'.format(rmse))"
   ]
  },
  {
   "cell_type": "code",
   "execution_count": 65,
   "id": "2b9daa5e",
   "metadata": {},
   "outputs": [
    {
     "name": "stdout",
     "output_type": "stream",
     "text": [
      "Feature: 0, Score: 0.00296\n",
      "Feature: 1, Score: 0.08496\n",
      "Feature: 2, Score: 0.42482\n",
      "Feature: 3, Score: 0.02430\n",
      "Feature: 4, Score: 0.20600\n",
      "Feature: 5, Score: 0.06851\n",
      "Feature: 6, Score: 0.04650\n",
      "Feature: 7, Score: 0.00073\n",
      "Feature: 8, Score: 0.00000\n",
      "Feature: 9, Score: 0.00911\n",
      "Feature: 10, Score: 0.00271\n",
      "Feature: 11, Score: 0.00873\n",
      "Feature: 12, Score: 0.04522\n",
      "Feature: 13, Score: 0.01476\n",
      "Feature: 14, Score: 0.06067\n"
     ]
    },
    {
     "data": {
      "image/png": "[encoded data removed]",
      "text/plain": [
       "<Figure size 640x480 with 1 Axes>"
      ]
     },
     "metadata": {},
     "output_type": "display_data"
    }
   ],
   "source": [
    "# summarize feature importance\n",
    "for i,v in enumerate(gb_regressor.feature_importances_):\n",
    "    print('Feature: %0d, Score: %.5f' % (i,v))\n",
    "\n",
    "# plot feature importance\n",
    "plt.bar([x for x in range(len(gb_regressor.feature_importances_))], gb_regressor.feature_importances_)\n",
    "plt.show()"
   ]
  },
  {
   "cell_type": "code",
   "execution_count": null,
   "id": "efce14be",
   "metadata": {},
   "outputs": [],
   "source": []
  }
 ],
 "metadata": {
  "kernelspec": {
   "display_name": "Python 3 (ipykernel)",
   "language": "python",
   "name": "python3"
  },
  "language_info": {
   "codemirror_mode": {
    "name": "ipython",
    "version": 3
   },
   "file_extension": ".py",
   "mimetype": "text/x-python",
   "name": "python",
   "nbconvert_exporter": "python",
   "pygments_lexer": "ipython3",
   "version": "3.10.9"
  }
 },
 "nbformat": 4,
 "nbformat_minor": 5
}
