{
 "cells": [
  {
   "cell_type": "markdown",
   "id": "e945fa2c",
   "metadata": {},
   "source": [
    "Key findings within this notebook experiment:\n",
    "\n",
    "1. Feature engineering (polynomial features, add more features, etc) DONE\n",
    "2. Cross-validation test => for validation set\n",
    "3. Do feature importance and coefficients per industry DONE\n",
    "\n",
    "Next step:\n",
    "1. Add features from ONS"
   ]
  },
  {
   "cell_type": "code",
   "execution_count": 29,
   "id": "4058ccca",
   "metadata": {},
   "outputs": [],
   "source": [
    "import pandas as pd\n",
    "pd.options.display.max_columns = None\n",
    "pd.set_option('display.max_rows', 20)"
   ]
  },
  {
   "cell_type": "code",
   "execution_count": 30,
   "id": "6bb5fea1",
   "metadata": {},
   "outputs": [],
   "source": [
    "scores_table_in_company = pd.read_csv(\"feature-eng-data/scores_table_in_company.csv\", low_memory=False)"
   ]
  },
  {
   "cell_type": "code",
   "execution_count": 31,
   "id": "a3e8c3ca",
   "metadata": {},
   "outputs": [
    {
     "data": {
      "text/plain": [
       "(879, 27)"
      ]
     },
     "execution_count": 31,
     "metadata": {},
     "output_type": "execute_result"
    }
   ],
   "source": [
    "scores_table_in_company.shape"
   ]
  },
  {
   "cell_type": "code",
   "execution_count": 32,
   "id": "e2d0d977",
   "metadata": {},
   "outputs": [
    {
     "data": {
      "text/html": [
       "<div>\n",
       "<style scoped>\n",
       "    .dataframe tbody tr th:only-of-type {\n",
       "        vertical-align: middle;\n",
       "    }\n",
       "\n",
       "    .dataframe tbody tr th {\n",
       "        vertical-align: top;\n",
       "    }\n",
       "\n",
       "    .dataframe thead th {\n",
       "        text-align: right;\n",
       "    }\n",
       "</style>\n",
       "<table border=\"1\" class=\"dataframe\">\n",
       "  <thead>\n",
       "    <tr style=\"text-align: right;\">\n",
       "      <th></th>\n",
       "      <th>CompanyNumber</th>\n",
       "      <th>RegAddress_PostCode</th>\n",
       "      <th>CompanyCategory</th>\n",
       "      <th>CompanyStatus</th>\n",
       "      <th>CountryOfOrigin</th>\n",
       "      <th>SIC</th>\n",
       "      <th>AssetsM</th>\n",
       "      <th>EstAssetsM</th>\n",
       "      <th>TurnoverM</th>\n",
       "      <th>EstTurnoverM</th>\n",
       "      <th>FTE</th>\n",
       "      <th>EstFTE</th>\n",
       "      <th>CalculationType</th>\n",
       "      <th>IR_CO2ePerAssetsM</th>\n",
       "      <th>IR_CO2ePerTurnoverM</th>\n",
       "      <th>IR_CO2ePerFTE</th>\n",
       "      <th>DefraRatio</th>\n",
       "      <th>NormalisedIrCO2ePerAssetsM</th>\n",
       "      <th>NormalisedIrCO2ePerTurnoverM</th>\n",
       "      <th>NormalisedIrCO2ePerFTE</th>\n",
       "      <th>ScoreC1a</th>\n",
       "      <th>ScoreC1t</th>\n",
       "      <th>ScoreC1f</th>\n",
       "      <th>ScoreC2</th>\n",
       "      <th>ScoreC1</th>\n",
       "      <th>S1S2TesCO2eEst</th>\n",
       "      <th>S1S2CO2e</th>\n",
       "    </tr>\n",
       "  </thead>\n",
       "  <tbody>\n",
       "    <tr>\n",
       "      <th>0</th>\n",
       "      <td>00019457</td>\n",
       "      <td>M22 5TG</td>\n",
       "      <td>Public Limited Company</td>\n",
       "      <td>Active</td>\n",
       "      <td>United Kingdom</td>\n",
       "      <td>329</td>\n",
       "      <td>3152.0</td>\n",
       "      <td>0.038998</td>\n",
       "      <td>603.3</td>\n",
       "      <td>1.571170</td>\n",
       "      <td>3152.0</td>\n",
       "      <td>4.0</td>\n",
       "      <td>Actuals</td>\n",
       "      <td>0.060444</td>\n",
       "      <td>0.078988</td>\n",
       "      <td>0.015111</td>\n",
       "      <td>1.3750</td>\n",
       "      <td>88.414665</td>\n",
       "      <td>39.608</td>\n",
       "      <td>7.726939</td>\n",
       "      <td>10.0</td>\n",
       "      <td>10.0</td>\n",
       "      <td>9.0</td>\n",
       "      <td>9.0</td>\n",
       "      <td>9.0</td>\n",
       "      <td>4.752723</td>\n",
       "      <td>47.63</td>\n",
       "    </tr>\n",
       "    <tr>\n",
       "      <th>1</th>\n",
       "      <td>00024869</td>\n",
       "      <td>GL3 4AW</td>\n",
       "      <td>Public Limited Company</td>\n",
       "      <td>Active</td>\n",
       "      <td>United Kingdom</td>\n",
       "      <td>6512</td>\n",
       "      <td>1048.0</td>\n",
       "      <td>0.073508</td>\n",
       "      <td>486.0</td>\n",
       "      <td>1.357635</td>\n",
       "      <td>1048.0</td>\n",
       "      <td>4.0</td>\n",
       "      <td>Actuals</td>\n",
       "      <td>0.253968</td>\n",
       "      <td>0.954733</td>\n",
       "      <td>0.442748</td>\n",
       "      <td>0.0375</td>\n",
       "      <td>88.414665</td>\n",
       "      <td>39.608</td>\n",
       "      <td>7.726939</td>\n",
       "      <td>10.0</td>\n",
       "      <td>9.0</td>\n",
       "      <td>8.0</td>\n",
       "      <td>6.0</td>\n",
       "      <td>9.0</td>\n",
       "      <td>1.300129</td>\n",
       "      <td>269.00</td>\n",
       "    </tr>\n",
       "    <tr>\n",
       "      <th>2</th>\n",
       "      <td>00029559</td>\n",
       "      <td>TN15 7AE</td>\n",
       "      <td>Public Limited Company</td>\n",
       "      <td>Active</td>\n",
       "      <td>United Kingdom</td>\n",
       "      <td>701</td>\n",
       "      <td>76060.0</td>\n",
       "      <td>0.149742</td>\n",
       "      <td>291.2</td>\n",
       "      <td>8.971006</td>\n",
       "      <td>76060.0</td>\n",
       "      <td>2.0</td>\n",
       "      <td>Actuals</td>\n",
       "      <td>516.260563</td>\n",
       "      <td>755.762887</td>\n",
       "      <td>2.891494</td>\n",
       "      <td>0.3750</td>\n",
       "      <td>88.414665</td>\n",
       "      <td>39.608</td>\n",
       "      <td>7.726939</td>\n",
       "      <td>2.0</td>\n",
       "      <td>1.0</td>\n",
       "      <td>5.0</td>\n",
       "      <td>2.0</td>\n",
       "      <td>2.0</td>\n",
       "      <td>4.977054</td>\n",
       "      <td>219927.00</td>\n",
       "    </tr>\n",
       "  </tbody>\n",
       "</table>\n",
       "</div>"
      ],
      "text/plain": [
       "  CompanyNumber RegAddress_PostCode         CompanyCategory CompanyStatus  \\\n",
       "0      00019457             M22 5TG  Public Limited Company        Active   \n",
       "1      00024869             GL3 4AW  Public Limited Company        Active   \n",
       "2      00029559            TN15 7AE  Public Limited Company        Active   \n",
       "\n",
       "  CountryOfOrigin   SIC  AssetsM  EstAssetsM  TurnoverM  EstTurnoverM  \\\n",
       "0  United Kingdom   329   3152.0    0.038998      603.3      1.571170   \n",
       "1  United Kingdom  6512   1048.0    0.073508      486.0      1.357635   \n",
       "2  United Kingdom   701  76060.0    0.149742      291.2      8.971006   \n",
       "\n",
       "       FTE  EstFTE CalculationType  IR_CO2ePerAssetsM  IR_CO2ePerTurnoverM  \\\n",
       "0   3152.0     4.0         Actuals           0.060444             0.078988   \n",
       "1   1048.0     4.0         Actuals           0.253968             0.954733   \n",
       "2  76060.0     2.0         Actuals         516.260563           755.762887   \n",
       "\n",
       "   IR_CO2ePerFTE  DefraRatio  NormalisedIrCO2ePerAssetsM  \\\n",
       "0       0.015111      1.3750                   88.414665   \n",
       "1       0.442748      0.0375                   88.414665   \n",
       "2       2.891494      0.3750                   88.414665   \n",
       "\n",
       "   NormalisedIrCO2ePerTurnoverM  NormalisedIrCO2ePerFTE  ScoreC1a  ScoreC1t  \\\n",
       "0                        39.608                7.726939      10.0      10.0   \n",
       "1                        39.608                7.726939      10.0       9.0   \n",
       "2                        39.608                7.726939       2.0       1.0   \n",
       "\n",
       "   ScoreC1f  ScoreC2  ScoreC1  S1S2TesCO2eEst   S1S2CO2e  \n",
       "0       9.0      9.0      9.0        4.752723      47.63  \n",
       "1       8.0      6.0      9.0        1.300129     269.00  \n",
       "2       5.0      2.0      2.0        4.977054  219927.00  "
      ]
     },
     "execution_count": 32,
     "metadata": {},
     "output_type": "execute_result"
    }
   ],
   "source": [
    "scores_table_in_company.head(3)"
   ]
  },
  {
   "cell_type": "code",
   "execution_count": 33,
   "id": "78a8091f",
   "metadata": {},
   "outputs": [
    {
     "data": {
      "text/plain": [
       "count    8.790000e+02\n",
       "mean     2.892892e+08\n",
       "std      8.503005e+09\n",
       "min      0.000000e+00\n",
       "25%      2.509600e+02\n",
       "50%      1.492600e+03\n",
       "75%      1.276200e+04\n",
       "max      2.520920e+11\n",
       "Name: S1S2CO2e, dtype: float64"
      ]
     },
     "execution_count": 33,
     "metadata": {},
     "output_type": "execute_result"
    }
   ],
   "source": [
    "scores_table_in_company[\"S1S2CO2e\"].describe()"
   ]
  },
  {
   "cell_type": "code",
   "execution_count": 34,
   "id": "e70c7e8d",
   "metadata": {},
   "outputs": [
    {
     "data": {
      "text/plain": [
       "<Axes: xlabel='S1S2CO2e'>"
      ]
     },
     "execution_count": 34,
     "metadata": {},
     "output_type": "execute_result"
    },
    {
     "data": {
      "image/png": "[encoded data removed]",
      "text/plain": [
       "<Figure size 640x480 with 1 Axes>"
      ]
     },
     "metadata": {},
     "output_type": "display_data"
    }
   ],
   "source": [
    "import seaborn as sns\n",
    "\n",
    "# assuming scores_table_in_company is your DataFrame\n",
    "sns.boxplot(x=scores_table_in_company[\"S1S2CO2e\"])"
   ]
  },
  {
   "cell_type": "code",
   "execution_count": 35,
   "id": "1b99afde",
   "metadata": {},
   "outputs": [
    {
     "data": {
      "image/png": "[encoded data removed]",
      "text/plain": [
       "<Figure size 640x480 with 1 Axes>"
      ]
     },
     "metadata": {},
     "output_type": "display_data"
    }
   ],
   "source": [
    "import matplotlib.pyplot as plt\n",
    "\n",
    "# assuming scores_table_in_company is your DataFrame\n",
    "plt.boxplot(scores_table_in_company[\"S1S2CO2e\"].dropna())\n",
    "plt.show()"
   ]
  },
  {
   "cell_type": "code",
   "execution_count": 36,
   "id": "a4093b84",
   "metadata": {},
   "outputs": [],
   "source": [
    "scores_table_in_company = scores_table_in_company[scores_table_in_company[\"S1S2CO2e\"]<500000]\n",
    "\n",
    "scores_table_in_company = scores_table_in_company[scores_table_in_company[\"AssetsM\"]<175216.5]"
   ]
  },
  {
   "cell_type": "code",
   "execution_count": 37,
   "id": "cd0d01a9",
   "metadata": {},
   "outputs": [
    {
     "data": {
      "text/plain": [
       "(766, 27)"
      ]
     },
     "execution_count": 37,
     "metadata": {},
     "output_type": "execute_result"
    }
   ],
   "source": [
    "scores_table_in_company.shape"
   ]
  },
  {
   "cell_type": "code",
   "execution_count": 38,
   "id": "276f6e70",
   "metadata": {},
   "outputs": [
    {
     "data": {
      "image/png": "[encoded data removed]",
      "text/plain": [
       "<Figure size 640x480 with 1 Axes>"
      ]
     },
     "metadata": {},
     "output_type": "display_data"
    }
   ],
   "source": [
    "import matplotlib.pyplot as plt\n",
    "\n",
    "# assuming scores_table_in_company is your DataFrame\n",
    "plt.boxplot(scores_table_in_company[\"S1S2CO2e\"].dropna())\n",
    "plt.show()"
   ]
  },
  {
   "cell_type": "code",
   "execution_count": 39,
   "id": "01be8f71",
   "metadata": {},
   "outputs": [],
   "source": [
    "scores_table_in_company_matrix = scores_table_in_company.drop(columns=[\"RegAddress_PostCode\", \"CompanyCategory\", \"CompanyStatus\", \"CountryOfOrigin\"])\n",
    "\n",
    "# set 'CompanyNumber' as the index\n",
    "scores_table_in_company_matrix.set_index('CompanyNumber', inplace=True)"
   ]
  },
  {
   "cell_type": "code",
   "execution_count": 40,
   "id": "8b297e62",
   "metadata": {},
   "outputs": [
    {
     "data": {
      "text/html": [
       "<div>\n",
       "<style scoped>\n",
       "    .dataframe tbody tr th:only-of-type {\n",
       "        vertical-align: middle;\n",
       "    }\n",
       "\n",
       "    .dataframe tbody tr th {\n",
       "        vertical-align: top;\n",
       "    }\n",
       "\n",
       "    .dataframe thead th {\n",
       "        text-align: right;\n",
       "    }\n",
       "</style>\n",
       "<table border=\"1\" class=\"dataframe\">\n",
       "  <thead>\n",
       "    <tr style=\"text-align: right;\">\n",
       "      <th></th>\n",
       "      <th>SIC</th>\n",
       "      <th>AssetsM</th>\n",
       "      <th>EstAssetsM</th>\n",
       "      <th>TurnoverM</th>\n",
       "      <th>EstTurnoverM</th>\n",
       "      <th>FTE</th>\n",
       "      <th>EstFTE</th>\n",
       "      <th>CalculationType</th>\n",
       "      <th>IR_CO2ePerAssetsM</th>\n",
       "      <th>IR_CO2ePerTurnoverM</th>\n",
       "      <th>IR_CO2ePerFTE</th>\n",
       "      <th>DefraRatio</th>\n",
       "      <th>NormalisedIrCO2ePerAssetsM</th>\n",
       "      <th>NormalisedIrCO2ePerTurnoverM</th>\n",
       "      <th>NormalisedIrCO2ePerFTE</th>\n",
       "      <th>ScoreC1a</th>\n",
       "      <th>ScoreC1t</th>\n",
       "      <th>ScoreC1f</th>\n",
       "      <th>ScoreC2</th>\n",
       "      <th>ScoreC1</th>\n",
       "      <th>S1S2TesCO2eEst</th>\n",
       "      <th>S1S2CO2e</th>\n",
       "    </tr>\n",
       "    <tr>\n",
       "      <th>CompanyNumber</th>\n",
       "      <th></th>\n",
       "      <th></th>\n",
       "      <th></th>\n",
       "      <th></th>\n",
       "      <th></th>\n",
       "      <th></th>\n",
       "      <th></th>\n",
       "      <th></th>\n",
       "      <th></th>\n",
       "      <th></th>\n",
       "      <th></th>\n",
       "      <th></th>\n",
       "      <th></th>\n",
       "      <th></th>\n",
       "      <th></th>\n",
       "      <th></th>\n",
       "      <th></th>\n",
       "      <th></th>\n",
       "      <th></th>\n",
       "      <th></th>\n",
       "      <th></th>\n",
       "      <th></th>\n",
       "    </tr>\n",
       "  </thead>\n",
       "  <tbody>\n",
       "    <tr>\n",
       "      <th>00019457</th>\n",
       "      <td>329</td>\n",
       "      <td>3152.0</td>\n",
       "      <td>0.038998</td>\n",
       "      <td>603.300000</td>\n",
       "      <td>1.571170</td>\n",
       "      <td>3152.0</td>\n",
       "      <td>4.0</td>\n",
       "      <td>Actuals</td>\n",
       "      <td>0.060444</td>\n",
       "      <td>0.078988</td>\n",
       "      <td>0.015111</td>\n",
       "      <td>1.3750</td>\n",
       "      <td>88.414665</td>\n",
       "      <td>39.608</td>\n",
       "      <td>7.726939</td>\n",
       "      <td>10.0</td>\n",
       "      <td>10.0</td>\n",
       "      <td>9.0</td>\n",
       "      <td>9.0</td>\n",
       "      <td>9.0</td>\n",
       "      <td>4.752723</td>\n",
       "      <td>47.63</td>\n",
       "    </tr>\n",
       "    <tr>\n",
       "      <th>00024869</th>\n",
       "      <td>6512</td>\n",
       "      <td>1048.0</td>\n",
       "      <td>0.073508</td>\n",
       "      <td>486.000000</td>\n",
       "      <td>1.357635</td>\n",
       "      <td>1048.0</td>\n",
       "      <td>4.0</td>\n",
       "      <td>Actuals</td>\n",
       "      <td>0.253968</td>\n",
       "      <td>0.954733</td>\n",
       "      <td>0.442748</td>\n",
       "      <td>0.0375</td>\n",
       "      <td>88.414665</td>\n",
       "      <td>39.608</td>\n",
       "      <td>7.726939</td>\n",
       "      <td>10.0</td>\n",
       "      <td>9.0</td>\n",
       "      <td>8.0</td>\n",
       "      <td>6.0</td>\n",
       "      <td>9.0</td>\n",
       "      <td>1.300129</td>\n",
       "      <td>269.00</td>\n",
       "    </tr>\n",
       "    <tr>\n",
       "      <th>00029559</th>\n",
       "      <td>701</td>\n",
       "      <td>76060.0</td>\n",
       "      <td>0.149742</td>\n",
       "      <td>291.200000</td>\n",
       "      <td>8.971006</td>\n",
       "      <td>76060.0</td>\n",
       "      <td>2.0</td>\n",
       "      <td>Actuals</td>\n",
       "      <td>516.260563</td>\n",
       "      <td>755.762887</td>\n",
       "      <td>2.891494</td>\n",
       "      <td>0.3750</td>\n",
       "      <td>88.414665</td>\n",
       "      <td>39.608</td>\n",
       "      <td>7.726939</td>\n",
       "      <td>2.0</td>\n",
       "      <td>1.0</td>\n",
       "      <td>5.0</td>\n",
       "      <td>2.0</td>\n",
       "      <td>2.0</td>\n",
       "      <td>4.977054</td>\n",
       "      <td>219927.00</td>\n",
       "    </tr>\n",
       "    <tr>\n",
       "      <th>00030226</th>\n",
       "      <td>1712</td>\n",
       "      <td>584.0</td>\n",
       "      <td>0.320794</td>\n",
       "      <td>104.600000</td>\n",
       "      <td>16.076656</td>\n",
       "      <td>584.0</td>\n",
       "      <td>10.0</td>\n",
       "      <td>Actuals</td>\n",
       "      <td>473.260870</td>\n",
       "      <td>373.200000</td>\n",
       "      <td>67.099315</td>\n",
       "      <td>6.6250</td>\n",
       "      <td>88.414665</td>\n",
       "      <td>39.608</td>\n",
       "      <td>7.726939</td>\n",
       "      <td>2.0</td>\n",
       "      <td>2.0</td>\n",
       "      <td>2.0</td>\n",
       "      <td>5.0</td>\n",
       "      <td>2.0</td>\n",
       "      <td>574.223656</td>\n",
       "      <td>39186.00</td>\n",
       "    </tr>\n",
       "    <tr>\n",
       "      <th>00033774</th>\n",
       "      <td>2059</td>\n",
       "      <td>4017.0</td>\n",
       "      <td>0.170615</td>\n",
       "      <td>15700.000000</td>\n",
       "      <td>13.853500</td>\n",
       "      <td>4017.0</td>\n",
       "      <td>4.0</td>\n",
       "      <td>Actuals</td>\n",
       "      <td>1866.017132</td>\n",
       "      <td>319.124586</td>\n",
       "      <td>1247.263132</td>\n",
       "      <td>3.8750</td>\n",
       "      <td>88.414665</td>\n",
       "      <td>39.608</td>\n",
       "      <td>7.726939</td>\n",
       "      <td>1.0</td>\n",
       "      <td>2.0</td>\n",
       "      <td>1.0</td>\n",
       "      <td>2.0</td>\n",
       "      <td>1.0</td>\n",
       "      <td>2426.440525</td>\n",
       "      <td>431311.00</td>\n",
       "    </tr>\n",
       "    <tr>\n",
       "      <th>...</th>\n",
       "      <td>...</td>\n",
       "      <td>...</td>\n",
       "      <td>...</td>\n",
       "      <td>...</td>\n",
       "      <td>...</td>\n",
       "      <td>...</td>\n",
       "      <td>...</td>\n",
       "      <td>...</td>\n",
       "      <td>...</td>\n",
       "      <td>...</td>\n",
       "      <td>...</td>\n",
       "      <td>...</td>\n",
       "      <td>...</td>\n",
       "      <td>...</td>\n",
       "      <td>...</td>\n",
       "      <td>...</td>\n",
       "      <td>...</td>\n",
       "      <td>...</td>\n",
       "      <td>...</td>\n",
       "      <td>...</td>\n",
       "      <td>...</td>\n",
       "      <td>...</td>\n",
       "    </tr>\n",
       "    <tr>\n",
       "      <th>SC334329</th>\n",
       "      <td>64202</td>\n",
       "      <td>381.0</td>\n",
       "      <td>20.194410</td>\n",
       "      <td>37.473996</td>\n",
       "      <td>NaN</td>\n",
       "      <td>381.0</td>\n",
       "      <td>NaN</td>\n",
       "      <td>Actuals</td>\n",
       "      <td>61.967019</td>\n",
       "      <td>33.135135</td>\n",
       "      <td>3.217848</td>\n",
       "      <td>0.0375</td>\n",
       "      <td>88.414665</td>\n",
       "      <td>39.608</td>\n",
       "      <td>7.726939</td>\n",
       "      <td>5.0</td>\n",
       "      <td>5.0</td>\n",
       "      <td>5.0</td>\n",
       "      <td>2.0</td>\n",
       "      <td>5.0</td>\n",
       "      <td>123.837290</td>\n",
       "      <td>0.00</td>\n",
       "    </tr>\n",
       "    <tr>\n",
       "      <th>SC367563</th>\n",
       "      <td>8299</td>\n",
       "      <td>1125.0</td>\n",
       "      <td>0.016182</td>\n",
       "      <td>108.500000</td>\n",
       "      <td>0.067786</td>\n",
       "      <td>1125.0</td>\n",
       "      <td>2.0</td>\n",
       "      <td>Actuals</td>\n",
       "      <td>5.116468</td>\n",
       "      <td>25.995413</td>\n",
       "      <td>2.518667</td>\n",
       "      <td>0.3750</td>\n",
       "      <td>88.414665</td>\n",
       "      <td>39.608</td>\n",
       "      <td>7.726939</td>\n",
       "      <td>8.0</td>\n",
       "      <td>5.0</td>\n",
       "      <td>5.0</td>\n",
       "      <td>6.0</td>\n",
       "      <td>6.0</td>\n",
       "      <td>1.148973</td>\n",
       "      <td>2272.20</td>\n",
       "    </tr>\n",
       "    <tr>\n",
       "      <th>SC419949</th>\n",
       "      <td>64921</td>\n",
       "      <td>0.0</td>\n",
       "      <td>0.000000</td>\n",
       "      <td>29.375452</td>\n",
       "      <td>68.728740</td>\n",
       "      <td>0.0</td>\n",
       "      <td>NaN</td>\n",
       "      <td>Actuals</td>\n",
       "      <td>20.503251</td>\n",
       "      <td>28.137931</td>\n",
       "      <td>0.000000</td>\n",
       "      <td>0.0375</td>\n",
       "      <td>88.414665</td>\n",
       "      <td>39.608</td>\n",
       "      <td>7.726939</td>\n",
       "      <td>7.0</td>\n",
       "      <td>5.0</td>\n",
       "      <td>NaN</td>\n",
       "      <td>2.0</td>\n",
       "      <td>6.0</td>\n",
       "      <td>132.280591</td>\n",
       "      <td>771.00</td>\n",
       "    </tr>\n",
       "    <tr>\n",
       "      <th>SC440783</th>\n",
       "      <td>1011</td>\n",
       "      <td>1330.0</td>\n",
       "      <td>17.117768</td>\n",
       "      <td>498.237572</td>\n",
       "      <td>17.698115</td>\n",
       "      <td>1330.0</td>\n",
       "      <td>NaN</td>\n",
       "      <td>Actuals</td>\n",
       "      <td>9889.035686</td>\n",
       "      <td>25.656627</td>\n",
       "      <td>9.606767</td>\n",
       "      <td>2.6250</td>\n",
       "      <td>88.414665</td>\n",
       "      <td>39.608</td>\n",
       "      <td>7.726939</td>\n",
       "      <td>1.0</td>\n",
       "      <td>5.0</td>\n",
       "      <td>3.0</td>\n",
       "      <td>5.0</td>\n",
       "      <td>3.0</td>\n",
       "      <td>760.275821</td>\n",
       "      <td>12715.00</td>\n",
       "    </tr>\n",
       "    <tr>\n",
       "      <th>SC578050</th>\n",
       "      <td>46431</td>\n",
       "      <td>0.0</td>\n",
       "      <td>0.000000</td>\n",
       "      <td>99.051884</td>\n",
       "      <td>NaN</td>\n",
       "      <td>0.0</td>\n",
       "      <td>NaN</td>\n",
       "      <td>Actuals</td>\n",
       "      <td>16.295030</td>\n",
       "      <td>1.242424</td>\n",
       "      <td>0.000000</td>\n",
       "      <td>1.2500</td>\n",
       "      <td>88.414665</td>\n",
       "      <td>39.608</td>\n",
       "      <td>7.726939</td>\n",
       "      <td>7.0</td>\n",
       "      <td>9.0</td>\n",
       "      <td>NaN</td>\n",
       "      <td>9.0</td>\n",
       "      <td>8.0</td>\n",
       "      <td>6554.077348</td>\n",
       "      <td>123.00</td>\n",
       "    </tr>\n",
       "  </tbody>\n",
       "</table>\n",
       "<p>766 rows × 22 columns</p>\n",
       "</div>"
      ],
      "text/plain": [
       "                 SIC  AssetsM  EstAssetsM     TurnoverM  EstTurnoverM  \\\n",
       "CompanyNumber                                                           \n",
       "00019457         329   3152.0    0.038998    603.300000      1.571170   \n",
       "00024869        6512   1048.0    0.073508    486.000000      1.357635   \n",
       "00029559         701  76060.0    0.149742    291.200000      8.971006   \n",
       "00030226        1712    584.0    0.320794    104.600000     16.076656   \n",
       "00033774        2059   4017.0    0.170615  15700.000000     13.853500   \n",
       "...              ...      ...         ...           ...           ...   \n",
       "SC334329       64202    381.0   20.194410     37.473996           NaN   \n",
       "SC367563        8299   1125.0    0.016182    108.500000      0.067786   \n",
       "SC419949       64921      0.0    0.000000     29.375452     68.728740   \n",
       "SC440783        1011   1330.0   17.117768    498.237572     17.698115   \n",
       "SC578050       46431      0.0    0.000000     99.051884           NaN   \n",
       "\n",
       "                   FTE  EstFTE CalculationType  IR_CO2ePerAssetsM  \\\n",
       "CompanyNumber                                                       \n",
       "00019457        3152.0     4.0         Actuals           0.060444   \n",
       "00024869        1048.0     4.0         Actuals           0.253968   \n",
       "00029559       76060.0     2.0         Actuals         516.260563   \n",
       "00030226         584.0    10.0         Actuals         473.260870   \n",
       "00033774        4017.0     4.0         Actuals        1866.017132   \n",
       "...                ...     ...             ...                ...   \n",
       "SC334329         381.0     NaN         Actuals          61.967019   \n",
       "SC367563        1125.0     2.0         Actuals           5.116468   \n",
       "SC419949           0.0     NaN         Actuals          20.503251   \n",
       "SC440783        1330.0     NaN         Actuals        9889.035686   \n",
       "SC578050           0.0     NaN         Actuals          16.295030   \n",
       "\n",
       "               IR_CO2ePerTurnoverM  IR_CO2ePerFTE  DefraRatio  \\\n",
       "CompanyNumber                                                   \n",
       "00019457                  0.078988       0.015111      1.3750   \n",
       "00024869                  0.954733       0.442748      0.0375   \n",
       "00029559                755.762887       2.891494      0.3750   \n",
       "00030226                373.200000      67.099315      6.6250   \n",
       "00033774                319.124586    1247.263132      3.8750   \n",
       "...                            ...            ...         ...   \n",
       "SC334329                 33.135135       3.217848      0.0375   \n",
       "SC367563                 25.995413       2.518667      0.3750   \n",
       "SC419949                 28.137931       0.000000      0.0375   \n",
       "SC440783                 25.656627       9.606767      2.6250   \n",
       "SC578050                  1.242424       0.000000      1.2500   \n",
       "\n",
       "               NormalisedIrCO2ePerAssetsM  NormalisedIrCO2ePerTurnoverM  \\\n",
       "CompanyNumber                                                             \n",
       "00019457                        88.414665                        39.608   \n",
       "00024869                        88.414665                        39.608   \n",
       "00029559                        88.414665                        39.608   \n",
       "00030226                        88.414665                        39.608   \n",
       "00033774                        88.414665                        39.608   \n",
       "...                                   ...                           ...   \n",
       "SC334329                        88.414665                        39.608   \n",
       "SC367563                        88.414665                        39.608   \n",
       "SC419949                        88.414665                        39.608   \n",
       "SC440783                        88.414665                        39.608   \n",
       "SC578050                        88.414665                        39.608   \n",
       "\n",
       "               NormalisedIrCO2ePerFTE  ScoreC1a  ScoreC1t  ScoreC1f  ScoreC2  \\\n",
       "CompanyNumber                                                                  \n",
       "00019457                     7.726939      10.0      10.0       9.0      9.0   \n",
       "00024869                     7.726939      10.0       9.0       8.0      6.0   \n",
       "00029559                     7.726939       2.0       1.0       5.0      2.0   \n",
       "00030226                     7.726939       2.0       2.0       2.0      5.0   \n",
       "00033774                     7.726939       1.0       2.0       1.0      2.0   \n",
       "...                               ...       ...       ...       ...      ...   \n",
       "SC334329                     7.726939       5.0       5.0       5.0      2.0   \n",
       "SC367563                     7.726939       8.0       5.0       5.0      6.0   \n",
       "SC419949                     7.726939       7.0       5.0       NaN      2.0   \n",
       "SC440783                     7.726939       1.0       5.0       3.0      5.0   \n",
       "SC578050                     7.726939       7.0       9.0       NaN      9.0   \n",
       "\n",
       "               ScoreC1  S1S2TesCO2eEst   S1S2CO2e  \n",
       "CompanyNumber                                      \n",
       "00019457           9.0        4.752723      47.63  \n",
       "00024869           9.0        1.300129     269.00  \n",
       "00029559           2.0        4.977054  219927.00  \n",
       "00030226           2.0      574.223656   39186.00  \n",
       "00033774           1.0     2426.440525  431311.00  \n",
       "...                ...             ...        ...  \n",
       "SC334329           5.0      123.837290       0.00  \n",
       "SC367563           6.0        1.148973    2272.20  \n",
       "SC419949           6.0      132.280591     771.00  \n",
       "SC440783           3.0      760.275821   12715.00  \n",
       "SC578050           8.0     6554.077348     123.00  \n",
       "\n",
       "[766 rows x 22 columns]"
      ]
     },
     "execution_count": 40,
     "metadata": {},
     "output_type": "execute_result"
    }
   ],
   "source": [
    "scores_table_in_company_matrix"
   ]
  },
  {
   "cell_type": "code",
   "execution_count": 41,
   "id": "802c30d5",
   "metadata": {},
   "outputs": [
    {
     "data": {
      "text/plain": [
       "CompanyNumber\n",
       "00019457      329\n",
       "00024869     6512\n",
       "00029559      701\n",
       "00030226     1712\n",
       "00033774     2059\n",
       "            ...  \n",
       "SC334329    64202\n",
       "SC367563     8299\n",
       "SC419949    64921\n",
       "SC440783     1011\n",
       "SC578050    46431\n",
       "Name: SIC, Length: 766, dtype: object"
      ]
     },
     "execution_count": 41,
     "metadata": {},
     "output_type": "execute_result"
    }
   ],
   "source": [
    "scores_table_in_company_matrix_sic = scores_table_in_company_matrix[\"SIC\"]\n",
    "scores_table_in_company_matrix_sic"
   ]
  },
  {
   "cell_type": "code",
   "execution_count": 42,
   "id": "fd49768b",
   "metadata": {},
   "outputs": [
    {
     "data": {
      "text/plain": [
       "CompanyNumber\n",
       "00019457       4.752723\n",
       "00024869       1.300129\n",
       "00029559       4.977054\n",
       "00030226     574.223656\n",
       "00033774    2426.440525\n",
       "               ...     \n",
       "SC334329     123.837290\n",
       "SC367563       1.148973\n",
       "SC419949     132.280591\n",
       "SC440783     760.275821\n",
       "SC578050    6554.077348\n",
       "Name: S1S2TesCO2eEst, Length: 766, dtype: float64"
      ]
     },
     "execution_count": 42,
     "metadata": {},
     "output_type": "execute_result"
    }
   ],
   "source": [
    "scores_table_in_company_matrix_S1S2TesCO2eEst = scores_table_in_company_matrix[\"S1S2TesCO2eEst\"]\n",
    "scores_table_in_company_matrix_S1S2TesCO2eEst"
   ]
  },
  {
   "cell_type": "code",
   "execution_count": 43,
   "id": "c95d52f0",
   "metadata": {},
   "outputs": [
    {
     "data": {
      "text/html": [
       "<div>\n",
       "<style scoped>\n",
       "    .dataframe tbody tr th:only-of-type {\n",
       "        vertical-align: middle;\n",
       "    }\n",
       "\n",
       "    .dataframe tbody tr th {\n",
       "        vertical-align: top;\n",
       "    }\n",
       "\n",
       "    .dataframe thead th {\n",
       "        text-align: right;\n",
       "    }\n",
       "</style>\n",
       "<table border=\"1\" class=\"dataframe\">\n",
       "  <thead>\n",
       "    <tr style=\"text-align: right;\">\n",
       "      <th></th>\n",
       "      <th>AssetsM</th>\n",
       "      <th>TurnoverM</th>\n",
       "      <th>FTE</th>\n",
       "      <th>IR_CO2ePerAssetsM</th>\n",
       "      <th>IR_CO2ePerTurnoverM</th>\n",
       "      <th>IR_CO2ePerFTE</th>\n",
       "      <th>DefraRatio</th>\n",
       "      <th>NormalisedIrCO2ePerAssetsM</th>\n",
       "      <th>NormalisedIrCO2ePerTurnoverM</th>\n",
       "      <th>NormalisedIrCO2ePerFTE</th>\n",
       "      <th>ScoreC1a</th>\n",
       "      <th>ScoreC1t</th>\n",
       "      <th>ScoreC1f</th>\n",
       "      <th>ScoreC2</th>\n",
       "      <th>ScoreC1</th>\n",
       "      <th>S1S2CO2e</th>\n",
       "    </tr>\n",
       "    <tr>\n",
       "      <th>CompanyNumber</th>\n",
       "      <th></th>\n",
       "      <th></th>\n",
       "      <th></th>\n",
       "      <th></th>\n",
       "      <th></th>\n",
       "      <th></th>\n",
       "      <th></th>\n",
       "      <th></th>\n",
       "      <th></th>\n",
       "      <th></th>\n",
       "      <th></th>\n",
       "      <th></th>\n",
       "      <th></th>\n",
       "      <th></th>\n",
       "      <th></th>\n",
       "      <th></th>\n",
       "    </tr>\n",
       "  </thead>\n",
       "  <tbody>\n",
       "    <tr>\n",
       "      <th>00019457</th>\n",
       "      <td>3152.0</td>\n",
       "      <td>603.3</td>\n",
       "      <td>3152.0</td>\n",
       "      <td>0.060444</td>\n",
       "      <td>0.078988</td>\n",
       "      <td>0.015111</td>\n",
       "      <td>1.3750</td>\n",
       "      <td>88.414665</td>\n",
       "      <td>39.608</td>\n",
       "      <td>7.726939</td>\n",
       "      <td>10.0</td>\n",
       "      <td>10.0</td>\n",
       "      <td>9.0</td>\n",
       "      <td>9.0</td>\n",
       "      <td>9.0</td>\n",
       "      <td>47.63</td>\n",
       "    </tr>\n",
       "    <tr>\n",
       "      <th>00024869</th>\n",
       "      <td>1048.0</td>\n",
       "      <td>486.0</td>\n",
       "      <td>1048.0</td>\n",
       "      <td>0.253968</td>\n",
       "      <td>0.954733</td>\n",
       "      <td>0.442748</td>\n",
       "      <td>0.0375</td>\n",
       "      <td>88.414665</td>\n",
       "      <td>39.608</td>\n",
       "      <td>7.726939</td>\n",
       "      <td>10.0</td>\n",
       "      <td>9.0</td>\n",
       "      <td>8.0</td>\n",
       "      <td>6.0</td>\n",
       "      <td>9.0</td>\n",
       "      <td>269.00</td>\n",
       "    </tr>\n",
       "    <tr>\n",
       "      <th>00029559</th>\n",
       "      <td>76060.0</td>\n",
       "      <td>291.2</td>\n",
       "      <td>76060.0</td>\n",
       "      <td>516.260563</td>\n",
       "      <td>755.762887</td>\n",
       "      <td>2.891494</td>\n",
       "      <td>0.3750</td>\n",
       "      <td>88.414665</td>\n",
       "      <td>39.608</td>\n",
       "      <td>7.726939</td>\n",
       "      <td>2.0</td>\n",
       "      <td>1.0</td>\n",
       "      <td>5.0</td>\n",
       "      <td>2.0</td>\n",
       "      <td>2.0</td>\n",
       "      <td>219927.00</td>\n",
       "    </tr>\n",
       "    <tr>\n",
       "      <th>00030226</th>\n",
       "      <td>584.0</td>\n",
       "      <td>104.6</td>\n",
       "      <td>584.0</td>\n",
       "      <td>473.260870</td>\n",
       "      <td>373.200000</td>\n",
       "      <td>67.099315</td>\n",
       "      <td>6.6250</td>\n",
       "      <td>88.414665</td>\n",
       "      <td>39.608</td>\n",
       "      <td>7.726939</td>\n",
       "      <td>2.0</td>\n",
       "      <td>2.0</td>\n",
       "      <td>2.0</td>\n",
       "      <td>5.0</td>\n",
       "      <td>2.0</td>\n",
       "      <td>39186.00</td>\n",
       "    </tr>\n",
       "    <tr>\n",
       "      <th>00033774</th>\n",
       "      <td>4017.0</td>\n",
       "      <td>15700.0</td>\n",
       "      <td>4017.0</td>\n",
       "      <td>1866.017132</td>\n",
       "      <td>319.124586</td>\n",
       "      <td>1247.263132</td>\n",
       "      <td>3.8750</td>\n",
       "      <td>88.414665</td>\n",
       "      <td>39.608</td>\n",
       "      <td>7.726939</td>\n",
       "      <td>1.0</td>\n",
       "      <td>2.0</td>\n",
       "      <td>1.0</td>\n",
       "      <td>2.0</td>\n",
       "      <td>1.0</td>\n",
       "      <td>431311.00</td>\n",
       "    </tr>\n",
       "  </tbody>\n",
       "</table>\n",
       "</div>"
      ],
      "text/plain": [
       "               AssetsM  TurnoverM      FTE  IR_CO2ePerAssetsM  \\\n",
       "CompanyNumber                                                   \n",
       "00019457        3152.0      603.3   3152.0           0.060444   \n",
       "00024869        1048.0      486.0   1048.0           0.253968   \n",
       "00029559       76060.0      291.2  76060.0         516.260563   \n",
       "00030226         584.0      104.6    584.0         473.260870   \n",
       "00033774        4017.0    15700.0   4017.0        1866.017132   \n",
       "\n",
       "               IR_CO2ePerTurnoverM  IR_CO2ePerFTE  DefraRatio  \\\n",
       "CompanyNumber                                                   \n",
       "00019457                  0.078988       0.015111      1.3750   \n",
       "00024869                  0.954733       0.442748      0.0375   \n",
       "00029559                755.762887       2.891494      0.3750   \n",
       "00030226                373.200000      67.099315      6.6250   \n",
       "00033774                319.124586    1247.263132      3.8750   \n",
       "\n",
       "               NormalisedIrCO2ePerAssetsM  NormalisedIrCO2ePerTurnoverM  \\\n",
       "CompanyNumber                                                             \n",
       "00019457                        88.414665                        39.608   \n",
       "00024869                        88.414665                        39.608   \n",
       "00029559                        88.414665                        39.608   \n",
       "00030226                        88.414665                        39.608   \n",
       "00033774                        88.414665                        39.608   \n",
       "\n",
       "               NormalisedIrCO2ePerFTE  ScoreC1a  ScoreC1t  ScoreC1f  ScoreC2  \\\n",
       "CompanyNumber                                                                  \n",
       "00019457                     7.726939      10.0      10.0       9.0      9.0   \n",
       "00024869                     7.726939      10.0       9.0       8.0      6.0   \n",
       "00029559                     7.726939       2.0       1.0       5.0      2.0   \n",
       "00030226                     7.726939       2.0       2.0       2.0      5.0   \n",
       "00033774                     7.726939       1.0       2.0       1.0      2.0   \n",
       "\n",
       "               ScoreC1   S1S2CO2e  \n",
       "CompanyNumber                      \n",
       "00019457           9.0      47.63  \n",
       "00024869           9.0     269.00  \n",
       "00029559           2.0  219927.00  \n",
       "00030226           2.0   39186.00  \n",
       "00033774           1.0  431311.00  "
      ]
     },
     "execution_count": 43,
     "metadata": {},
     "output_type": "execute_result"
    }
   ],
   "source": [
    "scores_table = scores_table_in_company_matrix.drop(columns=[\"CalculationType\", \"SIC\", \"S1S2TesCO2eEst\", \"EstAssetsM\", \"EstTurnoverM\", \"EstFTE\"])\n",
    "scores_table.head()"
   ]
  },
  {
   "cell_type": "code",
   "execution_count": 44,
   "id": "f5181f91",
   "metadata": {},
   "outputs": [
    {
     "name": "stdout",
     "output_type": "stream",
     "text": [
      "AssetsM                          0\n",
      "TurnoverM                        0\n",
      "FTE                              0\n",
      "IR_CO2ePerAssetsM                0\n",
      "IR_CO2ePerTurnoverM              0\n",
      "IR_CO2ePerFTE                    0\n",
      "DefraRatio                      10\n",
      "NormalisedIrCO2ePerAssetsM      10\n",
      "NormalisedIrCO2ePerTurnoverM    10\n",
      "NormalisedIrCO2ePerFTE          10\n",
      "ScoreC1a                         0\n",
      "ScoreC1t                         6\n",
      "ScoreC1f                        43\n",
      "ScoreC2                          7\n",
      "ScoreC1                          6\n",
      "S1S2CO2e                         0\n",
      "dtype: int64\n"
     ]
    }
   ],
   "source": [
    "missing_values = scores_table.isna().sum()\n",
    "print(missing_values)"
   ]
  },
  {
   "cell_type": "code",
   "execution_count": 45,
   "id": "2982a01b",
   "metadata": {},
   "outputs": [
    {
     "data": {
      "text/html": [
       "<div>\n",
       "<style scoped>\n",
       "    .dataframe tbody tr th:only-of-type {\n",
       "        vertical-align: middle;\n",
       "    }\n",
       "\n",
       "    .dataframe tbody tr th {\n",
       "        vertical-align: top;\n",
       "    }\n",
       "\n",
       "    .dataframe thead th {\n",
       "        text-align: right;\n",
       "    }\n",
       "</style>\n",
       "<table border=\"1\" class=\"dataframe\">\n",
       "  <thead>\n",
       "    <tr style=\"text-align: right;\">\n",
       "      <th></th>\n",
       "      <th>AssetsM</th>\n",
       "      <th>TurnoverM</th>\n",
       "      <th>FTE</th>\n",
       "      <th>IR_CO2ePerAssetsM</th>\n",
       "      <th>IR_CO2ePerTurnoverM</th>\n",
       "      <th>IR_CO2ePerFTE</th>\n",
       "      <th>DefraRatio</th>\n",
       "      <th>NormalisedIrCO2ePerAssetsM</th>\n",
       "      <th>NormalisedIrCO2ePerTurnoverM</th>\n",
       "      <th>NormalisedIrCO2ePerFTE</th>\n",
       "      <th>ScoreC1a</th>\n",
       "      <th>ScoreC1t</th>\n",
       "      <th>ScoreC1f</th>\n",
       "      <th>ScoreC2</th>\n",
       "      <th>ScoreC1</th>\n",
       "      <th>S1S2CO2e</th>\n",
       "    </tr>\n",
       "  </thead>\n",
       "  <tbody>\n",
       "    <tr>\n",
       "      <th>count</th>\n",
       "      <td>766.000000</td>\n",
       "      <td>766.000000</td>\n",
       "      <td>766.000000</td>\n",
       "      <td>766.000000</td>\n",
       "      <td>766.000000</td>\n",
       "      <td>766.000000</td>\n",
       "      <td>756.000000</td>\n",
       "      <td>756.000000</td>\n",
       "      <td>7.560000e+02</td>\n",
       "      <td>7.560000e+02</td>\n",
       "      <td>766.000000</td>\n",
       "      <td>760.000000</td>\n",
       "      <td>723.000000</td>\n",
       "      <td>759.000000</td>\n",
       "      <td>760.000000</td>\n",
       "      <td>766.000000</td>\n",
       "    </tr>\n",
       "    <tr>\n",
       "      <th>mean</th>\n",
       "      <td>4289.134634</td>\n",
       "      <td>890.410810</td>\n",
       "      <td>4289.134634</td>\n",
       "      <td>723.249969</td>\n",
       "      <td>427.695733</td>\n",
       "      <td>99.173524</td>\n",
       "      <td>1.569726</td>\n",
       "      <td>88.414665</td>\n",
       "      <td>3.960800e+01</td>\n",
       "      <td>7.726939e+00</td>\n",
       "      <td>5.701044</td>\n",
       "      <td>5.800000</td>\n",
       "      <td>5.195021</td>\n",
       "      <td>5.069829</td>\n",
       "      <td>5.309211</td>\n",
       "      <td>21977.424722</td>\n",
       "    </tr>\n",
       "    <tr>\n",
       "      <th>std</th>\n",
       "      <td>14051.864906</td>\n",
       "      <td>3560.364803</td>\n",
       "      <td>14051.864906</td>\n",
       "      <td>8767.514069</td>\n",
       "      <td>8250.402957</td>\n",
       "      <td>876.718596</td>\n",
       "      <td>7.400178</td>\n",
       "      <td>0.000000</td>\n",
       "      <td>7.110131e-15</td>\n",
       "      <td>1.777533e-15</td>\n",
       "      <td>2.763095</td>\n",
       "      <td>2.726825</td>\n",
       "      <td>2.528919</td>\n",
       "      <td>2.174237</td>\n",
       "      <td>2.437718</td>\n",
       "      <td>64710.107373</td>\n",
       "    </tr>\n",
       "    <tr>\n",
       "      <th>min</th>\n",
       "      <td>0.000000</td>\n",
       "      <td>0.043317</td>\n",
       "      <td>0.000000</td>\n",
       "      <td>0.004295</td>\n",
       "      <td>0.000000</td>\n",
       "      <td>0.000000</td>\n",
       "      <td>0.037500</td>\n",
       "      <td>88.414665</td>\n",
       "      <td>3.960800e+01</td>\n",
       "      <td>7.726939e+00</td>\n",
       "      <td>1.000000</td>\n",
       "      <td>1.000000</td>\n",
       "      <td>1.000000</td>\n",
       "      <td>1.000000</td>\n",
       "      <td>1.000000</td>\n",
       "      <td>0.000000</td>\n",
       "    </tr>\n",
       "    <tr>\n",
       "      <th>25%</th>\n",
       "      <td>139.250000</td>\n",
       "      <td>45.613176</td>\n",
       "      <td>139.250000</td>\n",
       "      <td>10.202926</td>\n",
       "      <td>4.402509</td>\n",
       "      <td>0.705485</td>\n",
       "      <td>0.125000</td>\n",
       "      <td>88.414665</td>\n",
       "      <td>3.960800e+01</td>\n",
       "      <td>7.726939e+00</td>\n",
       "      <td>3.000000</td>\n",
       "      <td>3.000000</td>\n",
       "      <td>3.000000</td>\n",
       "      <td>4.000000</td>\n",
       "      <td>3.000000</td>\n",
       "      <td>223.000000</td>\n",
       "    </tr>\n",
       "    <tr>\n",
       "      <th>50%</th>\n",
       "      <td>460.500000</td>\n",
       "      <td>91.066500</td>\n",
       "      <td>460.500000</td>\n",
       "      <td>34.789544</td>\n",
       "      <td>16.950000</td>\n",
       "      <td>3.222714</td>\n",
       "      <td>0.375000</td>\n",
       "      <td>88.414665</td>\n",
       "      <td>3.960800e+01</td>\n",
       "      <td>7.726939e+00</td>\n",
       "      <td>6.000000</td>\n",
       "      <td>6.000000</td>\n",
       "      <td>5.000000</td>\n",
       "      <td>5.000000</td>\n",
       "      <td>5.000000</td>\n",
       "      <td>1216.850000</td>\n",
       "    </tr>\n",
       "    <tr>\n",
       "      <th>75%</th>\n",
       "      <td>1812.500000</td>\n",
       "      <td>350.050000</td>\n",
       "      <td>1812.500000</td>\n",
       "      <td>134.668474</td>\n",
       "      <td>52.877446</td>\n",
       "      <td>9.891508</td>\n",
       "      <td>0.875000</td>\n",
       "      <td>88.414665</td>\n",
       "      <td>3.960800e+01</td>\n",
       "      <td>7.726939e+00</td>\n",
       "      <td>8.000000</td>\n",
       "      <td>8.000000</td>\n",
       "      <td>7.000000</td>\n",
       "      <td>6.000000</td>\n",
       "      <td>7.000000</td>\n",
       "      <td>7210.260000</td>\n",
       "    </tr>\n",
       "    <tr>\n",
       "      <th>max</th>\n",
       "      <td>155000.000000</td>\n",
       "      <td>47150.000000</td>\n",
       "      <td>155000.000000</td>\n",
       "      <td>217037.037037</td>\n",
       "      <td>226923.741935</td>\n",
       "      <td>16847.666667</td>\n",
       "      <td>99.750000</td>\n",
       "      <td>88.414665</td>\n",
       "      <td>3.960800e+01</td>\n",
       "      <td>7.726939e+00</td>\n",
       "      <td>10.000000</td>\n",
       "      <td>10.000000</td>\n",
       "      <td>9.000000</td>\n",
       "      <td>10.000000</td>\n",
       "      <td>10.000000</td>\n",
       "      <td>454154.000000</td>\n",
       "    </tr>\n",
       "  </tbody>\n",
       "</table>\n",
       "</div>"
      ],
      "text/plain": [
       "             AssetsM     TurnoverM            FTE  IR_CO2ePerAssetsM  \\\n",
       "count     766.000000    766.000000     766.000000         766.000000   \n",
       "mean     4289.134634    890.410810    4289.134634         723.249969   \n",
       "std     14051.864906   3560.364803   14051.864906        8767.514069   \n",
       "min         0.000000      0.043317       0.000000           0.004295   \n",
       "25%       139.250000     45.613176     139.250000          10.202926   \n",
       "50%       460.500000     91.066500     460.500000          34.789544   \n",
       "75%      1812.500000    350.050000    1812.500000         134.668474   \n",
       "max    155000.000000  47150.000000  155000.000000      217037.037037   \n",
       "\n",
       "       IR_CO2ePerTurnoverM  IR_CO2ePerFTE  DefraRatio  \\\n",
       "count           766.000000     766.000000  756.000000   \n",
       "mean            427.695733      99.173524    1.569726   \n",
       "std            8250.402957     876.718596    7.400178   \n",
       "min               0.000000       0.000000    0.037500   \n",
       "25%               4.402509       0.705485    0.125000   \n",
       "50%              16.950000       3.222714    0.375000   \n",
       "75%              52.877446       9.891508    0.875000   \n",
       "max          226923.741935   16847.666667   99.750000   \n",
       "\n",
       "       NormalisedIrCO2ePerAssetsM  NormalisedIrCO2ePerTurnoverM  \\\n",
       "count                  756.000000                  7.560000e+02   \n",
       "mean                    88.414665                  3.960800e+01   \n",
       "std                      0.000000                  7.110131e-15   \n",
       "min                     88.414665                  3.960800e+01   \n",
       "25%                     88.414665                  3.960800e+01   \n",
       "50%                     88.414665                  3.960800e+01   \n",
       "75%                     88.414665                  3.960800e+01   \n",
       "max                     88.414665                  3.960800e+01   \n",
       "\n",
       "       NormalisedIrCO2ePerFTE    ScoreC1a    ScoreC1t    ScoreC1f     ScoreC2  \\\n",
       "count            7.560000e+02  766.000000  760.000000  723.000000  759.000000   \n",
       "mean             7.726939e+00    5.701044    5.800000    5.195021    5.069829   \n",
       "std              1.777533e-15    2.763095    2.726825    2.528919    2.174237   \n",
       "min              7.726939e+00    1.000000    1.000000    1.000000    1.000000   \n",
       "25%              7.726939e+00    3.000000    3.000000    3.000000    4.000000   \n",
       "50%              7.726939e+00    6.000000    6.000000    5.000000    5.000000   \n",
       "75%              7.726939e+00    8.000000    8.000000    7.000000    6.000000   \n",
       "max              7.726939e+00   10.000000   10.000000    9.000000   10.000000   \n",
       "\n",
       "          ScoreC1       S1S2CO2e  \n",
       "count  760.000000     766.000000  \n",
       "mean     5.309211   21977.424722  \n",
       "std      2.437718   64710.107373  \n",
       "min      1.000000       0.000000  \n",
       "25%      3.000000     223.000000  \n",
       "50%      5.000000    1216.850000  \n",
       "75%      7.000000    7210.260000  \n",
       "max     10.000000  454154.000000  "
      ]
     },
     "execution_count": 45,
     "metadata": {},
     "output_type": "execute_result"
    }
   ],
   "source": [
    "scores_table.describe()"
   ]
  },
  {
   "cell_type": "code",
   "execution_count": 46,
   "id": "12aa7a46",
   "metadata": {},
   "outputs": [
    {
     "name": "stdout",
     "output_type": "stream",
     "text": [
      "AssetsM                         0\n",
      "TurnoverM                       0\n",
      "FTE                             0\n",
      "IR_CO2ePerAssetsM               0\n",
      "IR_CO2ePerTurnoverM             0\n",
      "IR_CO2ePerFTE                   0\n",
      "DefraRatio                      0\n",
      "NormalisedIrCO2ePerAssetsM      0\n",
      "NormalisedIrCO2ePerTurnoverM    0\n",
      "NormalisedIrCO2ePerFTE          0\n",
      "ScoreC1a                        0\n",
      "ScoreC1t                        0\n",
      "ScoreC1f                        0\n",
      "ScoreC2                         0\n",
      "ScoreC1                         0\n",
      "S1S2CO2e                        0\n",
      "dtype: int64\n"
     ]
    }
   ],
   "source": [
    "# fill missing values with the mean of each column\n",
    "scores_table.fillna(scores_table.mean(), inplace=True)\n",
    "missing_values = scores_table.isna().sum()\n",
    "print(missing_values)"
   ]
  },
  {
   "cell_type": "code",
   "execution_count": 51,
   "id": "a2675bdb",
   "metadata": {},
   "outputs": [
    {
     "data": {
      "text/plain": [
       "(766, 16)"
      ]
     },
     "execution_count": 51,
     "metadata": {},
     "output_type": "execute_result"
    }
   ],
   "source": [
    "scores_table.shape"
   ]
  },
  {
   "cell_type": "code",
   "execution_count": 61,
   "id": "bd8ae267",
   "metadata": {},
   "outputs": [],
   "source": [
    "from sklearn.preprocessing import MinMaxScaler\n",
    "import numpy as np\n",
    "\n",
    "scaler = MinMaxScaler()\n",
    "normalised_score_table = scaler.fit_transform(scores_table)\n",
    "\n",
    "S1S2CO2e = normalised_score_table[:, -1]\n",
    "S1S2CO2e = S1S2CO2e.reshape(-1, 1)\n",
    "\n",
    "# drop the last column\n",
    "normalised_score_table = np.delete(normalised_score_table, -1, axis=1)"
   ]
  },
  {
   "cell_type": "code",
   "execution_count": 50,
   "id": "4bab8499",
   "metadata": {},
   "outputs": [
    {
     "data": {
      "text/plain": [
       "(766, 15)"
      ]
     },
     "execution_count": 50,
     "metadata": {},
     "output_type": "execute_result"
    }
   ],
   "source": [
    "normalised_score_table.shape"
   ]
  },
  {
   "cell_type": "code",
   "execution_count": 62,
   "id": "c8f2feae",
   "metadata": {},
   "outputs": [
    {
     "name": "stdout",
     "output_type": "stream",
     "text": [
      "Number of instances in X: 766\n",
      "Number of instances in X_train: 536\n",
      "Number of instances in X_test: 230\n",
      "Number of instances in X_train and X_test together: 766\n"
     ]
    }
   ],
   "source": [
    "import numpy as np\n",
    "from sklearn.model_selection import train_test_split\n",
    "\n",
    "X = normalised_score_table\n",
    "Y = S1S2CO2e\n",
    "\n",
    "X_train, X_test, y_train, y_test = train_test_split(X, Y, train_size=0.70, test_size=0.30, random_state=0)\n",
    "\n",
    "print('Number of instances in X: {}'.format(np.shape(X)[0]))\n",
    "print('Number of instances in X_train: {}'.format(X_train.shape[0]))\n",
    "print('Number of instances in X_test: {}'.format(X_test.shape[0]))\n",
    "print('Number of instances in X_train and X_test together: {}'.format(X_train.shape[0] + X_test.shape[0]))"
   ]
  },
  {
   "cell_type": "markdown",
   "id": "ae1a14be",
   "metadata": {},
   "source": [
    "Linear Regression"
   ]
  },
  {
   "cell_type": "code",
   "execution_count": 63,
   "id": "abc75d31",
   "metadata": {
    "scrolled": true
   },
   "outputs": [
    {
     "name": "stdout",
     "output_type": "stream",
     "text": [
      "Training accuracy: 0.387\n",
      "Testing accuracy by using score function: 0.201\n",
      "Testing accuracy by using r2_score meric: 0.201\n"
     ]
    }
   ],
   "source": [
    "from sklearn.linear_model import LinearRegression\n",
    "from sklearn.metrics import r2_score\n",
    "\n",
    "linear_regressor = LinearRegression(fit_intercept=True, copy_X=True)\n",
    "linear_regressor.fit(X_train, y_train)\n",
    "print('Training accuracy: {:.3f}'.format(linear_regressor.score(X_train, y_train)))\n",
    "\n",
    "print('Testing accuracy by using score function: {:.3f}'.format(linear_regressor.score(X_test, y_test)))\n",
    "print('Testing accuracy by using r2_score meric: {:.3f}'.format(r2_score(y_test, linear_regressor.predict(X_test))))"
   ]
  },
  {
   "cell_type": "code",
   "execution_count": 64,
   "id": "8abfe793",
   "metadata": {},
   "outputs": [
    {
     "name": "stdout",
     "output_type": "stream",
     "text": [
      "Cross-validation scores:  [ 0.06754337  0.39147796  0.35061968  0.28808074 -4.47614518 -0.01948392\n",
      " -0.02236328  0.47419391  0.22718849  0.44411054]\n",
      "Mean cross-validation score: -0.227\n"
     ]
    }
   ],
   "source": [
    "from sklearn.model_selection import cross_val_score\n",
    "\n",
    "# perform 10-fold cross-validation\n",
    "cv_scores = cross_val_score(linear_regressor, X_train, y_train, cv=10)\n",
    "\n",
    "# print the cross-validation scores\n",
    "print('Cross-validation scores: ', cv_scores)\n",
    "\n",
    "# print the mean of the cross-validation scores\n",
    "print('Mean cross-validation score: {:.3f}'.format(np.mean(cv_scores)))"
   ]
  },
  {
   "cell_type": "code",
   "execution_count": 70,
   "id": "8694b83b",
   "metadata": {},
   "outputs": [
    {
     "name": "stdout",
     "output_type": "stream",
     "text": [
      "Root Mean Squared Error: 0.135\n"
     ]
    }
   ],
   "source": [
    "from sklearn.metrics import mean_squared_error\n",
    "\n",
    "# make predictions on the test set\n",
    "y_pred_train = linear_regressor.predict(X_train)\n",
    "y_pred = linear_regressor.predict(X_test)\n",
    "\n",
    "# calculate the RMSE\n",
    "rmse = mean_squared_error(y_test, y_pred, squared=False)\n",
    "\n",
    "print('Root Mean Squared Error: {:.3f}'.format(rmse))"
   ]
  },
  {
   "cell_type": "code",
   "execution_count": 68,
   "id": "bc45256d",
   "metadata": {},
   "outputs": [
    {
     "data": {
      "text/plain": [
       "array([[-2.15721370e-02],\n",
       "       [ 1.05654745e-02],\n",
       "       [ 4.17768686e-02],\n",
       "       [ 3.22967075e-02],\n",
       "       [ 4.60381116e-02],\n",
       "       [ 5.25819842e-01],\n",
       "       [ 1.87818764e-01],\n",
       "       [ 2.86701545e-02],\n",
       "       [-9.16981923e-04],\n",
       "       [ 4.43882661e-02],\n",
       "       [ 4.86275490e-02],\n",
       "       [ 3.22544214e-02],\n",
       "       [ 5.49172709e-02],\n",
       "       [ 2.67817486e-02],\n",
       "       [ 2.90203592e-02],\n",
       "       [-1.58462776e-02],\n",
       "       [ 2.36551323e-02],\n",
       "       [ 3.46611294e-02],\n",
       "       [ 9.96009356e-02],\n",
       "       [ 1.57578776e-02],\n",
       "       [ 4.24398943e-02],\n",
       "       [ 7.23389952e-02],\n",
       "       [-2.92925803e-03],\n",
       "       [ 3.76495353e-02],\n",
       "       [ 3.59949731e-02],\n",
       "       [ 2.09777566e-02],\n",
       "       [ 2.91400470e-02],\n",
       "       [ 6.01455819e-03],\n",
       "       [-1.23657920e-02],\n",
       "       [ 9.05435107e-02],\n",
       "       [ 3.77424897e-02],\n",
       "       [ 1.25678812e-01],\n",
       "       [ 4.33146393e-03],\n",
       "       [-7.40624720e-03],\n",
       "       [ 1.49535955e-02],\n",
       "       [ 4.16769907e-02],\n",
       "       [ 1.54961206e-02],\n",
       "       [-5.63092850e-03],\n",
       "       [-1.00324189e-02],\n",
       "       [-1.43745609e-03],\n",
       "       [ 4.60067613e-02],\n",
       "       [-1.43208862e-02],\n",
       "       [ 1.90214846e-02],\n",
       "       [ 2.86374796e-02],\n",
       "       [ 6.02900103e-02],\n",
       "       [ 6.01099533e-03],\n",
       "       [ 2.31373742e-02],\n",
       "       [ 1.52247050e-02],\n",
       "       [-3.27413330e-02],\n",
       "       [ 4.64064454e-02],\n",
       "       [ 7.06506407e-02],\n",
       "       [-4.87022612e-03],\n",
       "       [ 9.96201314e-02],\n",
       "       [-3.37464734e-02],\n",
       "       [ 1.11758895e-01],\n",
       "       [ 1.19107813e-01],\n",
       "       [ 7.49705353e-04],\n",
       "       [ 2.21157715e-02],\n",
       "       [ 4.62385438e-02],\n",
       "       [ 5.53495069e-03],\n",
       "       [ 4.02104199e-02],\n",
       "       [ 4.52048876e-02],\n",
       "       [ 7.62624323e-02],\n",
       "       [ 1.51896774e-02],\n",
       "       [-1.86115928e-02],\n",
       "       [ 5.80967566e-02],\n",
       "       [ 2.06828372e-01],\n",
       "       [ 1.54353836e-02],\n",
       "       [ 1.93932472e-02],\n",
       "       [ 1.47855709e-01],\n",
       "       [ 1.60142058e-02],\n",
       "       [ 9.01053167e-02],\n",
       "       [ 2.52772351e-02],\n",
       "       [ 1.34264022e-02],\n",
       "       [ 4.92528771e-02],\n",
       "       [ 5.28653143e-01],\n",
       "       [ 1.93234761e-02],\n",
       "       [-6.38820598e-02],\n",
       "       [-1.69751847e-02],\n",
       "       [ 2.40805376e-02],\n",
       "       [ 4.95690235e-02],\n",
       "       [ 4.09971203e-02],\n",
       "       [ 8.25087026e-02],\n",
       "       [ 2.66351643e-02],\n",
       "       [ 2.35811273e-02],\n",
       "       [ 6.06726726e-02],\n",
       "       [ 5.98942287e-02],\n",
       "       [ 1.49490331e-01],\n",
       "       [ 7.50689235e-02],\n",
       "       [ 8.79075466e-02],\n",
       "       [ 2.44793683e-02],\n",
       "       [ 3.23534569e-02],\n",
       "       [ 3.22495001e-02],\n",
       "       [ 1.17503637e-01],\n",
       "       [ 6.28283855e-02],\n",
       "       [ 1.45810773e-01],\n",
       "       [-1.10199737e-02],\n",
       "       [ 2.32162070e-02],\n",
       "       [ 1.63377079e-02],\n",
       "       [ 1.02578007e-01],\n",
       "       [ 8.03605393e-03],\n",
       "       [ 1.04986325e-01],\n",
       "       [ 3.94578728e-02],\n",
       "       [ 4.41339902e-02],\n",
       "       [ 1.71702628e-01],\n",
       "       [ 3.66153478e-02],\n",
       "       [ 4.57493939e-02],\n",
       "       [ 1.34506222e-01],\n",
       "       [ 1.33396819e-02],\n",
       "       [ 3.29514362e-01],\n",
       "       [ 5.91455452e-03],\n",
       "       [ 2.89766708e-02],\n",
       "       [ 3.73894041e-03],\n",
       "       [ 2.06454035e-02],\n",
       "       [ 4.83682326e-02],\n",
       "       [ 7.48085216e-02],\n",
       "       [ 4.99299251e-02],\n",
       "       [ 1.50546381e-01],\n",
       "       [ 7.09635201e-02],\n",
       "       [ 7.90544317e-02],\n",
       "       [ 1.39245127e-02],\n",
       "       [-2.15505417e-02],\n",
       "       [ 3.65867830e-02],\n",
       "       [ 9.09423666e-02],\n",
       "       [-1.01841010e-02],\n",
       "       [-1.92383681e-03],\n",
       "       [ 4.84818366e-02],\n",
       "       [ 4.92564390e-02],\n",
       "       [ 1.14635960e-02],\n",
       "       [ 4.80491401e-03],\n",
       "       [ 2.93859713e-03],\n",
       "       [ 2.80381894e-02],\n",
       "       [ 2.41320488e-02],\n",
       "       [ 2.64232263e-02],\n",
       "       [-4.36181980e-04],\n",
       "       [ 3.29078973e-02],\n",
       "       [ 1.07873201e-01],\n",
       "       [ 2.31940197e-02],\n",
       "       [ 5.54574907e-02],\n",
       "       [-7.34717483e-03],\n",
       "       [ 1.44916636e-01],\n",
       "       [-1.42705603e-02],\n",
       "       [ 1.09190305e-02],\n",
       "       [ 2.63395605e-02],\n",
       "       [ 9.63553440e-02],\n",
       "       [-1.23501097e-02],\n",
       "       [-9.29377186e-03],\n",
       "       [ 3.12169802e-02],\n",
       "       [ 2.01985519e-01],\n",
       "       [ 2.93168013e-02],\n",
       "       [ 4.22584487e-02],\n",
       "       [-1.14059552e-02],\n",
       "       [ 6.42780272e-02],\n",
       "       [ 6.94420812e-03],\n",
       "       [-8.74089447e-03],\n",
       "       [ 3.67792064e-03],\n",
       "       [ 3.55692672e-02],\n",
       "       [ 1.62882460e-01],\n",
       "       [ 1.33102185e-02],\n",
       "       [ 4.13117650e-02],\n",
       "       [ 4.78686440e-02],\n",
       "       [-2.33385255e-02],\n",
       "       [ 5.35032832e-02],\n",
       "       [ 6.45246880e-02],\n",
       "       [ 4.01624882e-02],\n",
       "       [ 4.03184344e-02],\n",
       "       [ 1.37180679e-02],\n",
       "       [ 2.32132944e-02],\n",
       "       [ 7.09919724e-02],\n",
       "       [ 1.41440109e-02],\n",
       "       [ 3.49729622e-02],\n",
       "       [ 1.58340415e-02],\n",
       "       [ 6.38578022e-02],\n",
       "       [ 2.43583508e-02],\n",
       "       [-6.55202007e-02],\n",
       "       [ 2.33320940e-02],\n",
       "       [ 1.43422466e-02],\n",
       "       [-7.70039839e-03],\n",
       "       [-7.41429383e-03],\n",
       "       [ 1.28579356e-02],\n",
       "       [ 2.64177581e-02],\n",
       "       [-1.38673011e-02],\n",
       "       [ 1.27174288e-02],\n",
       "       [ 1.44211727e-02],\n",
       "       [-1.48427179e-02],\n",
       "       [ 1.26787406e-01],\n",
       "       [-1.06827402e-02],\n",
       "       [ 1.67004751e-02],\n",
       "       [ 3.27542153e-02],\n",
       "       [ 6.73056912e-02],\n",
       "       [ 7.20673198e-02],\n",
       "       [ 6.31329284e-03],\n",
       "       [ 2.23810019e-02],\n",
       "       [ 6.39532433e-02],\n",
       "       [-2.60004363e-03],\n",
       "       [ 8.68942809e-02],\n",
       "       [ 4.43253324e-02],\n",
       "       [-4.51186672e-03],\n",
       "       [ 6.65913736e-03],\n",
       "       [ 6.73945937e-02],\n",
       "       [ 1.60542335e-02],\n",
       "       [ 3.92120739e-02],\n",
       "       [ 1.45933555e-02],\n",
       "       [ 2.52529979e-02],\n",
       "       [ 2.30662738e-02],\n",
       "       [ 4.12329039e-02],\n",
       "       [ 1.31917843e-02],\n",
       "       [ 3.61415244e-02],\n",
       "       [-1.78671072e-02],\n",
       "       [ 4.46624123e-03],\n",
       "       [ 8.59519734e-02],\n",
       "       [ 9.52044333e-04],\n",
       "       [ 2.44474559e-02],\n",
       "       [ 3.40003692e-03],\n",
       "       [ 1.89905998e-01],\n",
       "       [ 6.63354017e-02],\n",
       "       [ 3.31952340e-02],\n",
       "       [ 2.33544404e-02],\n",
       "       [ 5.70467512e-02],\n",
       "       [ 2.11526763e-02],\n",
       "       [ 1.29483062e-01],\n",
       "       [ 1.33279548e-02],\n",
       "       [ 1.10113834e-01],\n",
       "       [ 8.24690986e-02],\n",
       "       [ 4.81960634e-02],\n",
       "       [ 1.67000641e-01],\n",
       "       [ 3.38746521e-01],\n",
       "       [ 1.93899590e-01],\n",
       "       [-1.97567708e-02],\n",
       "       [ 3.54973269e-02]])"
      ]
     },
     "execution_count": 68,
     "metadata": {},
     "output_type": "execute_result"
    }
   ],
   "source": [
    "y_pred"
   ]
  },
  {
   "cell_type": "code",
   "execution_count": 72,
   "id": "ab31888c",
   "metadata": {},
   "outputs": [
    {
     "data": {
      "text/plain": [
       "(766, 1)"
      ]
     },
     "execution_count": 72,
     "metadata": {},
     "output_type": "execute_result"
    }
   ],
   "source": [
    "y_pred_combined = np.concatenate((y_pred_train, y_pred), axis=0)\n",
    "y_pred_combined.shape"
   ]
  },
  {
   "cell_type": "code",
   "execution_count": 73,
   "id": "3d675355",
   "metadata": {},
   "outputs": [],
   "source": [
    "# Assuming y_pred is already defined and has the same number of rows as normalised_score_table\n",
    "\n",
    "# Append y_pred to the normalised_score_table\n",
    "combined_table = np.hstack((normalised_score_table, y_pred_combined))\n",
    "\n",
    "# Inverse transform the combined table\n",
    "inverse_transformed_table = scaler.inverse_transform(combined_table)\n",
    "\n",
    "# Extract the inverse transformed y_pred\n",
    "inverse_transformed_y_pred = inverse_transformed_table[:, -1]\n"
   ]
  },
  {
   "cell_type": "code",
   "execution_count": 74,
   "id": "3e652ea6",
   "metadata": {},
   "outputs": [
    {
     "data": {
      "text/plain": [
       "array([ 4.63915419e+04,  1.70763543e+04, -4.26749958e+03,  1.82934594e+04,\n",
       "        1.36549660e+05,  4.08831690e+04, -4.05705052e+03,  2.70894151e+04,\n",
       "       -3.21706450e+03,  1.68176216e+04,  1.20970792e+04,  1.95034450e+04,\n",
       "       -9.65553574e+03,  2.19855868e+04, -7.41684360e+03,  2.06831412e+04,\n",
       "       -9.37652458e+03,  2.72708253e+04,  3.43455020e+04,  1.89807476e+04,\n",
       "        2.42881493e+04,  2.75250437e+03,  2.72075688e+04,  1.13683988e+04,\n",
       "        1.73066525e+04,  2.58880827e+04,  2.19266361e+04,  2.06777761e+03,\n",
       "        3.60035142e+02,  8.47463530e+03,  2.00386967e+04,  2.15207451e+04,\n",
       "        1.30543087e+04,  8.08068111e+04,  3.88987685e+04,  2.89387283e+04,\n",
       "        2.48761464e+04,  2.92388723e+04, -9.54622315e+03,  3.11339538e+04,\n",
       "        2.05099925e+04,  1.50463243e+04,  1.73330567e+03,  6.80668043e+03,\n",
       "       -2.90713938e+03,  2.90530702e+04, -4.08026087e+03,  9.13539306e+03,\n",
       "        8.20284000e+04,  1.90137414e+04,  3.67616151e+04,  6.05350228e+03,\n",
       "        2.53470306e+04,  2.19924992e+04,  1.32351547e+04, -4.68674287e+03,\n",
       "        3.46894242e+02, -1.95337806e+03, -1.17191549e+04,  1.10319580e+04,\n",
       "        8.88781079e+03,  3.81151092e+04, -4.26931627e+03,  1.70736089e+04,\n",
       "        6.51491212e+03,  3.60783520e+03,  4.20204469e+04,  7.04140152e+03,\n",
       "        2.29957249e+04,  1.84940149e+04, -3.05484160e+03,  1.58629313e+04,\n",
       "        1.78925323e+04,  4.41151778e+04,  1.53821849e+04, -9.59536382e+03,\n",
       "        2.97891231e+04, -4.19319578e+03,  2.64033580e+03,  1.93756977e+04,\n",
       "        1.69116469e+04,  1.72479054e+05, -2.51172094e+03, -2.59019560e+03,\n",
       "       -9.11220460e+03,  1.27730920e+04,  2.94454268e+05,  1.88829433e+04,\n",
       "        3.19986698e+04,  2.15139936e+04,  1.91693787e+04,  2.67176355e+04,\n",
       "        1.95664760e+04,  1.74241633e+04,  1.48458991e+04, -1.22356536e+03,\n",
       "        2.83873927e+04,  2.52560432e+02,  2.38596624e+04,  2.84725205e+04,\n",
       "        5.68839173e+03,  1.23723538e+05, -2.70143366e+03,  3.68758742e+04,\n",
       "        2.75807964e+04, -4.42147617e+03, -2.67118816e+03,  6.22747994e+03,\n",
       "        1.03138935e+05,  2.83178682e+04, -1.27246507e+04,  2.17296994e+04,\n",
       "        9.48305429e+03,  1.41497801e+04,  8.13076433e+03,  1.70867012e+04,\n",
       "        4.44984485e+04, -3.70832048e+04,  3.77248436e+04,  2.44133826e+05,\n",
       "       -8.35395164e+03,  3.96226171e+04,  2.72151703e+03,  1.81813363e+04,\n",
       "       -2.20971964e+03,  1.91066234e+04, -5.41467249e+03,  1.25956505e+04,\n",
       "        3.30498356e+04,  3.46822854e+04,  6.97002690e+04, -8.98080814e+03,\n",
       "        3.46351507e+04,  3.34688936e+04,  3.49118904e+04,  2.72445751e+04,\n",
       "        1.51687438e+05, -1.74626549e+04,  3.75725231e+03, -1.09652919e+04,\n",
       "        3.58572657e+04,  2.28045555e+05,  8.04002807e+03,  2.12387925e+04,\n",
       "        1.13552513e+03,  2.14127948e+04,  1.51650601e+04,  3.58203484e+04,\n",
       "       -1.33635660e+03,  2.08858990e+04,  1.53102536e+04, -7.92854734e+03,\n",
       "        1.33867675e+04,  9.63701745e+03,  3.28308294e+04,  1.17737931e+04,\n",
       "       -6.79593454e+03, -4.76700757e+03,  2.00290265e+04,  1.30403676e+04,\n",
       "       -7.91610767e+03,  2.65330465e+04,  2.77957875e+04,  1.72969908e+04,\n",
       "        6.16640896e+03, -8.75391426e+02,  2.42359304e+03,  4.01857844e+04,\n",
       "        1.44220794e+04,  5.22523556e+03, -3.49219562e+03, -7.80170475e+03,\n",
       "        1.07098268e+04,  3.10779014e+04, -4.52187212e+03, -4.41402433e+02,\n",
       "        1.87874076e+04,  1.19126108e+04,  9.06989251e+03,  1.75488531e+04,\n",
       "        2.18456873e+04, -5.44562435e+03,  3.28429948e+03,  1.00119593e+04,\n",
       "        9.61291482e+03, -4.93842692e+03,  2.16882517e+02,  3.54747295e+03,\n",
       "       -1.07024701e+03,  1.77582738e+04,  9.36394595e+02,  1.20406026e+04,\n",
       "        5.17451719e+03,  3.76431182e+04,  9.44055916e+04,  4.10457389e+03,\n",
       "       -4.22056804e+02,  1.12074719e+04,  1.01479564e+04, -4.69730906e+03,\n",
       "        3.68520298e+04,  9.10370972e+03,  6.74081396e+03, -5.83087024e+03,\n",
       "       -1.61161337e+03, -9.33375974e+03, -1.12977087e+04,  1.84244513e+04,\n",
       "        4.41203680e+04,  5.99962081e+04,  1.65496903e+04,  4.02872336e+02,\n",
       "       -9.14374775e+03,  1.10742099e+04,  9.32169603e+04,  3.01393431e+04,\n",
       "       -1.52788464e+04, -3.65041619e+03,  1.92352894e+04,  9.83716114e+03,\n",
       "        6.60381696e+03, -5.36592303e+03,  1.61006605e+04,  5.44937364e+03,\n",
       "        6.57028052e+04,  2.44191852e+04,  1.21790645e+04,  7.54758892e+03,\n",
       "       -1.50641268e+04,  8.50238757e+04,  4.14469987e+04,  1.88651242e+04,\n",
       "        2.49491711e+03,  2.20906981e+04,  1.02990913e+03,  8.53408337e+03,\n",
       "       -6.45550177e+03,  1.30520590e+04, -7.06138133e+04,  1.88551317e+04,\n",
       "        4.54048423e+04, -2.62590050e+03,  2.07136109e+04, -1.48023656e+04,\n",
       "        2.92112674e+04,  2.54125144e+04,  8.09263604e+03,  2.61738181e+05,\n",
       "        2.45100416e+04,  5.66287426e+03,  2.05181357e+04,  4.55738009e+05,\n",
       "        2.86148032e+03,  1.25618830e+04,  6.29589641e+04,  1.13182298e+04,\n",
       "       -4.13555872e+03,  1.94576296e+04, -5.99817954e+03,  3.68413581e+04,\n",
       "        5.02934904e+03,  1.43474423e+04, -4.59086501e+03,  6.62468696e+02,\n",
       "        2.22800113e+04,  2.34793618e+04,  1.55894312e+04,  8.84051947e+03,\n",
       "       -7.77843627e+03,  1.78515709e+04,  3.37077448e+04,  4.21973669e+04,\n",
       "       -1.50371856e+03,  7.54297480e+03,  2.28085670e+03,  8.42904911e+03,\n",
       "       -1.08922993e+04,  9.21677064e+03, -1.06479877e+04,  6.35193967e+04,\n",
       "        2.75167613e+03,  1.41026518e+04,  8.27594568e+04,  3.77473379e+04,\n",
       "        6.76805463e+03,  7.41645031e+03, -4.18013586e+03,  8.28417483e+04,\n",
       "        3.23729462e+04,  4.88947382e+03,  2.09519179e+04, -4.48008543e+03,\n",
       "       -3.06976928e+03, -7.75306400e+03,  1.31831136e+04, -3.98136679e+03,\n",
       "        2.88446838e+04,  6.32863082e+03,  2.32822444e+04,  2.81987734e+03,\n",
       "        2.97042915e+04,  1.45064630e+04,  1.09718817e+04, -8.51327258e+04,\n",
       "        1.42352088e+04,  7.47063019e+03, -5.73951826e+03,  2.36613710e+04,\n",
       "       -4.70809235e+03,  2.68069722e+04,  5.61178488e+03,  1.96703696e+04,\n",
       "        4.19216714e+04,  3.71628131e+04,  1.31806386e+04, -4.55380408e+03,\n",
       "       -1.46711780e+04,  1.00166371e+04,  2.18884350e+04,  4.23232930e+04,\n",
       "        2.82512659e+04, -3.99031040e+03,  2.67224075e+04,  2.85605827e+04,\n",
       "        2.74298150e+04,  5.29223709e+03,  1.83260772e+04,  2.24797876e+04,\n",
       "        1.29095174e+05, -4.74926345e+03,  2.82105615e+04,  3.07123401e+04,\n",
       "       -5.81498212e+02, -2.14851447e+03,  2.97402712e+04, -5.91369980e+01,\n",
       "        1.22337915e+04,  2.35146416e+04,  2.21868392e+04,  3.27818591e+04,\n",
       "        1.09139526e+04,  2.81902409e+04, -1.71870549e+03,  1.71065719e+04,\n",
       "        2.65866309e+04,  8.17742823e+03,  1.69641869e+04,  1.26156588e+04,\n",
       "       -1.48119713e+03,  6.40057753e+03,  4.11507375e+03,  2.81299060e+04,\n",
       "        3.25438015e+04,  4.99154014e+04,  7.85166842e+04,  1.00055017e+04,\n",
       "        2.69142867e+04,  3.14607577e+04,  7.59512142e+02,  2.36167993e+04,\n",
       "       -7.96170583e+02,  7.20611165e+04, -1.43637142e+04,  2.77472405e+04,\n",
       "       -2.04059634e+03,  1.00197345e+04,  1.70726860e+04,  1.77000596e+04,\n",
       "        2.00698171e+04,  1.64442786e+04, -1.16727975e+04,  1.67292092e+04,\n",
       "       -1.48770952e+04,  3.52045166e+04,  1.59515848e+03,  4.65416659e+04,\n",
       "        1.15932892e+04,  6.35785778e+03,  1.95360737e+04,  1.70759080e+04,\n",
       "       -8.43939348e+03,  8.78477191e+04, -1.60563432e+03,  1.70507717e+04,\n",
       "        8.09669730e+03,  6.16666096e+03,  2.92918241e+04,  2.92782677e+04,\n",
       "        2.23319385e+04,  1.74995502e+04,  4.26378631e+04,  1.19992606e+04,\n",
       "        6.20659753e+02,  4.06730651e+03,  1.60777098e+04,  1.21037063e+04,\n",
       "        5.22984267e+03,  2.59976087e+04,  3.03432418e+04,  4.18347925e+03,\n",
       "        2.58724587e+04,  1.66752342e+04,  1.56778010e+04,  6.26792494e+03,\n",
       "        8.07943973e+03,  1.12859874e+05, -5.55457450e+03,  1.68509447e+04,\n",
       "        1.30185975e+04,  3.42824864e+04,  7.08911777e+03,  2.50602685e+04,\n",
       "       -4.86491536e+03, -1.33212357e+04,  1.31682999e+04,  8.98463332e+04,\n",
       "       -1.21311308e+03,  2.11533549e+04, -1.64723406e+03,  3.52292732e+04,\n",
       "        2.24510061e+04,  3.01914495e+04,  4.14920377e+04,  6.83134007e+03,\n",
       "       -6.31725299e+03,  3.25305870e+03,  2.35050649e+04,  1.84953002e+04,\n",
       "        1.49746605e+05, -1.51559050e+04,  4.37040529e+04,  1.74978128e+04,\n",
       "       -4.01653613e+03,  1.45990089e+04,  3.06828836e+04, -3.10484994e+03,\n",
       "        2.75179810e+04,  2.07207061e+04, -2.58494216e+03,  7.69909888e+03,\n",
       "        3.65426110e+03, -1.09428072e+03, -2.00629140e+03,  5.11106845e+03,\n",
       "       -7.42951014e+02,  1.08595080e+04, -1.05114751e+04,  1.10237899e+05,\n",
       "        6.14636630e+03, -1.99180603e+03, -4.26825617e+03,  3.88103079e+04,\n",
       "        3.03183677e+04,  1.70539947e+04,  1.88419956e+05, -1.86003666e+03,\n",
       "        3.35432768e+04,  6.78478327e+03,  2.41675890e+04,  4.87137423e+04,\n",
       "        3.20560583e+04,  2.03705796e+04,  1.56758438e+04,  5.74477536e+04,\n",
       "        2.25191689e+04, -9.04709851e+03,  2.21347207e+03,  1.98954027e+04,\n",
       "        6.35039417e+03,  2.49518103e+04,  1.93026734e+04,  3.53865597e+04,\n",
       "       -4.26076980e+03,  3.12836927e+04,  2.40417942e+04,  1.24202722e+04,\n",
       "        3.25572935e+04,  1.55757030e+04,  2.43874106e+04,  1.20742952e+04,\n",
       "        5.47805334e+03,  1.38528949e+05,  1.64086464e+04, -6.92279139e+03,\n",
       "        2.03764312e+04,  1.04225452e+03,  2.26758752e+04,  1.77676874e+04,\n",
       "        1.61608299e+04,  2.23892853e+04,  2.76063497e+04, -7.92129777e+03,\n",
       "        3.47572597e+03,  1.83961838e+05,  6.11017006e+04,  2.88145467e+04,\n",
       "        2.49934050e+04, -1.42871944e+04,  1.91973733e+04,  1.02190558e+04,\n",
       "       -2.13295451e+03,  3.75439103e+04,  3.24768721e+04, -4.45795568e+03,\n",
       "        7.96070906e+03,  3.19048169e+04,  1.59460822e+04,  1.69562006e+04,\n",
       "        1.11997913e+04,  6.26250164e+03,  1.30605813e+04,  1.33405544e+04,\n",
       "        2.53389735e+04,  2.11501971e+04,  3.27343086e+04, -5.63501829e+03,\n",
       "        4.17735274e+04,  6.55440507e+02,  1.19616274e+04, -2.51086282e+03,\n",
       "        2.54671854e+04,  3.04618171e+04,  5.67631503e+04,  2.57294574e+02,\n",
       "        1.82200655e+04, -5.26574321e+03,  2.10338640e+04,  1.62885865e+04,\n",
       "        1.80458520e+04,  7.26184862e+04,  4.57015574e+04,  2.76810283e+04,\n",
       "       -3.16688069e+03,  7.07144560e+03,  2.82811393e+03,  6.25990656e+04,\n",
       "       -9.79707232e+03,  4.79835249e+03,  1.89731320e+04,  1.46676789e+04,\n",
       "        2.09083925e+04,  2.38803184e+05,  8.52986432e+04,  1.30206653e+04,\n",
       "       -4.16451008e+02,  2.01591086e+04,  2.20843959e+04,  1.46484745e+04,\n",
       "        2.49408982e+04,  1.21630382e+04,  1.31797122e+04, -7.19665036e+03,\n",
       "        1.07430730e+04,  1.57414906e+04,  4.52341633e+04,  7.15650313e+03,\n",
       "        1.92742478e+04,  3.28530440e+04, -1.33033425e+03,  1.70986871e+04,\n",
       "        1.63472610e+04,  9.52713209e+03,  1.32340689e+04,  2.73153566e+03,\n",
       "       -5.61597390e+03,  4.11206975e+04,  1.71409027e+04,  5.70775350e+04,\n",
       "        1.96715167e+03, -3.36357679e+03,  6.79123520e+03,  1.89277721e+04,\n",
       "        7.03762513e+03, -2.55730870e+03, -4.55626317e+03, -6.52826435e+02,\n",
       "        2.08941547e+04, -6.50388774e+03,  8.63868332e+03,  1.30058259e+04,\n",
       "        2.73809494e+04,  2.72991757e+03,  1.05079310e+04,  6.91436067e+03,\n",
       "       -1.48696073e+04,  2.10756728e+04,  3.20862711e+04, -2.21183267e+03,\n",
       "        4.52428811e+04, -1.53260959e+04,  5.07557491e+04,  5.40932898e+04,\n",
       "        3.40481685e+02,  1.00439661e+04,  2.09994196e+04,  2.51372000e+03,\n",
       "        1.82617230e+04,  2.05299805e+04,  3.46348887e+04,  6.89845277e+03,\n",
       "       -8.45252930e+03,  2.63848744e+04,  9.39319327e+04,  7.01004121e+03,\n",
       "        8.80752080e+03,  6.71492618e+04,  7.27291561e+03,  4.09216900e+04,\n",
       "        1.14797574e+04,  6.09765428e+03,  2.23683912e+04,  2.40089939e+05,\n",
       "        8.77583395e+03, -2.90122930e+04, -7.70934805e+03,  1.09362725e+04,\n",
       "        2.25119703e+04,  1.86190062e+04,  3.74716573e+04,  1.20964664e+04,\n",
       "        1.07094633e+04,  2.75547369e+04,  2.72012035e+04,  6.78916318e+04,\n",
       "        3.40928519e+04,  3.99235639e+04,  1.11174030e+04,  1.46934519e+04,\n",
       "        1.46462395e+04,  5.33647469e+04,  2.85337626e+04,  6.62205459e+04,\n",
       "       -5.00476511e+03,  1.05437333e+04,  7.41983541e+03,  4.65862121e+04,\n",
       "        3.64960604e+03,  4.76799596e+04,  1.79199508e+04,  2.00436282e+04,\n",
       "        7.79794353e+04,  1.66290067e+04,  2.07772702e+04,  6.10865389e+04,\n",
       "        6.05826992e+03,  1.49650265e+05,  2.68611859e+03,  1.31598710e+04,\n",
       "        1.69805475e+03,  9.37619258e+03,  2.19666263e+04,  3.39745893e+04,\n",
       "        2.26758752e+04,  6.83712412e+04,  3.22283665e+04,  3.59028864e+04,\n",
       "        6.32387316e+03, -9.78726472e+03,  1.66160338e+04,  4.13018396e+04,\n",
       "       -4.62515019e+03, -8.73718185e+02,  2.20182200e+04,  2.23700088e+04,\n",
       "        5.20623796e+03,  2.18217092e+03,  1.33457564e+03,  1.27336559e+04,\n",
       "        1.09596665e+04,  1.20002139e+04, -1.98093791e+02,  1.49452532e+04,\n",
       "        4.89910458e+04,  1.05336568e+04,  2.51862412e+04, -3.33674884e+03,\n",
       "        6.58144697e+04, -6.48103206e+03,  4.95892139e+03,  1.19622167e+04,\n",
       "        4.37601649e+04, -5.60885171e+03, -4.22080367e+03,  1.41773164e+04,\n",
       "        9.17325315e+04,  1.33143426e+04,  1.91918435e+04, -5.18006020e+03,\n",
       "        2.91921232e+04,  3.15373989e+03, -3.96971219e+03,  1.67034237e+03,\n",
       "        1.61539250e+04,  7.39737205e+04,  6.04488899e+03,  1.87619033e+04,\n",
       "        2.17397362e+04, -1.05992847e+04,  2.42987301e+04,  2.93041452e+04,\n",
       "        1.82399547e+04,  1.83107783e+04,  6.23011541e+03,  1.05424105e+04,\n",
       "        3.22412882e+04,  6.42355915e+03,  1.58831107e+04,  7.19109329e+03,\n",
       "        2.90012763e+04,  1.10624425e+04, -2.97562612e+04,  1.05963638e+04,\n",
       "        6.51358865e+03, -3.49716673e+03, -3.36723120e+03,  5.83948287e+03,\n",
       "        1.19977305e+04, -6.29789028e+03,  5.77567116e+03,  6.54943326e+03,\n",
       "       -6.74087971e+03,  5.75810076e+04, -4.85160918e+03,  7.58458757e+03,\n",
       "        1.48754579e+04,  3.05671489e+04,  3.27296616e+04,  2.86720720e+03,\n",
       "        1.01644215e+04,  2.90446213e+04, -1.18082021e+03,  3.94633853e+04,\n",
       "        2.01305270e+04, -2.04908232e+03,  3.02427387e+03,  3.06075243e+04,\n",
       "        7.29109436e+03,  1.78083202e+04,  6.62763077e+03,  1.14687500e+04,\n",
       "        1.04756405e+04,  1.87260882e+04,  5.99110161e+03,  1.64138179e+04,\n",
       "       -8.11441821e+03,  2.02836132e+03,  3.90354325e+04,  4.32374742e+02,\n",
       "        1.11029099e+04,  1.54414037e+03,  8.62465686e+04,  3.01264880e+04,\n",
       "        1.50757483e+04,  1.06065125e+04,  2.59080102e+04,  9.60657255e+03,\n",
       "        5.88052504e+04,  6.05294399e+03,  5.00086381e+04,  3.74536710e+04,\n",
       "        2.18884350e+04,  7.58440091e+04,  1.53843088e+05,  8.80602742e+04,\n",
       "       -8.97261649e+03,  1.61212530e+04])"
      ]
     },
     "execution_count": 74,
     "metadata": {},
     "output_type": "execute_result"
    }
   ],
   "source": [
    "inverse_transformed_y_pred"
   ]
  },
  {
   "cell_type": "code",
   "execution_count": 75,
   "id": "5972562d",
   "metadata": {},
   "outputs": [
    {
     "data": {
      "text/plain": [
       "count       766.000000\n",
       "mean      20770.464739\n",
       "std       37174.850564\n",
       "min      -85132.725797\n",
       "25%        2736.570779\n",
       "50%       14552.735955\n",
       "75%       27235.323518\n",
       "max      455738.008608\n",
       "dtype: float64"
      ]
     },
     "execution_count": 75,
     "metadata": {},
     "output_type": "execute_result"
    }
   ],
   "source": [
    "\n",
    "# My model prediction\n",
    "inverse_transformed_y_pred_series = pd.Series(inverse_transformed_y_pred)\n",
    "inverse_transformed_y_pred_series.describe()"
   ]
  },
  {
   "cell_type": "code",
   "execution_count": 76,
   "id": "efa124fc",
   "metadata": {},
   "outputs": [
    {
     "data": {
      "text/plain": [
       "count      766.000000\n",
       "mean      1300.001027\n",
       "std       6595.858838\n",
       "min          0.000000\n",
       "25%          1.321573\n",
       "50%          4.977054\n",
       "75%        421.524366\n",
       "max      87146.468861\n",
       "Name: S1S2TesCO2eEst, dtype: float64"
      ]
     },
     "execution_count": 76,
     "metadata": {},
     "output_type": "execute_result"
    }
   ],
   "source": [
    "# CienDos current prediction\n",
    "scores_table_in_company_matrix_S1S2TesCO2eEst.describe()"
   ]
  },
  {
   "cell_type": "code",
   "execution_count": 77,
   "id": "b13e4da1",
   "metadata": {},
   "outputs": [
    {
     "data": {
      "text/plain": [
       "count       766.000000\n",
       "mean      21977.424722\n",
       "std       64710.107373\n",
       "min           0.000000\n",
       "25%         223.000000\n",
       "50%        1216.850000\n",
       "75%        7210.260000\n",
       "max      454154.000000\n",
       "Name: S1S2CO2e, dtype: float64"
      ]
     },
     "execution_count": 77,
     "metadata": {},
     "output_type": "execute_result"
    }
   ],
   "source": [
    "# Ground truth\n",
    "scores_table_in_company[\"S1S2CO2e\"].describe()"
   ]
  },
  {
   "cell_type": "code",
   "execution_count": 67,
   "id": "4f6ab2dc",
   "metadata": {},
   "outputs": [
    {
     "data": {
      "text/plain": [
       "array([[ 2.78919785e-01,  3.69810145e-01,  2.78919785e-01,\n",
       "        -9.78289453e-02,  6.35906088e-01,  9.01563743e-02,\n",
       "        -2.68008091e-01, -1.11022302e-16,  8.60120046e-02,\n",
       "         1.63750133e-16, -7.50774035e-02, -1.34336518e-01,\n",
       "        -9.71858922e-02,  9.12526179e-04,  2.09374013e-01]])"
      ]
     },
     "execution_count": 67,
     "metadata": {},
     "output_type": "execute_result"
    }
   ],
   "source": [
    "linear_regressor.coef_"
   ]
  },
  {
   "cell_type": "code",
   "execution_count": 78,
   "id": "58cff3dd",
   "metadata": {},
   "outputs": [
    {
     "name": "stdout",
     "output_type": "stream",
     "text": [
      "Feature: 0, Score: 0.27892\n",
      "Feature: 1, Score: 0.36981\n",
      "Feature: 2, Score: 0.27892\n",
      "Feature: 3, Score: -0.09783\n",
      "Feature: 4, Score: 0.63591\n",
      "Feature: 5, Score: 0.09016\n",
      "Feature: 6, Score: -0.26801\n",
      "Feature: 7, Score: -0.00000\n",
      "Feature: 8, Score: 0.08601\n",
      "Feature: 9, Score: 0.00000\n",
      "Feature: 10, Score: -0.07508\n",
      "Feature: 11, Score: -0.13434\n",
      "Feature: 12, Score: -0.09719\n",
      "Feature: 13, Score: 0.00091\n",
      "Feature: 14, Score: 0.20937\n"
     ]
    },
    {
     "data": {
      "image/png": "[encoded data removed]",
      "text/plain": [
       "<Figure size 640x480 with 1 Axes>"
      ]
     },
     "metadata": {},
     "output_type": "display_data"
    }
   ],
   "source": [
    "import matplotlib.pyplot as plt\n",
    "\n",
    "Coef = linear_regressor.coef_\n",
    "Coef_1d = Coef.flatten()\n",
    "\n",
    "# summarize feature importance\n",
    "for i,v in enumerate(Coef_1d):\n",
    "    print('Feature: %0d, Score: %.5f' % (i,v))\n",
    "\n",
    "# plot feature importance\n",
    "plt.bar([x for x in range(len(Coef_1d))], Coef_1d)\n",
    "plt.show()"
   ]
  },
  {
   "cell_type": "code",
   "execution_count": 57,
   "id": "92f257c3",
   "metadata": {},
   "outputs": [
    {
     "name": "stdout",
     "output_type": "stream",
     "text": [
      "\n",
      "The R2 score is 0.7038\n",
      "\n",
      "RMSE train is 0.0753\n",
      "\n",
      "RMSE test is 2.2435\n"
     ]
    }
   ],
   "source": [
    "from sklearn.preprocessing import PolynomialFeatures\n",
    "# Polynomial feature\n",
    "\n",
    "def polynomial_regression(X, y):\n",
    "\n",
    "    poly = PolynomialFeatures(2)\n",
    "    X_poly = poly.fit_transform(X)\n",
    "    X_train, X_test, y_train, y_test = train_test_split(X_poly, y, train_size=0.7, test_size=0.3, random_state=0)\n",
    "    \n",
    "    # Fitting the model\n",
    "    linreg = LinearRegression(fit_intercept=True, copy_X=True)\n",
    "    linreg.fit(X_train, y_train)\n",
    "    y_pred_train = linreg.predict(X_train)\n",
    "    y_pred_test = linreg.predict(X_test)\n",
    "\n",
    "    rmse_train = mean_squared_error(y_train, y_pred_train, squared=False)\n",
    "    rmse_test = mean_squared_error(y_test, y_pred_test, squared=False)\n",
    "\n",
    "#     print(\"The model parameter (slopes) are\\n\", linear_regressor.coef_)\n",
    "#     print(f\"\\nThe model parameter (intercept) is {linear_regressor.intercept_:.4f}\")\n",
    "    \n",
    "    print(f\"\\nThe R2 score is {linreg.score(X_train, y_train):.4f}\")\n",
    "\n",
    "    print(f\"\\nRMSE train is {rmse_train:.4f}\")\n",
    "    print(f\"\\nRMSE test is {rmse_test:.4f}\")\n",
    "    \n",
    "polynomial_regression(X, Y)"
   ]
  },
  {
   "cell_type": "markdown",
   "id": "7ee8773c",
   "metadata": {},
   "source": [
    "Ridge Regression"
   ]
  },
  {
   "cell_type": "code",
   "execution_count": 19,
   "id": "1d969f80",
   "metadata": {},
   "outputs": [
    {
     "name": "stdout",
     "output_type": "stream",
     "text": [
      "Training accuracy: 0.211\n",
      "Testing accuracy by using score function: 0.073\n",
      "Testing accuracy by using r2_score meric: 0.073\n"
     ]
    }
   ],
   "source": [
    "from sklearn.linear_model import Ridge\n",
    "from sklearn.metrics import r2_score\n",
    "\n",
    "ridge_regressor = Ridge(fit_intercept=True, copy_X=True)\n",
    "ridge_regressor.fit(X_train, y_train)\n",
    "print('Training accuracy: {:.3f}'.format(ridge_regressor.score(X_train, y_train)))\n",
    "\n",
    "print('Testing accuracy by using score function: {:.3f}'.format(ridge_regressor.score(X_test, y_test)))\n",
    "print('Testing accuracy by using r2_score meric: {:.3f}'.format(r2_score(y_test, ridge_regressor.predict(X_test))))"
   ]
  },
  {
   "cell_type": "code",
   "execution_count": 24,
   "id": "3269f86c",
   "metadata": {},
   "outputs": [
    {
     "name": "stdout",
     "output_type": "stream",
     "text": [
      "Cross-validation scores:  [ 0.1216008   0.29372663  0.23635031 -0.05235841  0.09359117  0.02563372\n",
      " -0.226941    0.16744168  0.16859285 -0.02897259]\n",
      "Mean cross-validation score: 0.080\n"
     ]
    }
   ],
   "source": [
    "from sklearn.model_selection import cross_val_score\n",
    "\n",
    "# perform 10-fold cross-validation\n",
    "cv_scores = cross_val_score(ridge_regressor, X_train, y_train, cv=10)\n",
    "\n",
    "# print the cross-validation scores\n",
    "print('Cross-validation scores: ', cv_scores)\n",
    "\n",
    "# print the mean of the cross-validation scores\n",
    "print('Mean cross-validation score: {:.3f}'.format(np.mean(cv_scores)))"
   ]
  },
  {
   "cell_type": "code",
   "execution_count": 50,
   "id": "668dcb5f",
   "metadata": {},
   "outputs": [
    {
     "name": "stdout",
     "output_type": "stream",
     "text": [
      "Root Mean Squared Error: 0.156\n"
     ]
    }
   ],
   "source": [
    "from sklearn.metrics import mean_squared_error\n",
    "\n",
    "# make predictions on the test set\n",
    "y_pred = ridge_regressor.predict(X_test)\n",
    "\n",
    "# calculate the RMSE\n",
    "rmse = mean_squared_error(y_test, y_pred, squared=False)\n",
    "\n",
    "print('Root Mean Squared Error: {:.3f}'.format(rmse))"
   ]
  },
  {
   "cell_type": "code",
   "execution_count": 58,
   "id": "f0abaa0d",
   "metadata": {},
   "outputs": [
    {
     "name": "stdout",
     "output_type": "stream",
     "text": [
      "Feature: 0, Score: 0.00000\n",
      "Feature: 1, Score: 0.00000\n",
      "Feature: 2, Score: 0.26146\n",
      "Feature: 3, Score: -0.01239\n",
      "Feature: 4, Score: 0.40508\n",
      "Feature: 5, Score: -0.00447\n",
      "Feature: 6, Score: -0.01459\n",
      "Feature: 7, Score: -0.09445\n",
      "Feature: 8, Score: 0.00000\n",
      "Feature: 9, Score: -0.09445\n",
      "Feature: 10, Score: -0.00360\n",
      "Feature: 11, Score: -0.08716\n",
      "Feature: 12, Score: -0.03123\n",
      "Feature: 13, Score: -0.04254\n",
      "Feature: 14, Score: 0.00952\n"
     ]
    },
    {
     "data": {
      "image/png": "[encoded data removed]",
      "text/plain": [
       "<Figure size 640x480 with 1 Axes>"
      ]
     },
     "metadata": {},
     "output_type": "display_data"
    }
   ],
   "source": [
    "# summarize feature importance\n",
    "for i,v in enumerate(ridge_regressor.coef_):\n",
    "    print('Feature: %0d, Score: %.5f' % (i,v))\n",
    "\n",
    "# plot feature importance\n",
    "plt.bar([x for x in range(len(ridge_regressor.coef_))], ridge_regressor.coef_)\n",
    "plt.show()"
   ]
  },
  {
   "cell_type": "markdown",
   "id": "0cab45bf",
   "metadata": {},
   "source": [
    "SGD Regressor"
   ]
  },
  {
   "cell_type": "code",
   "execution_count": 47,
   "id": "bc78d42e",
   "metadata": {},
   "outputs": [
    {
     "name": "stdout",
     "output_type": "stream",
     "text": [
      "Training accuracy: 0.081\n",
      "Testing accuracy by using score function: 0.013\n",
      "Testing accuracy by using r2_score meric: 0.013\n"
     ]
    }
   ],
   "source": [
    "from sklearn.linear_model import SGDRegressor\n",
    "from sklearn.metrics import r2_score\n",
    "\n",
    "sgd_regressor = SGDRegressor()\n",
    "sgd_regressor.fit(X_train, y_train)\n",
    "print('Training accuracy: {:.3f}'.format(sgd_regressor.score(X_train, y_train)))\n",
    "\n",
    "print('Testing accuracy by using score function: {:.3f}'.format(sgd_regressor.score(X_test, y_test)))\n",
    "print('Testing accuracy by using r2_score meric: {:.3f}'.format(r2_score(y_test, sgd_regressor.predict(X_test))))"
   ]
  },
  {
   "cell_type": "code",
   "execution_count": 25,
   "id": "c8f7bde9",
   "metadata": {},
   "outputs": [
    {
     "name": "stdout",
     "output_type": "stream",
     "text": [
      "Cross-validation scores:  [ 0.06889242  0.08663082  0.03771717  0.04496237  0.09556577  0.06706388\n",
      " -0.03923117  0.08947179  0.09377546 -0.0331899 ]\n",
      "Mean cross-validation score: 0.051\n"
     ]
    }
   ],
   "source": [
    "from sklearn.model_selection import cross_val_score\n",
    "\n",
    "# perform 10-fold cross-validation\n",
    "cv_scores = cross_val_score(sgd_regressor, X_train, y_train, cv=10)\n",
    "\n",
    "# print the cross-validation scores\n",
    "print('Cross-validation scores: ', cv_scores)\n",
    "\n",
    "# print the mean of the cross-validation scores\n",
    "print('Mean cross-validation score: {:.3f}'.format(np.mean(cv_scores)))"
   ]
  },
  {
   "cell_type": "code",
   "execution_count": 52,
   "id": "1c044ce9",
   "metadata": {},
   "outputs": [
    {
     "name": "stdout",
     "output_type": "stream",
     "text": [
      "Root Mean Squared Error: 0.161\n"
     ]
    }
   ],
   "source": [
    "from sklearn.metrics import mean_squared_error\n",
    "\n",
    "# make predictions on the test set\n",
    "y_pred = sgd_regressor.predict(X_test)\n",
    "\n",
    "# calculate the RMSE\n",
    "rmse = mean_squared_error(y_test, y_pred, squared=False)\n",
    "\n",
    "print('Root Mean Squared Error: {:.3f}'.format(rmse))"
   ]
  },
  {
   "cell_type": "code",
   "execution_count": 59,
   "id": "fe0b1627",
   "metadata": {},
   "outputs": [
    {
     "name": "stdout",
     "output_type": "stream",
     "text": [
      "Feature: 0, Score: 0.00000\n",
      "Feature: 1, Score: 0.00000\n",
      "Feature: 2, Score: 0.00346\n",
      "Feature: 3, Score: 0.00038\n",
      "Feature: 4, Score: 0.00927\n",
      "Feature: 5, Score: 0.00120\n",
      "Feature: 6, Score: 0.00082\n",
      "Feature: 7, Score: 0.02564\n",
      "Feature: 8, Score: 0.00000\n",
      "Feature: 9, Score: 0.02564\n",
      "Feature: 10, Score: -0.01588\n",
      "Feature: 11, Score: -0.03100\n",
      "Feature: 12, Score: -0.01896\n",
      "Feature: 13, Score: -0.00940\n",
      "Feature: 14, Score: -0.02365\n"
     ]
    },
    {
     "data": {
      "image/png": "[encoded data removed]",
      "text/plain": [
       "<Figure size 640x480 with 1 Axes>"
      ]
     },
     "metadata": {},
     "output_type": "display_data"
    }
   ],
   "source": [
    "# summarize feature importance\n",
    "for i,v in enumerate(sgd_regressor.coef_):\n",
    "    print('Feature: %0d, Score: %.5f' % (i,v))\n",
    "\n",
    "# plot feature importance\n",
    "plt.bar([x for x in range(len(sgd_regressor.coef_))], sgd_regressor.coef_)\n",
    "plt.show()"
   ]
  },
  {
   "cell_type": "markdown",
   "id": "703bfd51",
   "metadata": {},
   "source": [
    "Random Forest Regressor"
   ]
  },
  {
   "cell_type": "code",
   "execution_count": 58,
   "id": "c753144d",
   "metadata": {},
   "outputs": [
    {
     "name": "stdout",
     "output_type": "stream",
     "text": [
      "Training accuracy: 0.926\n",
      "Testing accuracy by using score function: 0.301\n",
      "Testing accuracy by using r2_score meric: 0.301\n"
     ]
    },
    {
     "name": "stderr",
     "output_type": "stream",
     "text": [
      "/var/folders/p6/yvn5sdc10690vb5dljmbnblm0000gn/T/ipykernel_14448/2307033513.py:5: DataConversionWarning: A column-vector y was passed when a 1d array was expected. Please change the shape of y to (n_samples,), for example using ravel().\n",
      "  rf_regressor.fit(X_train, y_train)\n"
     ]
    }
   ],
   "source": [
    "from sklearn.ensemble import RandomForestRegressor\n",
    "from sklearn.metrics import r2_score\n",
    "\n",
    "rf_regressor = RandomForestRegressor()\n",
    "rf_regressor.fit(X_train, y_train)\n",
    "print('Training accuracy: {:.3f}'.format(rf_regressor.score(X_train, y_train)))\n",
    "\n",
    "print('Testing accuracy by using score function: {:.3f}'.format(rf_regressor.score(X_test, y_test)))\n",
    "print('Testing accuracy by using r2_score meric: {:.3f}'.format(r2_score(y_test, rf_regressor.predict(X_test))))"
   ]
  },
  {
   "cell_type": "code",
   "execution_count": 59,
   "id": "f2e8b138",
   "metadata": {},
   "outputs": [
    {
     "name": "stderr",
     "output_type": "stream",
     "text": [
      "/Users/radheapermatadewi/miniconda3/lib/python3.10/site-packages/sklearn/model_selection/_validation.py:686: DataConversionWarning: A column-vector y was passed when a 1d array was expected. Please change the shape of y to (n_samples,), for example using ravel().\n",
      "  estimator.fit(X_train, y_train, **fit_params)\n",
      "/Users/radheapermatadewi/miniconda3/lib/python3.10/site-packages/sklearn/model_selection/_validation.py:686: DataConversionWarning: A column-vector y was passed when a 1d array was expected. Please change the shape of y to (n_samples,), for example using ravel().\n",
      "  estimator.fit(X_train, y_train, **fit_params)\n",
      "/Users/radheapermatadewi/miniconda3/lib/python3.10/site-packages/sklearn/model_selection/_validation.py:686: DataConversionWarning: A column-vector y was passed when a 1d array was expected. Please change the shape of y to (n_samples,), for example using ravel().\n",
      "  estimator.fit(X_train, y_train, **fit_params)\n",
      "/Users/radheapermatadewi/miniconda3/lib/python3.10/site-packages/sklearn/model_selection/_validation.py:686: DataConversionWarning: A column-vector y was passed when a 1d array was expected. Please change the shape of y to (n_samples,), for example using ravel().\n",
      "  estimator.fit(X_train, y_train, **fit_params)\n",
      "/Users/radheapermatadewi/miniconda3/lib/python3.10/site-packages/sklearn/model_selection/_validation.py:686: DataConversionWarning: A column-vector y was passed when a 1d array was expected. Please change the shape of y to (n_samples,), for example using ravel().\n",
      "  estimator.fit(X_train, y_train, **fit_params)\n",
      "/Users/radheapermatadewi/miniconda3/lib/python3.10/site-packages/sklearn/model_selection/_validation.py:686: DataConversionWarning: A column-vector y was passed when a 1d array was expected. Please change the shape of y to (n_samples,), for example using ravel().\n",
      "  estimator.fit(X_train, y_train, **fit_params)\n",
      "/Users/radheapermatadewi/miniconda3/lib/python3.10/site-packages/sklearn/model_selection/_validation.py:686: DataConversionWarning: A column-vector y was passed when a 1d array was expected. Please change the shape of y to (n_samples,), for example using ravel().\n",
      "  estimator.fit(X_train, y_train, **fit_params)\n",
      "/Users/radheapermatadewi/miniconda3/lib/python3.10/site-packages/sklearn/model_selection/_validation.py:686: DataConversionWarning: A column-vector y was passed when a 1d array was expected. Please change the shape of y to (n_samples,), for example using ravel().\n",
      "  estimator.fit(X_train, y_train, **fit_params)\n",
      "/Users/radheapermatadewi/miniconda3/lib/python3.10/site-packages/sklearn/model_selection/_validation.py:686: DataConversionWarning: A column-vector y was passed when a 1d array was expected. Please change the shape of y to (n_samples,), for example using ravel().\n",
      "  estimator.fit(X_train, y_train, **fit_params)\n",
      "/Users/radheapermatadewi/miniconda3/lib/python3.10/site-packages/sklearn/model_selection/_validation.py:686: DataConversionWarning: A column-vector y was passed when a 1d array was expected. Please change the shape of y to (n_samples,), for example using ravel().\n",
      "  estimator.fit(X_train, y_train, **fit_params)\n"
     ]
    },
    {
     "name": "stdout",
     "output_type": "stream",
     "text": [
      "Cross-validation scores:  [0.58896433 0.71104939 0.37361339 0.29507604 0.41301171 0.1918745\n",
      " 0.11136574 0.50528966 0.38127935 0.16358556]\n",
      "Mean cross-validation score: 0.374\n"
     ]
    }
   ],
   "source": [
    "from sklearn.model_selection import cross_val_score\n",
    "\n",
    "# perform 10-fold cross-validation\n",
    "cv_scores = cross_val_score(rf_regressor, X_train, y_train, cv=10)\n",
    "\n",
    "# print the cross-validation scores\n",
    "print('Cross-validation scores: ', cv_scores)\n",
    "\n",
    "# print the mean of the cross-validation scores\n",
    "print('Mean cross-validation score: {:.3f}'.format(np.mean(cv_scores)))"
   ]
  },
  {
   "cell_type": "code",
   "execution_count": 60,
   "id": "24699233",
   "metadata": {},
   "outputs": [
    {
     "name": "stdout",
     "output_type": "stream",
     "text": [
      "Root Mean Squared Error: 0.126\n"
     ]
    }
   ],
   "source": [
    "from sklearn.metrics import mean_squared_error\n",
    "\n",
    "# make predictions on the test set\n",
    "y_pred = rf_regressor.predict(X_test)\n",
    "\n",
    "# calculate the RMSE\n",
    "rmse = mean_squared_error(y_test, y_pred, squared=False)\n",
    "\n",
    "print('Root Mean Squared Error: {:.3f}'.format(rmse))"
   ]
  },
  {
   "cell_type": "code",
   "execution_count": 64,
   "id": "47923762",
   "metadata": {},
   "outputs": [
    {
     "name": "stdout",
     "output_type": "stream",
     "text": [
      "Feature: 0, Score: 0.00161\n",
      "Feature: 1, Score: 0.05519\n",
      "Feature: 2, Score: 0.36335\n",
      "Feature: 3, Score: 0.04830\n",
      "Feature: 4, Score: 0.21605\n",
      "Feature: 5, Score: 0.09725\n",
      "Feature: 6, Score: 0.05798\n",
      "Feature: 7, Score: 0.00647\n",
      "Feature: 8, Score: 0.00000\n",
      "Feature: 9, Score: 0.00341\n",
      "Feature: 10, Score: 0.01272\n",
      "Feature: 11, Score: 0.00986\n",
      "Feature: 12, Score: 0.03722\n",
      "Feature: 13, Score: 0.03247\n",
      "Feature: 14, Score: 0.05811\n"
     ]
    },
    {
     "data": {
      "image/png": "[encoded data removed]",
      "text/plain": [
       "<Figure size 640x480 with 1 Axes>"
      ]
     },
     "metadata": {},
     "output_type": "display_data"
    }
   ],
   "source": [
    "# summarize feature importance\n",
    "for i,v in enumerate(rf_regressor.feature_importances_):\n",
    "    print('Feature: %0d, Score: %.5f' % (i,v))\n",
    "\n",
    "# plot feature importance\n",
    "plt.bar([x for x in range(len(rf_regressor.feature_importances_))], rf_regressor.feature_importances_)\n",
    "plt.show()"
   ]
  },
  {
   "cell_type": "code",
   "execution_count": 81,
   "id": "763226e8",
   "metadata": {},
   "outputs": [
    {
     "name": "stdout",
     "output_type": "stream",
     "text": [
      "\n",
      "The R2 score is 0.9272\n",
      "\n",
      "RMSE train is 0.0337\n",
      "\n",
      "RMSE test is 0.1233\n",
      "(839, 136)\n"
     ]
    }
   ],
   "source": [
    "from sklearn.preprocessing import PolynomialFeatures\n",
    "# Polynomial feature\n",
    "\n",
    "def polynomial_regression(X, y):\n",
    "\n",
    "    poly = PolynomialFeatures(2)\n",
    "    X_poly = poly.fit_transform(X)\n",
    "    X_train, X_test, y_train, y_test = train_test_split(X_poly, y, train_size=0.7, test_size=0.3, random_state=0)\n",
    "    \n",
    "    # Fitting the model\n",
    "    rf = RandomForestRegressor()\n",
    "    rf.fit(X_train, y_train)\n",
    "    y_pred_train = rf.predict(X_train)\n",
    "    y_pred_test = rf.predict(X_test)\n",
    "\n",
    "    rmse_train = mean_squared_error(y_train, y_pred_train, squared=False)\n",
    "    rmse_test = mean_squared_error(y_test, y_pred_test, squared=False)\n",
    "\n",
    "#     print(\"The model parameter (slopes) are\\n\", linear_regressor.coef_)\n",
    "#     print(f\"\\nThe model parameter (intercept) is {linear_regressor.intercept_:.4f}\")\n",
    "    \n",
    "    print(f\"\\nThe R2 score is {rf.score(X_train, y_train):.4f}\")\n",
    "\n",
    "    print(f\"\\nRMSE train is {rmse_train:.4f}\")\n",
    "    print(f\"\\nRMSE test is {rmse_test:.4f}\")\n",
    "    \n",
    "    print(X_poly.shape)\n",
    "    \n",
    "polynomial_regression(X, Y)"
   ]
  },
  {
   "cell_type": "markdown",
   "id": "5d51962e",
   "metadata": {},
   "source": [
    "Ada Boost Regressor"
   ]
  },
  {
   "cell_type": "code",
   "execution_count": 22,
   "id": "44ede2bc",
   "metadata": {},
   "outputs": [
    {
     "name": "stdout",
     "output_type": "stream",
     "text": [
      "Training accuracy: 0.286\n",
      "Testing accuracy by using score function: 0.096\n",
      "Testing accuracy by using r2_score meric: 0.096\n"
     ]
    }
   ],
   "source": [
    "from sklearn.ensemble import AdaBoostRegressor\n",
    "from sklearn.metrics import r2_score\n",
    "\n",
    "ab_regressor = AdaBoostRegressor()\n",
    "ab_regressor.fit(X_train, y_train)\n",
    "print('Training accuracy: {:.3f}'.format(ab_regressor.score(X_train, y_train)))\n",
    "\n",
    "print('Testing accuracy by using score function: {:.3f}'.format(ab_regressor.score(X_test, y_test)))\n",
    "print('Testing accuracy by using r2_score meric: {:.3f}'.format(r2_score(y_test, ab_regressor.predict(X_test))))"
   ]
  },
  {
   "cell_type": "code",
   "execution_count": 28,
   "id": "81aa0be0",
   "metadata": {},
   "outputs": [
    {
     "name": "stdout",
     "output_type": "stream",
     "text": [
      "Cross-validation scores:  [ 0.13036521 -0.05950407  0.15012277 -0.95937226  0.16024489  0.05783111\n",
      " -1.80719245  0.06709554  0.20207808 -0.11547601]\n",
      "Mean cross-validation score: -0.217\n"
     ]
    }
   ],
   "source": [
    "from sklearn.model_selection import cross_val_score\n",
    "\n",
    "# perform 10-fold cross-validation\n",
    "cv_scores = cross_val_score(ab_regressor, X_train, y_train, cv=10)\n",
    "\n",
    "# print the cross-validation scores\n",
    "print('Cross-validation scores: ', cv_scores)\n",
    "\n",
    "# print the mean of the cross-validation scores\n",
    "print('Mean cross-validation score: {:.3f}'.format(np.mean(cv_scores)))"
   ]
  },
  {
   "cell_type": "code",
   "execution_count": 54,
   "id": "630a3f1c",
   "metadata": {},
   "outputs": [
    {
     "name": "stdout",
     "output_type": "stream",
     "text": [
      "Root Mean Squared Error: 0.154\n"
     ]
    }
   ],
   "source": [
    "from sklearn.metrics import mean_squared_error\n",
    "\n",
    "# make predictions on the test set\n",
    "y_pred = ab_regressor.predict(X_test)\n",
    "\n",
    "# calculate the RMSE\n",
    "rmse = mean_squared_error(y_test, y_pred, squared=False)\n",
    "\n",
    "print('Root Mean Squared Error: {:.3f}'.format(rmse))"
   ]
  },
  {
   "cell_type": "code",
   "execution_count": 63,
   "id": "e9cc4e35",
   "metadata": {},
   "outputs": [
    {
     "name": "stdout",
     "output_type": "stream",
     "text": [
      "Feature: 0, Score: 0.00211\n",
      "Feature: 1, Score: 0.03534\n",
      "Feature: 2, Score: 0.28544\n",
      "Feature: 3, Score: 0.06085\n",
      "Feature: 4, Score: 0.17418\n",
      "Feature: 5, Score: 0.12707\n",
      "Feature: 6, Score: 0.17106\n",
      "Feature: 7, Score: 0.00805\n",
      "Feature: 8, Score: 0.00000\n",
      "Feature: 9, Score: 0.01417\n",
      "Feature: 10, Score: 0.02042\n",
      "Feature: 11, Score: 0.00379\n",
      "Feature: 12, Score: 0.00702\n",
      "Feature: 13, Score: 0.07973\n",
      "Feature: 14, Score: 0.01077\n"
     ]
    },
    {
     "data": {
      "image/png": "[encoded data removed]",
      "text/plain": [
       "<Figure size 640x480 with 1 Axes>"
      ]
     },
     "metadata": {},
     "output_type": "display_data"
    }
   ],
   "source": [
    "# summarize feature importance\n",
    "for i,v in enumerate(ab_regressor.feature_importances_):\n",
    "    print('Feature: %0d, Score: %.5f' % (i,v))\n",
    "\n",
    "# plot feature importance\n",
    "plt.bar([x for x in range(len(ab_regressor.feature_importances_))], ab_regressor.feature_importances_)\n",
    "plt.show()"
   ]
  },
  {
   "cell_type": "code",
   "execution_count": 23,
   "id": "b1c735b0",
   "metadata": {},
   "outputs": [
    {
     "name": "stdout",
     "output_type": "stream",
     "text": [
      "Training accuracy: 0.942\n",
      "Testing accuracy by using score function: 0.356\n",
      "Testing accuracy by using r2_score meric: 0.356\n"
     ]
    }
   ],
   "source": [
    "from sklearn.ensemble import GradientBoostingRegressor\n",
    "from sklearn.metrics import r2_score\n",
    "\n",
    "gb_regressor = GradientBoostingRegressor()\n",
    "gb_regressor.fit(X_train, y_train)\n",
    "print('Training accuracy: {:.3f}'.format(gb_regressor.score(X_train, y_train)))\n",
    "\n",
    "print('Testing accuracy by using score function: {:.3f}'.format(gb_regressor.score(X_test, y_test)))\n",
    "print('Testing accuracy by using r2_score meric: {:.3f}'.format(r2_score(y_test, gb_regressor.predict(X_test))))"
   ]
  },
  {
   "cell_type": "code",
   "execution_count": 29,
   "id": "1a8f499a",
   "metadata": {},
   "outputs": [
    {
     "name": "stdout",
     "output_type": "stream",
     "text": [
      "Cross-validation scores:  [ 0.49571346  0.28724248  0.24507075 -2.03940932  0.4923764   0.08233341\n",
      "  0.03744347  0.36124449  0.33158323  0.42203351]\n",
      "Mean cross-validation score: 0.072\n"
     ]
    }
   ],
   "source": [
    "from sklearn.model_selection import cross_val_score\n",
    "\n",
    "# perform 10-fold cross-validation\n",
    "cv_scores = cross_val_score(gb_regressor, X_train, y_train, cv=10)\n",
    "\n",
    "# print the cross-validation scores\n",
    "print('Cross-validation scores: ', cv_scores)\n",
    "\n",
    "# print the mean of the cross-validation scores\n",
    "print('Mean cross-validation score: {:.3f}'.format(np.mean(cv_scores)))"
   ]
  },
  {
   "cell_type": "code",
   "execution_count": 55,
   "id": "dd42d3ff",
   "metadata": {},
   "outputs": [
    {
     "name": "stdout",
     "output_type": "stream",
     "text": [
      "Root Mean Squared Error: 0.130\n"
     ]
    }
   ],
   "source": [
    "from sklearn.metrics import mean_squared_error\n",
    "\n",
    "# make predictions on the test set\n",
    "y_pred = gb_regressor.predict(X_test)\n",
    "\n",
    "# calculate the RMSE\n",
    "rmse = mean_squared_error(y_test, y_pred, squared=False)\n",
    "\n",
    "print('Root Mean Squared Error: {:.3f}'.format(rmse))"
   ]
  },
  {
   "cell_type": "code",
   "execution_count": 65,
   "id": "aff911fd",
   "metadata": {},
   "outputs": [
    {
     "name": "stdout",
     "output_type": "stream",
     "text": [
      "Feature: 0, Score: 0.00296\n",
      "Feature: 1, Score: 0.08496\n",
      "Feature: 2, Score: 0.42482\n",
      "Feature: 3, Score: 0.02430\n",
      "Feature: 4, Score: 0.20600\n",
      "Feature: 5, Score: 0.06851\n",
      "Feature: 6, Score: 0.04650\n",
      "Feature: 7, Score: 0.00073\n",
      "Feature: 8, Score: 0.00000\n",
      "Feature: 9, Score: 0.00911\n",
      "Feature: 10, Score: 0.00271\n",
      "Feature: 11, Score: 0.00873\n",
      "Feature: 12, Score: 0.04522\n",
      "Feature: 13, Score: 0.01476\n",
      "Feature: 14, Score: 0.06067\n"
     ]
    },
    {
     "data": {
      "image/png": "[encoded data removed]",
      "text/plain": [
       "<Figure size 640x480 with 1 Axes>"
      ]
     },
     "metadata": {},
     "output_type": "display_data"
    }
   ],
   "source": [
    "# summarize feature importance\n",
    "for i,v in enumerate(gb_regressor.feature_importances_):\n",
    "    print('Feature: %0d, Score: %.5f' % (i,v))\n",
    "\n",
    "# plot feature importance\n",
    "plt.bar([x for x in range(len(gb_regressor.feature_importances_))], gb_regressor.feature_importances_)\n",
    "plt.show()"
   ]
  }
 ],
 "metadata": {
  "kernelspec": {
   "display_name": "Python 3 (ipykernel)",
   "language": "python",
   "name": "python3"
  },
  "language_info": {
   "codemirror_mode": {
    "name": "ipython",
    "version": 3
   },
   "file_extension": ".py",
   "mimetype": "text/x-python",
   "name": "python",
   "nbconvert_exporter": "python",
   "pygments_lexer": "ipython3",
   "version": "3.10.9"
  }
 },
 "nbformat": 4,
 "nbformat_minor": 5
}
